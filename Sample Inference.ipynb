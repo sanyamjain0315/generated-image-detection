{
  "cells": [
    {
      "cell_type": "code",
      "execution_count": 6,
      "metadata": {
        "colab": {
          "base_uri": "https://localhost:8080/"
        },
        "id": "ekkWph4gsBHV",
        "outputId": "cd53e427-422d-46e8-b8dc-ecc58f9530ed"
      },
      "outputs": [
        {
          "name": "stdout",
          "output_type": "stream",
          "text": [
            "Defaulting to user installation because normal site-packages is not writeable\n",
            "Requirement already satisfied: kaggle in /home/dasu/.local/lib/python3.13/site-packages (1.7.4.2)\n",
            "Requirement already satisfied: Pillow in /usr/lib64/python3.13/site-packages (11.0.0)\n",
            "Requirement already satisfied: imageio in /home/dasu/.local/lib/python3.13/site-packages (2.37.0)\n",
            "Requirement already satisfied: matplotlib in /usr/lib64/python3.13/site-packages (3.9.4)\n",
            "Requirement already satisfied: pandas in /home/dasu/.local/lib/python3.13/site-packages (2.2.3)\n",
            "Requirement already satisfied: torchsummary in /home/dasu/.local/lib/python3.13/site-packages (1.5.1)\n",
            "Requirement already satisfied: bleach in /home/dasu/.local/lib/python3.13/site-packages (from kaggle) (6.2.0)\n",
            "Requirement already satisfied: certifi>=14.05.14 in /home/dasu/.local/lib/python3.13/site-packages (from kaggle) (2025.1.31)\n",
            "Requirement already satisfied: charset-normalizer in /usr/lib/python3.13/site-packages (from kaggle) (3.3.2)\n",
            "Requirement already satisfied: idna in /usr/lib/python3.13/site-packages (from kaggle) (3.7)\n",
            "Requirement already satisfied: protobuf in /home/dasu/.local/lib/python3.13/site-packages (from kaggle) (6.30.1)\n",
            "Requirement already satisfied: python-dateutil>=2.5.3 in /usr/lib/python3.13/site-packages (from kaggle) (2.8.2)\n",
            "Requirement already satisfied: python-slugify in /home/dasu/.local/lib/python3.13/site-packages (from kaggle) (8.0.4)\n",
            "Requirement already satisfied: requests in /usr/lib/python3.13/site-packages (from kaggle) (2.32.3)\n",
            "Requirement already satisfied: setuptools>=21.0.0 in /usr/lib/python3.13/site-packages (from kaggle) (69.2.0)\n",
            "Requirement already satisfied: six>=1.10 in /usr/lib/python3.13/site-packages (from kaggle) (1.16.0)\n",
            "Requirement already satisfied: text-unidecode in /home/dasu/.local/lib/python3.13/site-packages (from kaggle) (1.3)\n",
            "Requirement already satisfied: tqdm in /home/dasu/.local/lib/python3.13/site-packages (from kaggle) (4.67.1)\n",
            "Requirement already satisfied: urllib3>=1.15.1 in /usr/lib/python3.13/site-packages (from kaggle) (1.26.20)\n",
            "Requirement already satisfied: webencodings in /home/dasu/.local/lib/python3.13/site-packages (from kaggle) (0.5.1)\n",
            "Requirement already satisfied: numpy in /usr/lib64/python3.13/site-packages (from imageio) (1.26.4)\n",
            "Requirement already satisfied: contourpy>=1.0.1 in /usr/lib64/python3.13/site-packages (from matplotlib) (1.3.1)\n",
            "Requirement already satisfied: cycler>=0.10 in /usr/lib/python3.13/site-packages (from matplotlib) (0.11.0)\n",
            "Requirement already satisfied: fonttools>=4.22.0 in /usr/lib64/python3.13/site-packages (from matplotlib) (4.53.1)\n",
            "Requirement already satisfied: kiwisolver>=1.3.1 in /usr/lib64/python3.13/site-packages (from matplotlib) (1.4.8)\n",
            "Requirement already satisfied: packaging>=20.0 in /usr/lib/python3.13/site-packages (from matplotlib) (24.2)\n",
            "Requirement already satisfied: pyparsing>=2.3.1 in /usr/lib/python3.13/site-packages (from matplotlib) (3.1.2)\n",
            "Requirement already satisfied: pytz>=2020.1 in /home/dasu/.local/lib/python3.13/site-packages (from pandas) (2025.1)\n",
            "Requirement already satisfied: tzdata>=2022.7 in /home/dasu/.local/lib/python3.13/site-packages (from pandas) (2025.1)\n",
            "mkdir: cannot create directory ‘/home/dasu/.kaggle’: File exists\n",
            "zsh:1: command not found: kaggle\n"
          ]
        },
        {
          "ename": "ReadError",
          "evalue": "140k-real-and-fake-faces.zip is not a zip file",
          "output_type": "error",
          "traceback": [
            "\u001b[31m---------------------------------------------------------------------------\u001b[39m",
            "\u001b[31mReadError\u001b[39m                                 Traceback (most recent call last)",
            "\u001b[36mCell\u001b[39m\u001b[36m \u001b[39m\u001b[32mIn[6]\u001b[39m\u001b[32m, line 8\u001b[39m\n\u001b[32m      5\u001b[39m get_ipython().system(\u001b[33m'\u001b[39m\u001b[33m kaggle datasets download xhlulu/140k-real-and-fake-faces\u001b[39m\u001b[33m'\u001b[39m)\n\u001b[32m      7\u001b[39m \u001b[38;5;28;01mimport\u001b[39;00m\u001b[38;5;250m \u001b[39m\u001b[34;01mshutil\u001b[39;00m\n\u001b[32m----> \u001b[39m\u001b[32m8\u001b[39m \u001b[43mshutil\u001b[49m\u001b[43m.\u001b[49m\u001b[43munpack_archive\u001b[49m\u001b[43m(\u001b[49m\u001b[33;43m'\u001b[39;49m\u001b[33;43m140k-real-and-fake-faces.zip\u001b[39;49m\u001b[33;43m'\u001b[39;49m\u001b[43m)\u001b[49m\n",
            "\u001b[36mFile \u001b[39m\u001b[32m/usr/lib64/python3.13/shutil.py:1360\u001b[39m, in \u001b[36munpack_archive\u001b[39m\u001b[34m(filename, extract_dir, format, filter)\u001b[39m\n\u001b[32m   1358\u001b[39m func = _UNPACK_FORMATS[\u001b[38;5;28mformat\u001b[39m][\u001b[32m1\u001b[39m]\n\u001b[32m   1359\u001b[39m kwargs = \u001b[38;5;28mdict\u001b[39m(_UNPACK_FORMATS[\u001b[38;5;28mformat\u001b[39m][\u001b[32m2\u001b[39m]) | filter_kwargs\n\u001b[32m-> \u001b[39m\u001b[32m1360\u001b[39m \u001b[43mfunc\u001b[49m\u001b[43m(\u001b[49m\u001b[43mfilename\u001b[49m\u001b[43m,\u001b[49m\u001b[43m \u001b[49m\u001b[43mextract_dir\u001b[49m\u001b[43m,\u001b[49m\u001b[43m \u001b[49m\u001b[43m*\u001b[49m\u001b[43m*\u001b[49m\u001b[43mkwargs\u001b[49m\u001b[43m)\u001b[49m\n",
            "\u001b[36mFile \u001b[39m\u001b[32m/usr/lib64/python3.13/shutil.py:1247\u001b[39m, in \u001b[36m_unpack_zipfile\u001b[39m\u001b[34m(filename, extract_dir)\u001b[39m\n\u001b[32m   1244\u001b[39m \u001b[38;5;28;01mimport\u001b[39;00m\u001b[38;5;250m \u001b[39m\u001b[34;01mzipfile\u001b[39;00m  \u001b[38;5;66;03m# late import for breaking circular dependency\u001b[39;00m\n\u001b[32m   1246\u001b[39m \u001b[38;5;28;01mif\u001b[39;00m \u001b[38;5;129;01mnot\u001b[39;00m zipfile.is_zipfile(filename):\n\u001b[32m-> \u001b[39m\u001b[32m1247\u001b[39m     \u001b[38;5;28;01mraise\u001b[39;00m ReadError(\u001b[33m\"\u001b[39m\u001b[38;5;132;01m%s\u001b[39;00m\u001b[33m is not a zip file\u001b[39m\u001b[33m\"\u001b[39m % filename)\n\u001b[32m   1249\u001b[39m \u001b[38;5;28mzip\u001b[39m = zipfile.ZipFile(filename)\n\u001b[32m   1250\u001b[39m \u001b[38;5;28;01mtry\u001b[39;00m:\n",
            "\u001b[31mReadError\u001b[39m: 140k-real-and-fake-faces.zip is not a zip file"
          ]
        }
      ],
      "source": [
        "!pip install kaggle Pillow imageio matplotlib pandas torchsummary\n",
        "!mkdir ~/.kaggle\n",
        "!cp kaggle.json ~/.kaggle/\n",
        "!chmod 600 ~/.kaggle/kaggle.json\n",
        "! kaggle datasets download xhlulu/140k-real-and-fake-faces\n",
        "\n",
        "import shutil\n",
        "shutil.unpack_archive('140k-real-and-fake-faces.zip')"
      ]
    },
    {
      "cell_type": "code",
      "execution_count": 7,
      "metadata": {
        "id": "xWpIexXDq7DG"
      },
      "outputs": [],
      "source": [
        "import os\n",
        "import numpy as np\n",
        "import datetime\n",
        "from copy import deepcopy\n",
        "from tqdm import tqdm\n",
        "import random\n",
        "import matplotlib.pyplot as plt\n",
        "import torch\n",
        "import torch.nn as nn\n",
        "import torch.optim as optim\n",
        "from torch.utils.data import DataLoader, Subset\n",
        "import torchvision\n",
        "from torchvision.utils import save_image\n",
        "import torchvision.datasets as datasets\n",
        "import torchvision.transforms as transforms\n",
        "from torchsummary import summary\n",
        "\n",
        "device = \"cuda\" if torch.cuda.is_available() else \"cpu\""
      ]
    },
    {
      "cell_type": "code",
      "execution_count": 8,
      "metadata": {
        "id": "BU9w4ec-rpIT"
      },
      "outputs": [],
      "source": [
        "# Parameters\n",
        "device = \"cuda\" if torch.cuda.is_available() else \"cpu\"\n",
        "BATCH_SIZE = 256\n",
        "IMAGE_SIZE = 64\n",
        "CHANNELS_IMG = 3\n",
        "Z_DIM = 100\n",
        "FEATURES_CRITIC = 64\n",
        "FEATURES_GEN = 64"
      ]
    },
    {
      "cell_type": "code",
      "execution_count": 10,
      "metadata": {
        "colab": {
          "base_uri": "https://localhost:8080/"
        },
        "id": "ZIqpiUJsuu8F",
        "outputId": "44e28a6b-739e-4c3d-c798-7c300db6c841"
      },
      "outputs": [
        {
          "data": {
            "text/plain": [
              "Generator(\n",
              "  (net): Sequential(\n",
              "    (0): Sequential(\n",
              "      (0): ConvTranspose2d(100, 1024, kernel_size=(2, 2), stride=(1, 1), bias=False)\n",
              "      (1): BatchNorm2d(1024, eps=1e-05, momentum=0.1, affine=True, track_running_stats=True)\n",
              "      (2): ReLU()\n",
              "    )\n",
              "    (1): Sequential(\n",
              "      (0): ConvTranspose2d(1024, 512, kernel_size=(4, 4), stride=(2, 2), padding=(1, 1), bias=False)\n",
              "      (1): BatchNorm2d(512, eps=1e-05, momentum=0.1, affine=True, track_running_stats=True)\n",
              "      (2): ReLU()\n",
              "    )\n",
              "    (2): Sequential(\n",
              "      (0): ConvTranspose2d(512, 256, kernel_size=(4, 4), stride=(2, 2), padding=(1, 1), bias=False)\n",
              "      (1): BatchNorm2d(256, eps=1e-05, momentum=0.1, affine=True, track_running_stats=True)\n",
              "      (2): ReLU()\n",
              "    )\n",
              "    (3): Sequential(\n",
              "      (0): ConvTranspose2d(256, 128, kernel_size=(4, 4), stride=(2, 2), padding=(1, 1), bias=False)\n",
              "      (1): BatchNorm2d(128, eps=1e-05, momentum=0.1, affine=True, track_running_stats=True)\n",
              "      (2): ReLU()\n",
              "    )\n",
              "    (4): Sequential(\n",
              "      (0): ConvTranspose2d(128, 64, kernel_size=(4, 4), stride=(2, 2), padding=(1, 1), bias=False)\n",
              "      (1): BatchNorm2d(64, eps=1e-05, momentum=0.1, affine=True, track_running_stats=True)\n",
              "      (2): ReLU()\n",
              "    )\n",
              "    (5): ConvTranspose2d(64, 3, kernel_size=(4, 4), stride=(2, 2), padding=(1, 1))\n",
              "    (6): Tanh()\n",
              "  )\n",
              ")"
            ]
          },
          "execution_count": 10,
          "metadata": {},
          "output_type": "execute_result"
        }
      ],
      "source": [
        "class Generator(nn.Module):\n",
        "    def __init__(self, channels_noise, channels_img, features_g):\n",
        "        super(Generator, self).__init__()\n",
        "        self.net = nn.Sequential(\n",
        "            # Input: N x channels_noise x 1 x 1\n",
        "            self._block(channels_noise, features_g * 16, 2, 1, 0),  # img: 2x2\n",
        "            self._block(features_g * 16, features_g * 8, 4, 2, 1),  # img: 4x4\n",
        "            self._block(features_g * 8, features_g * 4, 4, 2, 1),  # img: 8x8\n",
        "            self._block(features_g * 4, features_g * 2, 4, 2, 1),  # img: 16x16\n",
        "            self._block(features_g * 2, features_g, 4, 2, 1),  # img: 32x32\n",
        "            nn.ConvTranspose2d(\n",
        "                features_g, channels_img, kernel_size=4, stride=2, padding=1\n",
        "            ),\n",
        "            # Output: N x channels_img x 64 x 64\n",
        "            nn.Tanh(),\n",
        "        )\n",
        "\n",
        "    def _block(self, in_channels, out_channels, kernel_size, stride, padding):\n",
        "        return nn.Sequential(\n",
        "            nn.ConvTranspose2d(\n",
        "                in_channels,\n",
        "                out_channels,\n",
        "                kernel_size,\n",
        "                stride,\n",
        "                padding,\n",
        "                bias=False,\n",
        "            ),\n",
        "            nn.BatchNorm2d(out_channels),\n",
        "            nn.ReLU(),\n",
        "        )\n",
        "\n",
        "    def forward(self, x):\n",
        "        return self.net(x)\n",
        "\n",
        "gen = Generator(Z_DIM, CHANNELS_IMG, FEATURES_GEN)\n",
        "gen.to(device)\n",
        "gen.load_state_dict(torch.load(\"generator.pth\", weights_only=True))\n",
        "gen.eval()"
      ]
    },
    {
      "cell_type": "code",
      "execution_count": 11,
      "metadata": {
        "colab": {
          "base_uri": "https://localhost:8080/"
        },
        "id": "gayhIPWHrD2S",
        "outputId": "3e7f5975-dafe-4e65-8aa7-4c6cec924772"
      },
      "outputs": [
        {
          "name": "stdout",
          "output_type": "stream",
          "text": [
            "----------------------------------------------------------------\n",
            "        Layer (type)               Output Shape         Param #\n",
            "================================================================\n",
            "            Conv2d-1           [-1, 64, 32, 32]           3,136\n",
            "         LeakyReLU-2           [-1, 64, 32, 32]               0\n",
            "            Conv2d-3          [-1, 128, 16, 16]         131,072\n",
            "    InstanceNorm2d-4          [-1, 128, 16, 16]             256\n",
            "         LeakyReLU-5          [-1, 128, 16, 16]               0\n",
            "            Conv2d-6            [-1, 256, 8, 8]         524,288\n",
            "    InstanceNorm2d-7            [-1, 256, 8, 8]             512\n",
            "         LeakyReLU-8            [-1, 256, 8, 8]               0\n",
            "            Conv2d-9            [-1, 512, 4, 4]       2,097,152\n",
            "   InstanceNorm2d-10            [-1, 512, 4, 4]           1,024\n",
            "        LeakyReLU-11            [-1, 512, 4, 4]               0\n",
            "           Conv2d-12           [-1, 1024, 2, 2]       8,388,608\n",
            "   InstanceNorm2d-13           [-1, 1024, 2, 2]           2,048\n",
            "        LeakyReLU-14           [-1, 1024, 2, 2]               0\n",
            "           Conv2d-15              [-1, 1, 1, 1]           4,097\n",
            "          Flatten-16                    [-1, 1]               0\n",
            "          Sigmoid-17                    [-1, 1]               0\n",
            "================================================================\n",
            "Total params: 11,152,193\n",
            "Trainable params: 11,152,193\n",
            "Non-trainable params: 0\n",
            "----------------------------------------------------------------\n",
            "Input size (MB): 0.05\n",
            "Forward/backward pass size (MB): 2.41\n",
            "Params size (MB): 42.54\n",
            "Estimated Total Size (MB): 45.00\n",
            "----------------------------------------------------------------\n"
          ]
        }
      ],
      "source": [
        "class Discriminator(nn.Module):\n",
        "    def __init__(self, channels_img, features_d):\n",
        "        super(Discriminator, self).__init__()\n",
        "        self.disc = nn.Sequential(\n",
        "            # input: N x channels_img x 64 x 64\n",
        "            nn.Conv2d(\n",
        "                channels_img, features_d, kernel_size=4, stride=2, padding=1\n",
        "            ),\n",
        "            nn.LeakyReLU(0.2),\n",
        "            # _block(in_channels, out_channels, kernel_size, stride, padding)\n",
        "            self._block(features_d, features_d * 2, 4, 2, 1),\n",
        "            self._block(features_d * 2, features_d * 4, 4, 2, 1),\n",
        "            self._block(features_d * 4, features_d * 8, 4, 2, 1),\n",
        "            self._block(features_d * 8, features_d * 16, 4, 2, 1),\n",
        "            # After all _block img output is 4x4 (Conv2d below makes into 1x1)\n",
        "            nn.Conv2d(features_d * 16, 1, kernel_size=2, stride=1, padding=0),\n",
        "            nn.Flatten(),\n",
        "            nn.Sigmoid(),\n",
        "        )\n",
        "\n",
        "    def _block(self, in_channels, out_channels, kernel_size, stride, padding):\n",
        "        return nn.Sequential(\n",
        "            nn.Conv2d(\n",
        "                in_channels,\n",
        "                out_channels,\n",
        "                kernel_size,\n",
        "                stride,\n",
        "                padding,\n",
        "                bias=False,\n",
        "            ),\n",
        "            nn.InstanceNorm2d(out_channels, affine=True),\n",
        "            nn.LeakyReLU(0.2),\n",
        "        )\n",
        "\n",
        "    def forward(self, x):\n",
        "        return self.disc(x)\n",
        "\n",
        "critic = Discriminator(CHANNELS_IMG, FEATURES_CRITIC).to(device)\n",
        "summary(critic, ( 3, 64, 64))"
      ]
    },
    {
      "cell_type": "code",
      "execution_count": 14,
      "metadata": {
        "colab": {
          "base_uri": "https://localhost:8080/"
        },
        "id": "RIJ-KPvorYNk",
        "outputId": "58146490-4786-4381-b591-143bf800eea5"
      },
      "outputs": [
        {
          "name": "stdout",
          "output_type": "stream",
          "text": [
            "No. of testing images:  20000\n"
          ]
        }
      ],
      "source": [
        "data_transforms = transforms.Compose([\n",
        "    transforms.Resize(IMAGE_SIZE),\n",
        "    transforms.ToTensor(),\n",
        "    transforms.Normalize([0.5] * CHANNELS_IMG, [0.5] * CHANNELS_IMG),\n",
        "])\n",
        "\n",
        "dataset = datasets.ImageFolder(root=\"data/real_vs_fake/test\", transform=data_transforms)\n",
        "real_class_idx = dataset.class_to_idx[\"real\"]\n",
        "fake_class_idx = dataset.class_to_idx[\"fake\"]\n",
        "real_indices = [i for i, label in enumerate(dataset.targets) if label==real_class_idx]\n",
        "fake_indices = [i for i, label in enumerate(dataset.targets) if label==fake_class_idx]\n",
        "# real_subset_indices = random.sample(real_indices, 2500)\n",
        "# fake_subset_indices = random.sample(fake_indices, 2500)\n",
        "# subset_indices = real_subset_indices + fake_subset_indices\n",
        "real_subset = Subset(dataset, real_indices)\n",
        "fake_subset = Subset(dataset, fake_indices)\n",
        "# test_loader = DataLoader(subset_dataset, batch_size=BATCH_SIZE, shuffle=False, drop_last=True)\n",
        "real_loader = DataLoader(real_subset, batch_size=BATCH_SIZE, shuffle=False, drop_last=True)\n",
        "fake_loader = DataLoader(fake_subset, batch_size=BATCH_SIZE, shuffle=False, drop_last=True)\n",
        "print(\"No. of testing images: \", len(dataset))"
      ]
    },
    {
      "cell_type": "code",
      "execution_count": 15,
      "metadata": {
        "colab": {
          "base_uri": "https://localhost:8080/"
        },
        "id": "D_mKv4EdryKw",
        "outputId": "0533e4c6-6f82-40ca-87d4-30ad29a4b514"
      },
      "outputs": [
        {
          "data": {
            "text/plain": [
              "Discriminator(\n",
              "  (disc): Sequential(\n",
              "    (0): Conv2d(3, 64, kernel_size=(4, 4), stride=(2, 2), padding=(1, 1))\n",
              "    (1): LeakyReLU(negative_slope=0.2)\n",
              "    (2): Sequential(\n",
              "      (0): Conv2d(64, 128, kernel_size=(4, 4), stride=(2, 2), padding=(1, 1), bias=False)\n",
              "      (1): InstanceNorm2d(128, eps=1e-05, momentum=0.1, affine=True, track_running_stats=False)\n",
              "      (2): LeakyReLU(negative_slope=0.2)\n",
              "    )\n",
              "    (3): Sequential(\n",
              "      (0): Conv2d(128, 256, kernel_size=(4, 4), stride=(2, 2), padding=(1, 1), bias=False)\n",
              "      (1): InstanceNorm2d(256, eps=1e-05, momentum=0.1, affine=True, track_running_stats=False)\n",
              "      (2): LeakyReLU(negative_slope=0.2)\n",
              "    )\n",
              "    (4): Sequential(\n",
              "      (0): Conv2d(256, 512, kernel_size=(4, 4), stride=(2, 2), padding=(1, 1), bias=False)\n",
              "      (1): InstanceNorm2d(512, eps=1e-05, momentum=0.1, affine=True, track_running_stats=False)\n",
              "      (2): LeakyReLU(negative_slope=0.2)\n",
              "    )\n",
              "    (5): Sequential(\n",
              "      (0): Conv2d(512, 1024, kernel_size=(4, 4), stride=(2, 2), padding=(1, 1), bias=False)\n",
              "      (1): InstanceNorm2d(1024, eps=1e-05, momentum=0.1, affine=True, track_running_stats=False)\n",
              "      (2): LeakyReLU(negative_slope=0.2)\n",
              "    )\n",
              "    (6): Conv2d(1024, 1, kernel_size=(2, 2), stride=(1, 1))\n",
              "    (7): Flatten(start_dim=1, end_dim=-1)\n",
              "    (8): Sigmoid()\n",
              "  )\n",
              ")"
            ]
          },
          "execution_count": 15,
          "metadata": {},
          "output_type": "execute_result"
        }
      ],
      "source": [
        "critic = Discriminator(CHANNELS_IMG, FEATURES_CRITIC).to(device)\n",
        "critic.load_state_dict(torch.load(\"critic_retrained.pth\", weights_only=True))\n",
        "critic.eval()"
      ]
    },
    {
      "cell_type": "code",
      "execution_count": 16,
      "metadata": {
        "colab": {
          "base_uri": "https://localhost:8080/",
          "height": 487
        },
        "id": "6goYs0Ars2P6",
        "outputId": "c3a01099-8b66-442d-e9c8-968bdf0eb1e4"
      },
      "outputs": [
        {
          "name": "stdout",
          "output_type": "stream",
          "text": [
            "torch.Size([3, 64, 64])\n",
            "True label: tensor(1)\n",
            "Predicted label: tensor(0.9999, device='cuda:0', grad_fn=<SqueezeBackward0>)\n"
          ]
        },
        {
          "data": {
            "image/png": "[encoded data removed]",
            "text/plain": [
              "<Figure size 640x480 with 1 Axes>"
            ]
          },
          "metadata": {},
          "output_type": "display_data"
        }
      ],
      "source": [
        "# For real\n",
        "for i, labels in real_loader:\n",
        "    image = i[0]\n",
        "    print(image.shape)\n",
        "    plt.imshow((image.permute(1, 2, 0) + 1)/2)\n",
        "    label = labels[0]\n",
        "    image = image[None,:,:,:]\n",
        "    image = image.to(device)\n",
        "    print(\"True label:\", label.squeeze())\n",
        "    print(\"Predicted label:\", critic(image).squeeze())\n",
        "    break"
      ]
    },
    {
      "cell_type": "code",
      "execution_count": 17,
      "metadata": {
        "colab": {
          "base_uri": "https://localhost:8080/",
          "height": 487
        },
        "id": "sygjL2ECtHRc",
        "outputId": "53edee46-f423-402d-8af0-a7c95516222a"
      },
      "outputs": [
        {
          "name": "stdout",
          "output_type": "stream",
          "text": [
            "torch.Size([3, 64, 64])\n",
            "True label: 0\n",
            "Predicted label: tensor(0.0006, device='cuda:0', grad_fn=<SqueezeBackward0>)\n"
          ]
        },
        {
          "data": {
            "image/png": "[encoded data removed]",
            "text/plain": [
              "<Figure size 640x480 with 1 Axes>"
            ]
          },
          "metadata": {},
          "output_type": "display_data"
        }
      ],
      "source": [
        "# For fake\n",
        "for i, labels in fake_loader:\n",
        "    image = gen(torch.randn(1, Z_DIM, 1, 1).to(device)).to(device)\n",
        "    image = image[0]\n",
        "    print(image.shape)\n",
        "    plt.imshow((image.cpu().detach().permute(1, 2, 0) + 1)/2)\n",
        "    label = 0\n",
        "    image = image[None,:,:,:]\n",
        "    image = image.to(device)\n",
        "    print(\"True label:\", label)\n",
        "    print(\"Predicted label:\", critic(image).squeeze())\n",
        "    break"
      ]
    },
    {
      "cell_type": "code",
      "execution_count": null,
      "metadata": {
        "id": "2NJBvYLVwtsm"
      },
      "outputs": [],
      "source": []
    }
  ],
  "metadata": {
    "accelerator": "GPU",
    "colab": {
      "gpuType": "T4",
      "provenance": []
    },
    "kernelspec": {
      "display_name": "usr",
      "language": "python",
      "name": "python3"
    },
    "language_info": {
      "codemirror_mode": {
        "name": "ipython",
        "version": 3
      },
      "file_extension": ".py",
      "mimetype": "text/x-python",
      "name": "python",
      "nbconvert_exporter": "python",
      "pygments_lexer": "ipython3",
      "version": "3.13.2"
    }
  },
  "nbformat": 4,
  "nbformat_minor": 0
}
