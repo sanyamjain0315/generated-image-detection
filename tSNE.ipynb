{
  "nbformat": 4,
  "nbformat_minor": 0,
  "metadata": {
    "colab": {
      "provenance": [],
      "gpuType": "V28"
    },
    "kernelspec": {
      "name": "python3",
      "display_name": "Python 3"
    },
    "language_info": {
      "name": "python"
    },
    "accelerator": "TPU"
  },
  "cells": [
    {
      "cell_type": "markdown",
      "source": [
        "# tSNE"
      ],
      "metadata": {
        "id": "OvBkdthbqlzf"
      }
    },
    {
      "cell_type": "code",
      "execution_count": 1,
      "metadata": {
        "id": "rStyiQMcT_XV",
        "colab": {
          "base_uri": "https://localhost:8080/"
        },
        "outputId": "612f4a5b-138c-405b-ab39-7bc90c007143"
      },
      "outputs": [
        {
          "output_type": "stream",
          "name": "stdout",
          "text": [
            "Requirement already satisfied: kaggle in /usr/local/lib/python3.11/dist-packages (1.7.4.2)\n",
            "Requirement already satisfied: Pillow in /usr/local/lib/python3.11/dist-packages (11.2.0)\n",
            "Requirement already satisfied: imageio in /usr/local/lib/python3.11/dist-packages (2.37.0)\n",
            "Requirement already satisfied: matplotlib in /usr/local/lib/python3.11/dist-packages (3.10.0)\n",
            "Requirement already satisfied: pandas in /usr/local/lib/python3.11/dist-packages (2.2.2)\n",
            "Collecting torchsummary\n",
            "  Downloading torchsummary-1.5.1-py3-none-any.whl.metadata (296 bytes)\n",
            "Requirement already satisfied: bleach in /usr/local/lib/python3.11/dist-packages (from kaggle) (6.2.0)\n",
            "Requirement already satisfied: certifi>=14.05.14 in /usr/local/lib/python3.11/dist-packages (from kaggle) (2025.1.31)\n",
            "Requirement already satisfied: charset-normalizer in /usr/local/lib/python3.11/dist-packages (from kaggle) (3.4.1)\n",
            "Requirement already satisfied: idna in /usr/local/lib/python3.11/dist-packages (from kaggle) (3.10)\n",
            "Requirement already satisfied: protobuf in /usr/local/lib/python3.11/dist-packages (from kaggle) (5.29.4)\n",
            "Requirement already satisfied: python-dateutil>=2.5.3 in /usr/local/lib/python3.11/dist-packages (from kaggle) (2.9.0.post0)\n",
            "Requirement already satisfied: python-slugify in /usr/local/lib/python3.11/dist-packages (from kaggle) (8.0.4)\n",
            "Requirement already satisfied: requests in /usr/local/lib/python3.11/dist-packages (from kaggle) (2.32.3)\n",
            "Requirement already satisfied: setuptools>=21.0.0 in /usr/local/lib/python3.11/dist-packages (from kaggle) (75.2.0)\n",
            "Requirement already satisfied: six>=1.10 in /usr/local/lib/python3.11/dist-packages (from kaggle) (1.17.0)\n",
            "Requirement already satisfied: text-unidecode in /usr/local/lib/python3.11/dist-packages (from kaggle) (1.3)\n",
            "Requirement already satisfied: tqdm in /usr/local/lib/python3.11/dist-packages (from kaggle) (4.67.1)\n",
            "Requirement already satisfied: urllib3>=1.15.1 in /usr/local/lib/python3.11/dist-packages (from kaggle) (2.3.0)\n",
            "Requirement already satisfied: webencodings in /usr/local/lib/python3.11/dist-packages (from kaggle) (0.5.1)\n",
            "Requirement already satisfied: numpy in /usr/local/lib/python3.11/dist-packages (from imageio) (2.0.2)\n",
            "Requirement already satisfied: contourpy>=1.0.1 in /usr/local/lib/python3.11/dist-packages (from matplotlib) (1.3.1)\n",
            "Requirement already satisfied: cycler>=0.10 in /usr/local/lib/python3.11/dist-packages (from matplotlib) (0.12.1)\n",
            "Requirement already satisfied: fonttools>=4.22.0 in /usr/local/lib/python3.11/dist-packages (from matplotlib) (4.56.0)\n",
            "Requirement already satisfied: kiwisolver>=1.3.1 in /usr/local/lib/python3.11/dist-packages (from matplotlib) (1.4.8)\n",
            "Requirement already satisfied: packaging>=20.0 in /usr/local/lib/python3.11/dist-packages (from matplotlib) (24.2)\n",
            "Requirement already satisfied: pyparsing>=2.3.1 in /usr/local/lib/python3.11/dist-packages (from matplotlib) (3.2.3)\n",
            "Requirement already satisfied: pytz>=2020.1 in /usr/local/lib/python3.11/dist-packages (from pandas) (2025.2)\n",
            "Requirement already satisfied: tzdata>=2022.7 in /usr/local/lib/python3.11/dist-packages (from pandas) (2025.2)\n",
            "Downloading torchsummary-1.5.1-py3-none-any.whl (2.8 kB)\n",
            "Installing collected packages: torchsummary\n",
            "Successfully installed torchsummary-1.5.1\n",
            "Dataset URL: https://www.kaggle.com/datasets/xhlulu/140k-real-and-fake-faces\n",
            "License(s): other\n"
          ]
        }
      ],
      "source": [
        "!pip install kaggle Pillow imageio matplotlib pandas torchsummary\n",
        "!mkdir ~/.kaggle\n",
        "!cp kaggle.json ~/.kaggle/\n",
        "!chmod 600 ~/.kaggle/kaggle.json\n",
        "! kaggle datasets download xhlulu/140k-real-and-fake-faces\n",
        "\n",
        "import shutil\n",
        "shutil.unpack_archive('140k-real-and-fake-faces.zip')"
      ]
    },
    {
      "cell_type": "code",
      "source": [
        "import os\n",
        "import numpy as np\n",
        "from tqdm import tqdm\n",
        "import datetime\n",
        "from copy import deepcopy\n",
        "import matplotlib.pyplot as plt\n",
        "from PIL import Image\n",
        "import torch\n",
        "import torch.nn as nn\n",
        "import torch.optim as optim\n",
        "import torch.nn.functional as F\n",
        "from torch.utils.data import DataLoader, Subset, Dataset\n",
        "import torchvision\n",
        "import torchvision.datasets as datasets\n",
        "import torchvision.transforms as transforms\n",
        "torch.manual_seed(69)"
      ],
      "metadata": {
        "id": "gCD26A_YUMV4",
        "colab": {
          "base_uri": "https://localhost:8080/"
        },
        "outputId": "606cbee6-4ae9-4a30-c3d8-c363409d20fd"
      },
      "execution_count": 2,
      "outputs": [
        {
          "output_type": "execute_result",
          "data": {
            "text/plain": [
              "<torch._C.Generator at 0x7cbeeadec7b0>"
            ]
          },
          "metadata": {},
          "execution_count": 2
        }
      ]
    },
    {
      "cell_type": "code",
      "source": [
        "# Hyperparameters\n",
        "DEVICE = \"cuda\" if torch.cuda.is_available() else \"cpu\"\n",
        "BATCH_SIZE = 256\n",
        "IMAGE_SIZE = 128\n",
        "CHANNELS_IMG = 3\n",
        "Z_DIM = 256\n",
        "NUM_WORKERS = 2\n",
        "CHECKPOINT_PRO_GEN = \"pro_generator_128_2.pth\"\n",
        "CHECKPOINT_PRO_DISC = \"pro_disc_128_3.pth\"\n",
        "PRO_LR = 5.5e-4\n",
        "FACTORS = [1, 1/2, 1/4, 1/8, 1/16, 1/32]\n",
        "IN_CHANNELS = 512"
      ],
      "metadata": {
        "id": "1ow_E4daUSBr"
      },
      "execution_count": 3,
      "outputs": []
    },
    {
      "cell_type": "code",
      "source": [
        "def load_checkpoint(checkpoint_file, model, optimizer=None, lr=None):\n",
        "    checkpoint = torch.load(checkpoint_file, map_location=DEVICE, weights_only=True)\n",
        "    model.load_state_dict(checkpoint[\"state_dict\"])\n",
        "\n",
        "    if optimizer is not None:\n",
        "        optimizer.load_state_dict(checkpoint[\"optimizer\"])\n",
        "\n",
        "        # If we don't do this then it will just have learning rate of old checkpoint\n",
        "        # and it will lead to many hours of debugging \\:\n",
        "        for param_group in optimizer.param_groups:\n",
        "            param_group[\"lr\"] = lr\n",
        "    print(\"=> Loaded checkpoint\")"
      ],
      "metadata": {
        "id": "kCUXn_--3w4k"
      },
      "execution_count": 4,
      "outputs": []
    },
    {
      "cell_type": "markdown",
      "source": [
        "## Data"
      ],
      "metadata": {
        "id": "Yo75mdN_2B6x"
      }
    },
    {
      "cell_type": "code",
      "source": [
        "REAL_FOLDER = \"/content/real_vs_fake/real-vs-fake/test/real\""
      ],
      "metadata": {
        "id": "yO6GT4d-U1o0"
      },
      "execution_count": 5,
      "outputs": []
    },
    {
      "cell_type": "code",
      "source": [
        "real_paths = [os.path.join(root, file) for root, _, files in os.walk(REAL_FOLDER) for file in files][:BATCH_SIZE]\n",
        "print(\"real count:\",len(real_paths))"
      ],
      "metadata": {
        "colab": {
          "base_uri": "https://localhost:8080/"
        },
        "id": "r6sYVLjZUfYn",
        "outputId": "1e53d426-0ba0-4c96-c403-aa19f62f8eef"
      },
      "execution_count": 6,
      "outputs": [
        {
          "output_type": "stream",
          "name": "stdout",
          "text": [
            "real count: 256\n"
          ]
        }
      ]
    },
    {
      "cell_type": "code",
      "source": [
        "class ImageDataset(Dataset):\n",
        "    def __init__(self, image_paths, transform=None):\n",
        "        \"\"\"\n",
        "        Args:\n",
        "            image_paths (list): List of image file paths.\n",
        "            transform (callable, optional): Optional transform to be applied on an image.\n",
        "        \"\"\"\n",
        "        self.image_paths = image_paths\n",
        "        self.transform = transform\n",
        "\n",
        "    def __len__(self):\n",
        "        return len(self.image_paths)\n",
        "\n",
        "    def __getitem__(self, idx):\n",
        "        img_path = self.image_paths[idx]\n",
        "        image = Image.open(img_path).convert(\"RGB\")  # Open image and convert to RGB\n",
        "\n",
        "        if self.transform:\n",
        "            image = self.transform(image)\n",
        "\n",
        "        return image"
      ],
      "metadata": {
        "id": "PAdgVtRkudrG"
      },
      "execution_count": 7,
      "outputs": []
    },
    {
      "cell_type": "code",
      "source": [
        "transform = transforms.Compose([\n",
        "  transforms.Resize(IMAGE_SIZE),\n",
        "  transforms.ToTensor(),\n",
        "  transforms.Normalize(\n",
        "      [0.5 for _ in range(3)],\n",
        "      [0.5 for _ in range(3)]),\n",
        "])\n",
        "\n",
        "real_dataset = ImageDataset(real_paths, transform=transform)\n",
        "\n",
        "real_dataloader = DataLoader(real_dataset, batch_size=BATCH_SIZE, num_workers=NUM_WORKERS)"
      ],
      "metadata": {
        "id": "wbQ8PzAG2DXn"
      },
      "execution_count": 8,
      "outputs": []
    },
    {
      "cell_type": "markdown",
      "source": [
        "## Models"
      ],
      "metadata": {
        "id": "vyn9y6pk3ksW"
      }
    },
    {
      "cell_type": "code",
      "source": [
        "class WSConv2d(nn.Module):\n",
        "    \"\"\"\n",
        "    Weight scaled Conv2d (Equalized Learning Rate)\n",
        "    Note that input is multiplied rather than changing weights\n",
        "    this will have the same result.\n",
        "\n",
        "    Inspired and looked at:\n",
        "    https://github.com/nvnbny/progressive_growing_of_gans/blob/master/modelUtils.py\n",
        "    \"\"\"\n",
        "\n",
        "    def __init__(\n",
        "        self, in_channels, out_channels, kernel_size=3, stride=1, padding=1, gain=2\n",
        "    ):\n",
        "        super(WSConv2d, self).__init__()\n",
        "        self.conv = nn.Conv2d(in_channels, out_channels, kernel_size, stride, padding)\n",
        "        self.scale = (gain / (in_channels * (kernel_size ** 2))) ** 0.5\n",
        "        self.bias = self.conv.bias\n",
        "        self.conv.bias = None\n",
        "\n",
        "        # initialize conv layer\n",
        "        nn.init.normal_(self.conv.weight)\n",
        "        nn.init.zeros_(self.bias)\n",
        "\n",
        "    def forward(self, x):\n",
        "        return self.conv(x * self.scale) + self.bias.view(1, self.bias.shape[0], 1, 1)\n",
        "\n",
        "\n",
        "class PixelNorm(nn.Module):\n",
        "    def __init__(self):\n",
        "        super(PixelNorm, self).__init__()\n",
        "        self.epsilon = 1e-8\n",
        "\n",
        "    def forward(self, x):\n",
        "        return x / torch.sqrt(torch.mean(x ** 2, dim=1, keepdim=True) + self.epsilon)\n",
        "\n",
        "\n",
        "class ConvBlock(nn.Module):\n",
        "    def __init__(self, in_channels, out_channels, use_pixelnorm=True):\n",
        "        super(ConvBlock, self).__init__()\n",
        "        self.use_pn = use_pixelnorm\n",
        "        self.conv1 = WSConv2d(in_channels, out_channels)\n",
        "        self.conv2 = WSConv2d(out_channels, out_channels)\n",
        "        self.leaky = nn.LeakyReLU(0.2)\n",
        "        self.pn = PixelNorm()\n",
        "\n",
        "    def forward(self, x):\n",
        "        x = self.leaky(self.conv1(x))\n",
        "        x = self.pn(x) if self.use_pn else x\n",
        "        x = self.leaky(self.conv2(x))\n",
        "        x = self.pn(x) if self.use_pn else x\n",
        "        return x"
      ],
      "metadata": {
        "id": "oy4Hcg8e37oV"
      },
      "execution_count": 9,
      "outputs": []
    },
    {
      "cell_type": "code",
      "source": [
        "class Generator(nn.Module):\n",
        "    def __init__(self, z_dim, in_channels, img_channels=3):\n",
        "        super(Generator, self).__init__()\n",
        "\n",
        "        # initial takes 1x1 -> 4x4\n",
        "        self.initial = nn.Sequential(\n",
        "            PixelNorm(),\n",
        "            nn.ConvTranspose2d(z_dim, in_channels, 4, 1, 0),\n",
        "            nn.LeakyReLU(0.2),\n",
        "            WSConv2d(in_channels, in_channels, kernel_size=3, stride=1, padding=1),\n",
        "            nn.LeakyReLU(0.2),\n",
        "            PixelNorm(),\n",
        "        )\n",
        "\n",
        "        # Converts n channel image to rgb channel\n",
        "        self.initial_vec_to_rgb = WSConv2d(\n",
        "            in_channels, img_channels, kernel_size=1, stride=1, padding=0\n",
        "        )\n",
        "\n",
        "        self.prog_blocks, self.vec_to_rgb_layers = (\n",
        "            nn.ModuleList([]),\n",
        "            nn.ModuleList([self.initial_vec_to_rgb]),\n",
        "        )\n",
        "\n",
        "        for i in range(\n",
        "            len(FACTORS) - 1\n",
        "        ):  # -1 to prevent index error because of factors[i+1]\n",
        "            conv_in_c = int(in_channels * FACTORS[i])\n",
        "            conv_out_c = int(in_channels * FACTORS[i + 1])\n",
        "            self.prog_blocks.append(ConvBlock(conv_in_c, conv_out_c))\n",
        "            self.vec_to_rgb_layers.append(\n",
        "                WSConv2d(conv_out_c, img_channels, kernel_size=1, stride=1, padding=0)\n",
        "            )\n",
        "\n",
        "    def fade_in(self, alpha, upscaled, generated):\n",
        "        # alpha should be scalar within [0, 1], and upscale.shape == generated.shape\n",
        "        return alpha * generated + (1 - alpha) * upscaled\n",
        "\n",
        "    def forward(self, x, alpha=0.5, steps=5):\n",
        "        out = self.initial(x) # 1x1 to 4x4\n",
        "\n",
        "        if steps == 0:\n",
        "            return self.initial_vec_to_rgb(out)\n",
        "\n",
        "        for step in range(steps):\n",
        "            upscaled = F.interpolate(out, scale_factor=2, mode=\"nearest\")\n",
        "            out = self.prog_blocks[step](upscaled)\n",
        "\n",
        "        # The number of channels in upscale will stay the same, while\n",
        "        # out which has moved through prog_blocks might change. To ensure\n",
        "        # we can convert both to rgb we use different vec_to_rgb_layers\n",
        "        # (steps-1) and steps for upscaled, out respectively\n",
        "        final_upscaled = self.vec_to_rgb_layers[steps - 1](upscaled)\n",
        "        final_out = self.vec_to_rgb_layers[steps](out)\n",
        "        return torch.tanh(self.fade_in(alpha, final_upscaled, final_out))\n",
        "\n",
        "pro_gen = Generator(\n",
        "    Z_DIM, IN_CHANNELS, img_channels=CHANNELS_IMG\n",
        ").to(DEVICE)\n",
        "opt_pro_gen = optim.Adam(\n",
        "    pro_gen.parameters(), lr=1e-3, betas=(0.0, 0.99)\n",
        ")\n",
        "\n",
        "load_checkpoint(CHECKPOINT_PRO_GEN, pro_gen)\n",
        "\n",
        "pro_gen.eval()\n",
        "\n",
        "progen_fake_z = torch.randn(BATCH_SIZE, Z_DIM, 1, 1).to(DEVICE)"
      ],
      "metadata": {
        "colab": {
          "base_uri": "https://localhost:8080/"
        },
        "id": "5sTvBfPD39IR",
        "outputId": "bc51e493-cbd2-47ae-8268-66b2d126e2be"
      },
      "execution_count": 10,
      "outputs": [
        {
          "output_type": "stream",
          "name": "stdout",
          "text": [
            "=> Loaded checkpoint\n"
          ]
        }
      ]
    },
    {
      "cell_type": "code",
      "source": [
        "class Discriminator(nn.Module):\n",
        "    def __init__(self, z_dim, in_channels, img_channels=3):\n",
        "        super(Discriminator, self).__init__()\n",
        "        self.prog_blocks, self.rgb_to_vec_layers = nn.ModuleList([]), nn.ModuleList([])\n",
        "        self.leaky = nn.LeakyReLU(0.2)\n",
        "\n",
        "        # here we work back ways from factors because the discriminator\n",
        "        # should be mirrored from the generator. So the first prog_block and\n",
        "        # rgb_to_vec layer we append will work for input size 1024x1024, then 512->256-> etc\n",
        "        for i in range(len(FACTORS) - 1, 0, -1):\n",
        "            conv_in = int(in_channels * FACTORS[i])\n",
        "            conv_out = int(in_channels * FACTORS[i - 1])\n",
        "            self.prog_blocks.append(ConvBlock(conv_in, conv_out, use_pixelnorm=False))\n",
        "            self.rgb_to_vec_layers.append(\n",
        "                WSConv2d(img_channels, conv_in, kernel_size=1, stride=1, padding=0)\n",
        "            )\n",
        "\n",
        "        # perhaps confusing name \"initial_rgb_to_vec\" this is just the RGBto_vec layer for 4x4 input size\n",
        "        # did this to \"mirror\" the generator initial_rgb_to_vec\n",
        "        self.initial_rgb_to_vec = WSConv2d(\n",
        "            img_channels, in_channels, kernel_size=1, stride=1, padding=0\n",
        "        )\n",
        "        self.rgb_to_vec_layers.append(self.initial_rgb_to_vec)\n",
        "        self.avg_pool = nn.AvgPool2d(\n",
        "            kernel_size=2, stride=2\n",
        "        )  # down sampling using avg pool\n",
        "\n",
        "        # this is the block for 4x4 input size\n",
        "        self.final_block = nn.Sequential(\n",
        "            # +1 to in_channels because we concatenate from MiniBatch std\n",
        "            WSConv2d(in_channels + 1, in_channels, kernel_size=3, padding=1),\n",
        "            nn.LeakyReLU(0.2),\n",
        "            WSConv2d(in_channels, in_channels, kernel_size=4, padding=0, stride=1),\n",
        "            nn.LeakyReLU(0.2),\n",
        "            WSConv2d(\n",
        "                in_channels, 1, kernel_size=1, padding=0, stride=1\n",
        "            ),\n",
        "        )\n",
        "\n",
        "    def fade_in(self, alpha, downscaled, out):\n",
        "        \"\"\"Used to fade in downscaled using avg pooling and output from CNN\"\"\"\n",
        "        # alpha should be scalar within [0, 1], and upscale.shape == generated.shape\n",
        "        return alpha * out + (1 - alpha) * downscaled\n",
        "\n",
        "    def minibatch_std(self, x):\n",
        "        batch_statistics = (\n",
        "            torch.std(x, dim=0).mean().repeat(x.shape[0], 1, x.shape[2], x.shape[3])\n",
        "        )\n",
        "        # we take the std for each example (across all channels, and pixels) then we repeat it\n",
        "        # for a single channel and concatenate it with the image. In this way the discriminator\n",
        "        # will get information about the variation in the batch/image\n",
        "        return torch.cat([x, batch_statistics], dim=1)\n",
        "\n",
        "    def forward(self, x, alpha=0.5, steps=5):\n",
        "        # where we should start in the list of prog_blocks, maybe a bit confusing but\n",
        "        # the last is for the 4x4. So example let's say steps=1, then we should start\n",
        "        # at the second to last because input_size will be 8x8. If steps==0 we just\n",
        "        # use the final block\n",
        "        cur_step = len(self.prog_blocks) - steps\n",
        "\n",
        "        # convert from rgb_to_vec as initial step, this will depend on\n",
        "        # the image size (each will have it's on rgb_to_vec layer)\n",
        "        out = self.leaky(self.rgb_to_vec_layers[cur_step](x))\n",
        "\n",
        "        if steps != 0:# i.e, image is anything other than 4x4\n",
        "            # because prog_blocks might change the channels, for down scale we use rgb_to_vec_layer\n",
        "            # from previous/smaller size which in our case correlates to +1 in the indexing\n",
        "            downscaled = self.leaky(self.rgb_to_vec_layers[cur_step + 1](self.avg_pool(x)))\n",
        "            out = self.avg_pool(self.prog_blocks[cur_step](out))\n",
        "\n",
        "            # the fade_in is done first between the downscaled and the input\n",
        "            # this is opposite from the generator\n",
        "            out = self.fade_in(alpha, downscaled, out)\n",
        "\n",
        "            for step in range(cur_step + 1, len(self.prog_blocks)):\n",
        "                out = self.prog_blocks[step](out)\n",
        "                out = self.avg_pool(out)\n",
        "\n",
        "        out = self.minibatch_std(out)\n",
        "        return self.final_block(out).view(out.shape[0], -1)\n",
        "\n",
        "pro_disc = Discriminator(\n",
        "    Z_DIM, IN_CHANNELS, img_channels=CHANNELS_IMG\n",
        ").to(DEVICE)\n",
        "opt_pro_disc = optim.Adam(\n",
        "    pro_disc.parameters(), lr=1e-3, betas=(0.0, 0.99)\n",
        ")\n",
        "\n",
        "load_checkpoint(CHECKPOINT_PRO_DISC, pro_disc, opt_pro_disc, PRO_LR,)\n",
        "\n",
        "pro_disc.final_block.pop(4)\n",
        "pro_disc.final_block.pop(3)\n",
        "pro_disc.final_block.add_module('Flatten', nn.Flatten())\n",
        "\n",
        "for param in pro_disc.parameters():\n",
        "    param.requires_grad = False\n",
        "\n",
        "pro_disc.eval()"
      ],
      "metadata": {
        "colab": {
          "base_uri": "https://localhost:8080/"
        },
        "collapsed": true,
        "id": "oTQfoYO43-EX",
        "outputId": "f3c770da-07a5-455b-c771-58994fe27a4d"
      },
      "execution_count": 11,
      "outputs": [
        {
          "output_type": "stream",
          "name": "stdout",
          "text": [
            "=> Loaded checkpoint\n"
          ]
        },
        {
          "output_type": "execute_result",
          "data": {
            "text/plain": [
              "Discriminator(\n",
              "  (prog_blocks): ModuleList(\n",
              "    (0): ConvBlock(\n",
              "      (conv1): WSConv2d(\n",
              "        (conv): Conv2d(16, 32, kernel_size=(3, 3), stride=(1, 1), padding=(1, 1), bias=False)\n",
              "      )\n",
              "      (conv2): WSConv2d(\n",
              "        (conv): Conv2d(32, 32, kernel_size=(3, 3), stride=(1, 1), padding=(1, 1), bias=False)\n",
              "      )\n",
              "      (leaky): LeakyReLU(negative_slope=0.2)\n",
              "      (pn): PixelNorm()\n",
              "    )\n",
              "    (1): ConvBlock(\n",
              "      (conv1): WSConv2d(\n",
              "        (conv): Conv2d(32, 64, kernel_size=(3, 3), stride=(1, 1), padding=(1, 1), bias=False)\n",
              "      )\n",
              "      (conv2): WSConv2d(\n",
              "        (conv): Conv2d(64, 64, kernel_size=(3, 3), stride=(1, 1), padding=(1, 1), bias=False)\n",
              "      )\n",
              "      (leaky): LeakyReLU(negative_slope=0.2)\n",
              "      (pn): PixelNorm()\n",
              "    )\n",
              "    (2): ConvBlock(\n",
              "      (conv1): WSConv2d(\n",
              "        (conv): Conv2d(64, 128, kernel_size=(3, 3), stride=(1, 1), padding=(1, 1), bias=False)\n",
              "      )\n",
              "      (conv2): WSConv2d(\n",
              "        (conv): Conv2d(128, 128, kernel_size=(3, 3), stride=(1, 1), padding=(1, 1), bias=False)\n",
              "      )\n",
              "      (leaky): LeakyReLU(negative_slope=0.2)\n",
              "      (pn): PixelNorm()\n",
              "    )\n",
              "    (3): ConvBlock(\n",
              "      (conv1): WSConv2d(\n",
              "        (conv): Conv2d(128, 256, kernel_size=(3, 3), stride=(1, 1), padding=(1, 1), bias=False)\n",
              "      )\n",
              "      (conv2): WSConv2d(\n",
              "        (conv): Conv2d(256, 256, kernel_size=(3, 3), stride=(1, 1), padding=(1, 1), bias=False)\n",
              "      )\n",
              "      (leaky): LeakyReLU(negative_slope=0.2)\n",
              "      (pn): PixelNorm()\n",
              "    )\n",
              "    (4): ConvBlock(\n",
              "      (conv1): WSConv2d(\n",
              "        (conv): Conv2d(256, 512, kernel_size=(3, 3), stride=(1, 1), padding=(1, 1), bias=False)\n",
              "      )\n",
              "      (conv2): WSConv2d(\n",
              "        (conv): Conv2d(512, 512, kernel_size=(3, 3), stride=(1, 1), padding=(1, 1), bias=False)\n",
              "      )\n",
              "      (leaky): LeakyReLU(negative_slope=0.2)\n",
              "      (pn): PixelNorm()\n",
              "    )\n",
              "  )\n",
              "  (rgb_to_vec_layers): ModuleList(\n",
              "    (0): WSConv2d(\n",
              "      (conv): Conv2d(3, 16, kernel_size=(1, 1), stride=(1, 1), bias=False)\n",
              "    )\n",
              "    (1): WSConv2d(\n",
              "      (conv): Conv2d(3, 32, kernel_size=(1, 1), stride=(1, 1), bias=False)\n",
              "    )\n",
              "    (2): WSConv2d(\n",
              "      (conv): Conv2d(3, 64, kernel_size=(1, 1), stride=(1, 1), bias=False)\n",
              "    )\n",
              "    (3): WSConv2d(\n",
              "      (conv): Conv2d(3, 128, kernel_size=(1, 1), stride=(1, 1), bias=False)\n",
              "    )\n",
              "    (4): WSConv2d(\n",
              "      (conv): Conv2d(3, 256, kernel_size=(1, 1), stride=(1, 1), bias=False)\n",
              "    )\n",
              "    (5): WSConv2d(\n",
              "      (conv): Conv2d(3, 512, kernel_size=(1, 1), stride=(1, 1), bias=False)\n",
              "    )\n",
              "  )\n",
              "  (leaky): LeakyReLU(negative_slope=0.2)\n",
              "  (initial_rgb_to_vec): WSConv2d(\n",
              "    (conv): Conv2d(3, 512, kernel_size=(1, 1), stride=(1, 1), bias=False)\n",
              "  )\n",
              "  (avg_pool): AvgPool2d(kernel_size=2, stride=2, padding=0)\n",
              "  (final_block): Sequential(\n",
              "    (0): WSConv2d(\n",
              "      (conv): Conv2d(513, 512, kernel_size=(3, 3), stride=(1, 1), padding=(1, 1), bias=False)\n",
              "    )\n",
              "    (1): LeakyReLU(negative_slope=0.2)\n",
              "    (2): WSConv2d(\n",
              "      (conv): Conv2d(512, 512, kernel_size=(4, 4), stride=(1, 1), bias=False)\n",
              "    )\n",
              "    (Flatten): Flatten(start_dim=1, end_dim=-1)\n",
              "  )\n",
              ")"
            ]
          },
          "metadata": {},
          "execution_count": 11
        }
      ]
    },
    {
      "cell_type": "markdown",
      "source": [
        "## Vector representations"
      ],
      "metadata": {
        "id": "kbXVFpqZ3eIi"
      }
    },
    {
      "cell_type": "code",
      "source": [
        "real_images = next(iter(real_dataloader)).to(DEVICE)\n",
        "real_vectors = pro_disc(real_images)\n",
        "del real_images\n",
        "torch.cuda.empty_cache()"
      ],
      "metadata": {
        "id": "3NsE9_N33MIu"
      },
      "execution_count": 12,
      "outputs": []
    },
    {
      "cell_type": "code",
      "source": [
        "progan_fake_images = pro_gen(progen_fake_z)\n",
        "progan_fake_vectors = pro_disc(progan_fake_images)\n",
        "del progan_fake_images\n",
        "torch.cuda.empty_cache()"
      ],
      "metadata": {
        "id": "2ZZk0yRF6Q2v"
      },
      "execution_count": 13,
      "outputs": []
    },
    {
      "cell_type": "markdown",
      "source": [
        "## Visualization"
      ],
      "metadata": {
        "id": "_3pIBE0HGFiO"
      }
    },
    {
      "cell_type": "code",
      "source": [
        "import torch\n",
        "import matplotlib.pyplot as plt\n",
        "from sklearn.manifold import TSNE"
      ],
      "metadata": {
        "id": "LBw0e3AFFpX2"
      },
      "execution_count": 14,
      "outputs": []
    },
    {
      "cell_type": "code",
      "source": [
        "data = torch.cat([real_vectors.cpu().detach(), progan_fake_vectors.cpu().detach(),], dim=0).numpy()\n",
        "labels = np.array([0] * len(real_vectors) +  [1] * len(progan_fake_vectors))  # Assign category labels\n",
        "\n",
        "tsne = TSNE(n_components=2, perplexity=30, random_state=69)\n",
        "data_2d = tsne.fit_transform(data)\n",
        "\n",
        "plt.figure(figsize=(8, 6))\n",
        "for category, color, label_name in zip([0, 1], ['red', 'blue'], ['Real', 'ProGAN Fakes']):\n",
        "    indices = labels == category\n",
        "    plt.scatter(data_2d[indices, 0], data_2d[indices, 1], c=color, label=label_name, alpha=0.6)\n",
        "\n",
        "plt.title(\"t-SNE Visualization of Discriminator penultimate layer for real and fake inputs\")\n",
        "plt.xlabel(\"Component 1\")\n",
        "plt.ylabel(\"Component 2\")\n",
        "plt.legend()\n",
        "plt.show()"
      ],
      "metadata": {
        "colab": {
          "base_uri": "https://localhost:8080/",
          "height": 564
        },
        "id": "sasKsZzjGLaD",
        "outputId": "406562a9-a328-4c17-864b-1aa2d9dfa36f"
      },
      "execution_count": 15,
      "outputs": [
        {
          "output_type": "display_data",
          "data": {
            "text/plain": [
              "<Figure size 800x600 with 1 Axes>"
            ],
            "image/png": "[encoded data removed]"
          },
          "metadata": {}
        }
      ]
    },
    {
      "cell_type": "code",
      "source": [],
      "metadata": {
        "id": "ByYCQX_tI54c"
      },
      "execution_count": null,
      "outputs": []
    }
  ]
}