{
 "cells": [
  {
   "cell_type": "markdown",
   "metadata": {
    "id": "kge2AWRM2ChE"
   },
   "source": [
    "# GAN creation"
   ]
  },
  {
   "cell_type": "markdown",
   "metadata": {
    "id": "N70g-L5-MjcD"
   },
   "source": [
    "## Config"
   ]
  },
  {
   "cell_type": "code",
   "execution_count": 5,
   "metadata": {
    "colab": {
     "base_uri": "https://localhost:8080/"
    },
    "id": "qjozlxQZ1lrF",
    "outputId": "e322f128-1916-427b-c795-fe3020f224c6"
   },
   "outputs": [
    {
     "name": "stdout",
     "output_type": "stream",
     "text": [
      "\u001b[33mWARNING: Running pip as the 'root' user can result in broken permissions and conflicting behaviour with the system package manager, possibly rendering your system unusable.It is recommended to use a virtual environment instead: https://pip.pypa.io/warnings/venv. Use the --root-user-action option if you know what you are doing and want to suppress this warning.\u001b[0m\u001b[33m\n",
      "\u001b[0m\n",
      "\u001b[1m[\u001b[0m\u001b[34;49mnotice\u001b[0m\u001b[1;39;49m]\u001b[0m\u001b[39;49m A new release of pip is available: \u001b[0m\u001b[31;49m24.1.2\u001b[0m\u001b[39;49m -> \u001b[0m\u001b[32;49m24.2\u001b[0m\n",
      "\u001b[1m[\u001b[0m\u001b[34;49mnotice\u001b[0m\u001b[1;39;49m]\u001b[0m\u001b[39;49m To update, run: \u001b[0m\u001b[32;49mpython3 -m pip install --upgrade pip\u001b[0m\n",
      "mkdir: cannot create directory ‘/root/.kaggle’: File exists\n",
      "Dataset URL: https://www.kaggle.com/datasets/xhlulu/140k-real-and-fake-faces\n",
      "License(s): other\n",
      "Downloading 140k-real-and-fake-faces.zip to /\n",
      "... resuming from 3305111552 bytes (719444166 bytes left) ...\n",
      "100%|█████████████████████████████████████▉| 3.74G/3.75G [00:20<00:00, 60.5MB/s]\n",
      "100%|██████████████████████████████████████| 3.75G/3.75G [00:20<00:00, 34.9MB/s]\n"
     ]
    }
   ],
   "source": [
    "# For COLAB\n",
    "# from google.colab import drive\n",
    "# drive.mount('/content/gdrive')\n",
    "!pip install -q kaggle Pillow imageio matplotlib pandas\n",
    "!mkdir ~/.kaggle\n",
    "!cp kaggle.json ~/.kaggle/\n",
    "!chmod 600 ~/.kaggle/kaggle.json\n",
    "! kaggle datasets download xhlulu/140k-real-and-fake-faces\n",
    "! unzip -q 140k-real-and-fake-faces.zip"
   ]
  },
  {
   "cell_type": "code",
   "execution_count": 6,
   "metadata": {
    "id": "1Sh8PurTu1pP"
   },
   "outputs": [],
   "source": [
    "import numpy as np\n",
    "import pandas as pd\n",
    "import matplotlib.pyplot as plt\n",
    "import tensorflow as tf\n",
    "import os\n",
    "from PIL import Image\n",
    "import pickle"
   ]
  },
  {
   "cell_type": "code",
   "execution_count": 7,
   "metadata": {
    "colab": {
     "base_uri": "https://localhost:8080/"
    },
    "id": "3GXMi1ycu1pV",
    "outputId": "b33948bd-6caa-4664-8bfb-149cdd2bcefd"
   },
   "outputs": [
    {
     "name": "stdout",
     "output_type": "stream",
     "text": [
      "1 Physical GPUs, 1 Logical GPUs\n"
     ]
    }
   ],
   "source": [
    "# Setting GPU memory\n",
    "gpus = tf.config.list_physical_devices('GPU')\n",
    "if gpus:\n",
    "  try:\n",
    "    # Currently, memory growth needs to be the same across GPUs\n",
    "    for gpu in gpus:\n",
    "      tf.config.experimental.set_memory_growth(gpu, True)\n",
    "    logical_gpus = tf.config.list_logical_devices('GPU')\n",
    "    print(len(gpus), \"Physical GPUs,\", len(logical_gpus), \"Logical GPUs\")\n",
    "  except RuntimeError as e:\n",
    "    # Memory growth must be set before GPUs have been initialized\n",
    "    print(e)"
   ]
  },
  {
   "cell_type": "code",
   "execution_count": 8,
   "metadata": {
    "id": "by_KW2MfPl8A"
   },
   "outputs": [],
   "source": [
    "BATCH_SIZE = 256\n",
    "IMAGE_HEIGHT = 64\n",
    "IMAGE_WIDTH = 64\n",
    "LATENT_FEATURES = 100\n",
    "NUM_IMAGES = 25000\n",
    "GENERATOR_PATH = \"generator.keras\"\n",
    "DISCRIMINATOR_PATH = \"discriminator.keras\""
   ]
  },
  {
   "cell_type": "markdown",
   "metadata": {
    "id": "Qt6xH9_ou1pW"
   },
   "source": [
    "## GAN training data"
   ]
  },
  {
   "cell_type": "code",
   "execution_count": 9,
   "metadata": {
    "id": "PgumuBExehjS"
   },
   "outputs": [],
   "source": [
    "# For sampling real and fake images\n",
    "def sample_each_label(df,no_imgs=25000,shuffle=False):\n",
    "    each_label_images = int(no_imgs / 2)\n",
    "    subset_label_0 = df[df['label'] == 0].sample(n=each_label_images, random_state=69)\n",
    "    subset_label_1 = df[df['label'] == 1].sample(n=each_label_images, random_state=69)\n",
    "    final_subset = pd.concat([subset_label_0, subset_label_1])\n",
    "    if shuffle == True:\n",
    "        final_subset = final_subset.sample(frac=1, random_state=69).reset_index(drop=True)\n",
    "    return final_subset\n",
    "\n",
    "def read_image(image_file, label):\n",
    "    image = tf.io.read_file(\"real_vs_fake/real-vs-fake/\" + image_file)\n",
    "    image = tf.image.decode_jpeg(image, channels=3)\n",
    "    return image, label\n",
    "\n",
    "def augument(image, label):\n",
    "    image = tf.image.resize(image, [IMAGE_HEIGHT, IMAGE_WIDTH], method=tf.image.ResizeMethod.GAUSSIAN)\n",
    "    image = tf.cast(image, tf.float32)\n",
    "    image = (image - 127.5) / 127.5 # Adjusting pixel range between -1 and 1\n",
    "    return image, label\n",
    "\n",
    "df = pd.read_csv(\"real_vs_fake/train.csv\")\n",
    "df = sample_each_label(df,no_imgs=NUM_IMAGES,shuffle=True)\n",
    "\n",
    "dataset = tf.data.Dataset.from_tensor_slices((df['path'].values,df['label'].values))\n",
    "dataset = dataset.map(read_image).map(augument).batch(BATCH_SIZE)"
   ]
  },
  {
   "cell_type": "code",
   "execution_count": 10,
   "metadata": {
    "id": "JOsu76LdMjcF"
   },
   "outputs": [],
   "source": [
    "# For sampling only real images\n",
    "# df = pd.read_csv(\"real_vs_fake/train.csv\")\n",
    "# df_real = df[df['label'] == 1]\n",
    "# df_real = df_real.sample(NUM_IMAGES, random_state=69)\n",
    "# df_real = df_real.sample(frac=1, random_state=69).reset_index(drop=True)\n",
    "# image_paths = df_real['path'].tolist()\n",
    "\n",
    "# image_paths = [\"real_vs_fake/real-vs-fake/\" + path for path in image_paths]\n",
    "\n",
    "# dataset = tf.data.Dataset.from_tensor_slices(image_paths)\n",
    "\n",
    "# def preprocess_image(image_path):\n",
    "#     img = tf.io.read_file(image_path)\n",
    "#     img = tf.image.decode_jpeg(img, channels=3)\n",
    "#     img = tf.image.resize(img, [IMAGE_HEIGHT, IMAGE_WIDTH], method=tf.image.ResizeMethod.GAUSSIAN)\n",
    "#     img = tf.cast(img, tf.float32)\n",
    "#     img = (img - 127.5) / 127.5 # Adjusting pixel range between -1 and 1\n",
    "#     return img\n",
    "\n",
    "# dataset = dataset.map(preprocess_image, num_parallel_calls=tf.data.experimental.AUTOTUNE)\n",
    "# dataset = dataset.batch(BATCH_SIZE)"
   ]
  },
  {
   "cell_type": "code",
   "execution_count": 11,
   "metadata": {
    "colab": {
     "base_uri": "https://localhost:8080/",
     "height": 321
    },
    "id": "LRtCtqvZu1pZ",
    "outputId": "579f004f-55ee-47d8-8dd0-91220126d077"
   },
   "outputs": [
    {
     "name": "stdout",
     "output_type": "stream",
     "text": [
      "tf.Tensor(\n",
      "[1 1 0 0 0 1 1 0 0 0 0 0 0 1 1 0 1 1 0 1 1 1 0 1 0 0 0 1 0 0 0 1 0 0 0 0 1\n",
      " 0 0 1 1 1 1 0 1 0 0 0 1 1 0 0 1 1 1 1 1 1 0 1 1 0 1 0 1 1 1 1 1 0 0 0 1 0\n",
      " 0 0 0 1 1 1 0 1 0 1 0 0 0 1 1 0 0 0 1 0 1 1 0 0 0 1 0 1 1 1 0 0 0 1 1 1 0\n",
      " 1 1 1 1 1 0 0 1 0 1 0 0 1 1 0 0 0 0 0 0 1 1 0 0 1 1 0 0 0 1 1 0 0 1 1 1 0\n",
      " 1 0 0 1 1 1 1 0 1 1 0 0 1 1 0 1 0 0 0 1 0 0 1 0 0 1 0 0 1 0 1 0 0 1 0 0 1\n",
      " 1 0 0 0 0 0 0 1 1 1 0 0 1 1 1 1 1 0 0 1 0 0 1 0 1 1 0 1 0 0 0 0 1 0 0 0 0\n",
      " 0 0 1 0 0 0 1 0 1 0 1 0 0 1 1 1 0 1 1 1 0 0 0 1 0 1 0 0 0 0 1 1 0 1], shape=(256,), dtype=int64)\n"
     ]
    },
    {
     "data": {
      "image/png": "[encoded data removed]",
      "text/plain": [
       "<Figure size 640x480 with 3 Axes>"
      ]
     },
     "metadata": {},
     "output_type": "display_data"
    },
    {
     "name": "stderr",
     "output_type": "stream",
     "text": [
      "2024-08-26 17:41:56.622528: I tensorflow/core/framework/local_rendezvous.cc:404] Local rendezvous is aborting with status: OUT_OF_RANGE: End of sequence\n"
     ]
    }
   ],
   "source": [
    "def display_imgs(dataset, num_images=1):\n",
    "    for batch, labels in dataset.take(1):\n",
    "      print(labels)\n",
    "      batch = (batch + 1) / 2\n",
    "      for i in range(min(BATCH_SIZE, num_images)):\n",
    "          plt.subplot(1, num_images, i + 1)\n",
    "          plt.imshow(batch[i].numpy())\n",
    "          plt.axis(\"off\")\n",
    "      plt.show()\n",
    "\n",
    "display_imgs(dataset,num_images=3)"
   ]
  },
  {
   "cell_type": "code",
   "execution_count": 12,
   "metadata": {
    "colab": {
     "base_uri": "https://localhost:8080/"
    },
    "id": "QUaj8beEmh--",
    "outputId": "8844067d-0830-42d6-cf34-26799dce1b39"
   },
   "outputs": [
    {
     "data": {
      "text/plain": [
       "98"
      ]
     },
     "execution_count": 12,
     "metadata": {},
     "output_type": "execute_result"
    }
   ],
   "source": [
    "len(dataset)"
   ]
  },
  {
   "cell_type": "markdown",
   "metadata": {
    "id": "20TJuQ0u2rtO"
   },
   "source": [
    "## GAN architecture"
   ]
  },
  {
   "cell_type": "code",
   "execution_count": 13,
   "metadata": {
    "id": "a9eDGwSC2tg7"
   },
   "outputs": [],
   "source": [
    "from keras.initializers import RandomNormal\n",
    "from keras.models import Sequential\n",
    "from keras.layers import Conv2D, Dense, Flatten, Reshape, ReLU, LeakyReLU, Dropout, Conv2DTranspose, BatchNormalization, ZeroPadding2D, UpSampling2D, Activation, MaxPooling2D"
   ]
  },
  {
   "cell_type": "markdown",
   "metadata": {
    "id": "7FAE0axPbK8i"
   },
   "source": [
    "### Generator"
   ]
  },
  {
   "cell_type": "code",
   "execution_count": 14,
   "metadata": {
    "colab": {
     "base_uri": "https://localhost:8080/",
     "height": 599
    },
    "id": "Uen8TWNR2yXa",
    "outputId": "6f169fcb-3e9e-4dc3-f470-8712a7cbaa58"
   },
   "outputs": [
    {
     "name": "stderr",
     "output_type": "stream",
     "text": [
      "/usr/local/lib/python3.11/dist-packages/keras/src/layers/core/dense.py:87: UserWarning: Do not pass an `input_shape`/`input_dim` argument to a layer. When using Sequential models, prefer using an `Input(shape)` object as the first layer in the model instead.\n",
      "  super().__init__(activity_regularizer=activity_regularizer, **kwargs)\n"
     ]
    },
    {
     "data": {
      "text/html": [
       "<pre style=\"white-space:pre;overflow-x:auto;line-height:normal;font-family:Menlo,'DejaVu Sans Mono',consolas,'Courier New',monospace\"><span style=\"font-weight: bold\">Model: \"sequential\"</span>\n",
       "</pre>\n"
      ],
      "text/plain": [
       "\u001b[1mModel: \"sequential\"\u001b[0m\n"
      ]
     },
     "metadata": {},
     "output_type": "display_data"
    },
    {
     "data": {
      "text/html": [
       "<pre style=\"white-space:pre;overflow-x:auto;line-height:normal;font-family:Menlo,'DejaVu Sans Mono',consolas,'Courier New',monospace\">┏━━━━━━━━━━━━━━━━━━━━━━━━━━━━━━━━━┳━━━━━━━━━━━━━━━━━━━━━━━━┳━━━━━━━━━━━━━━━┓\n",
       "┃<span style=\"font-weight: bold\"> Layer (type)                    </span>┃<span style=\"font-weight: bold\"> Output Shape           </span>┃<span style=\"font-weight: bold\">       Param # </span>┃\n",
       "┡━━━━━━━━━━━━━━━━━━━━━━━━━━━━━━━━━╇━━━━━━━━━━━━━━━━━━━━━━━━╇━━━━━━━━━━━━━━━┩\n",
       "│ dense (<span style=\"color: #0087ff; text-decoration-color: #0087ff\">Dense</span>)                   │ (<span style=\"color: #00d7ff; text-decoration-color: #00d7ff\">None</span>, <span style=\"color: #00af00; text-decoration-color: #00af00\">2048</span>)           │       <span style=\"color: #00af00; text-decoration-color: #00af00\">206,848</span> │\n",
       "├─────────────────────────────────┼────────────────────────┼───────────────┤\n",
       "│ leaky_re_lu (<span style=\"color: #0087ff; text-decoration-color: #0087ff\">LeakyReLU</span>)         │ (<span style=\"color: #00d7ff; text-decoration-color: #00d7ff\">None</span>, <span style=\"color: #00af00; text-decoration-color: #00af00\">2048</span>)           │             <span style=\"color: #00af00; text-decoration-color: #00af00\">0</span> │\n",
       "├─────────────────────────────────┼────────────────────────┼───────────────┤\n",
       "│ reshape (<span style=\"color: #0087ff; text-decoration-color: #0087ff\">Reshape</span>)               │ (<span style=\"color: #00d7ff; text-decoration-color: #00d7ff\">None</span>, <span style=\"color: #00af00; text-decoration-color: #00af00\">2</span>, <span style=\"color: #00af00; text-decoration-color: #00af00\">2</span>, <span style=\"color: #00af00; text-decoration-color: #00af00\">512</span>)      │             <span style=\"color: #00af00; text-decoration-color: #00af00\">0</span> │\n",
       "├─────────────────────────────────┼────────────────────────┼───────────────┤\n",
       "│ conv2d_transpose                │ (<span style=\"color: #00d7ff; text-decoration-color: #00d7ff\">None</span>, <span style=\"color: #00af00; text-decoration-color: #00af00\">4</span>, <span style=\"color: #00af00; text-decoration-color: #00af00\">4</span>, <span style=\"color: #00af00; text-decoration-color: #00af00\">256</span>)      │     <span style=\"color: #00af00; text-decoration-color: #00af00\">2,097,152</span> │\n",
       "│ (<span style=\"color: #0087ff; text-decoration-color: #0087ff\">Conv2DTranspose</span>)               │                        │               │\n",
       "├─────────────────────────────────┼────────────────────────┼───────────────┤\n",
       "│ leaky_re_lu_1 (<span style=\"color: #0087ff; text-decoration-color: #0087ff\">LeakyReLU</span>)       │ (<span style=\"color: #00d7ff; text-decoration-color: #00d7ff\">None</span>, <span style=\"color: #00af00; text-decoration-color: #00af00\">4</span>, <span style=\"color: #00af00; text-decoration-color: #00af00\">4</span>, <span style=\"color: #00af00; text-decoration-color: #00af00\">256</span>)      │             <span style=\"color: #00af00; text-decoration-color: #00af00\">0</span> │\n",
       "├─────────────────────────────────┼────────────────────────┼───────────────┤\n",
       "│ conv2d_transpose_1              │ (<span style=\"color: #00d7ff; text-decoration-color: #00d7ff\">None</span>, <span style=\"color: #00af00; text-decoration-color: #00af00\">8</span>, <span style=\"color: #00af00; text-decoration-color: #00af00\">8</span>, <span style=\"color: #00af00; text-decoration-color: #00af00\">128</span>)      │       <span style=\"color: #00af00; text-decoration-color: #00af00\">524,288</span> │\n",
       "│ (<span style=\"color: #0087ff; text-decoration-color: #0087ff\">Conv2DTranspose</span>)               │                        │               │\n",
       "├─────────────────────────────────┼────────────────────────┼───────────────┤\n",
       "│ leaky_re_lu_2 (<span style=\"color: #0087ff; text-decoration-color: #0087ff\">LeakyReLU</span>)       │ (<span style=\"color: #00d7ff; text-decoration-color: #00d7ff\">None</span>, <span style=\"color: #00af00; text-decoration-color: #00af00\">8</span>, <span style=\"color: #00af00; text-decoration-color: #00af00\">8</span>, <span style=\"color: #00af00; text-decoration-color: #00af00\">128</span>)      │             <span style=\"color: #00af00; text-decoration-color: #00af00\">0</span> │\n",
       "├─────────────────────────────────┼────────────────────────┼───────────────┤\n",
       "│ conv2d_transpose_2              │ (<span style=\"color: #00d7ff; text-decoration-color: #00d7ff\">None</span>, <span style=\"color: #00af00; text-decoration-color: #00af00\">16</span>, <span style=\"color: #00af00; text-decoration-color: #00af00\">16</span>, <span style=\"color: #00af00; text-decoration-color: #00af00\">64</span>)     │       <span style=\"color: #00af00; text-decoration-color: #00af00\">131,072</span> │\n",
       "│ (<span style=\"color: #0087ff; text-decoration-color: #0087ff\">Conv2DTranspose</span>)               │                        │               │\n",
       "├─────────────────────────────────┼────────────────────────┼───────────────┤\n",
       "│ leaky_re_lu_3 (<span style=\"color: #0087ff; text-decoration-color: #0087ff\">LeakyReLU</span>)       │ (<span style=\"color: #00d7ff; text-decoration-color: #00d7ff\">None</span>, <span style=\"color: #00af00; text-decoration-color: #00af00\">16</span>, <span style=\"color: #00af00; text-decoration-color: #00af00\">16</span>, <span style=\"color: #00af00; text-decoration-color: #00af00\">64</span>)     │             <span style=\"color: #00af00; text-decoration-color: #00af00\">0</span> │\n",
       "├─────────────────────────────────┼────────────────────────┼───────────────┤\n",
       "│ conv2d_transpose_3              │ (<span style=\"color: #00d7ff; text-decoration-color: #00d7ff\">None</span>, <span style=\"color: #00af00; text-decoration-color: #00af00\">32</span>, <span style=\"color: #00af00; text-decoration-color: #00af00\">32</span>, <span style=\"color: #00af00; text-decoration-color: #00af00\">32</span>)     │        <span style=\"color: #00af00; text-decoration-color: #00af00\">32,768</span> │\n",
       "│ (<span style=\"color: #0087ff; text-decoration-color: #0087ff\">Conv2DTranspose</span>)               │                        │               │\n",
       "├─────────────────────────────────┼────────────────────────┼───────────────┤\n",
       "│ leaky_re_lu_4 (<span style=\"color: #0087ff; text-decoration-color: #0087ff\">LeakyReLU</span>)       │ (<span style=\"color: #00d7ff; text-decoration-color: #00d7ff\">None</span>, <span style=\"color: #00af00; text-decoration-color: #00af00\">32</span>, <span style=\"color: #00af00; text-decoration-color: #00af00\">32</span>, <span style=\"color: #00af00; text-decoration-color: #00af00\">32</span>)     │             <span style=\"color: #00af00; text-decoration-color: #00af00\">0</span> │\n",
       "├─────────────────────────────────┼────────────────────────┼───────────────┤\n",
       "│ conv2d_transpose_4              │ (<span style=\"color: #00d7ff; text-decoration-color: #00d7ff\">None</span>, <span style=\"color: #00af00; text-decoration-color: #00af00\">64</span>, <span style=\"color: #00af00; text-decoration-color: #00af00\">64</span>, <span style=\"color: #00af00; text-decoration-color: #00af00\">3</span>)      │         <span style=\"color: #00af00; text-decoration-color: #00af00\">1,536</span> │\n",
       "│ (<span style=\"color: #0087ff; text-decoration-color: #0087ff\">Conv2DTranspose</span>)               │                        │               │\n",
       "└─────────────────────────────────┴────────────────────────┴───────────────┘\n",
       "</pre>\n"
      ],
      "text/plain": [
       "┏━━━━━━━━━━━━━━━━━━━━━━━━━━━━━━━━━┳━━━━━━━━━━━━━━━━━━━━━━━━┳━━━━━━━━━━━━━━━┓\n",
       "┃\u001b[1m \u001b[0m\u001b[1mLayer (type)                   \u001b[0m\u001b[1m \u001b[0m┃\u001b[1m \u001b[0m\u001b[1mOutput Shape          \u001b[0m\u001b[1m \u001b[0m┃\u001b[1m \u001b[0m\u001b[1m      Param #\u001b[0m\u001b[1m \u001b[0m┃\n",
       "┡━━━━━━━━━━━━━━━━━━━━━━━━━━━━━━━━━╇━━━━━━━━━━━━━━━━━━━━━━━━╇━━━━━━━━━━━━━━━┩\n",
       "│ dense (\u001b[38;5;33mDense\u001b[0m)                   │ (\u001b[38;5;45mNone\u001b[0m, \u001b[38;5;34m2048\u001b[0m)           │       \u001b[38;5;34m206,848\u001b[0m │\n",
       "├─────────────────────────────────┼────────────────────────┼───────────────┤\n",
       "│ leaky_re_lu (\u001b[38;5;33mLeakyReLU\u001b[0m)         │ (\u001b[38;5;45mNone\u001b[0m, \u001b[38;5;34m2048\u001b[0m)           │             \u001b[38;5;34m0\u001b[0m │\n",
       "├─────────────────────────────────┼────────────────────────┼───────────────┤\n",
       "│ reshape (\u001b[38;5;33mReshape\u001b[0m)               │ (\u001b[38;5;45mNone\u001b[0m, \u001b[38;5;34m2\u001b[0m, \u001b[38;5;34m2\u001b[0m, \u001b[38;5;34m512\u001b[0m)      │             \u001b[38;5;34m0\u001b[0m │\n",
       "├─────────────────────────────────┼────────────────────────┼───────────────┤\n",
       "│ conv2d_transpose                │ (\u001b[38;5;45mNone\u001b[0m, \u001b[38;5;34m4\u001b[0m, \u001b[38;5;34m4\u001b[0m, \u001b[38;5;34m256\u001b[0m)      │     \u001b[38;5;34m2,097,152\u001b[0m │\n",
       "│ (\u001b[38;5;33mConv2DTranspose\u001b[0m)               │                        │               │\n",
       "├─────────────────────────────────┼────────────────────────┼───────────────┤\n",
       "│ leaky_re_lu_1 (\u001b[38;5;33mLeakyReLU\u001b[0m)       │ (\u001b[38;5;45mNone\u001b[0m, \u001b[38;5;34m4\u001b[0m, \u001b[38;5;34m4\u001b[0m, \u001b[38;5;34m256\u001b[0m)      │             \u001b[38;5;34m0\u001b[0m │\n",
       "├─────────────────────────────────┼────────────────────────┼───────────────┤\n",
       "│ conv2d_transpose_1              │ (\u001b[38;5;45mNone\u001b[0m, \u001b[38;5;34m8\u001b[0m, \u001b[38;5;34m8\u001b[0m, \u001b[38;5;34m128\u001b[0m)      │       \u001b[38;5;34m524,288\u001b[0m │\n",
       "│ (\u001b[38;5;33mConv2DTranspose\u001b[0m)               │                        │               │\n",
       "├─────────────────────────────────┼────────────────────────┼───────────────┤\n",
       "│ leaky_re_lu_2 (\u001b[38;5;33mLeakyReLU\u001b[0m)       │ (\u001b[38;5;45mNone\u001b[0m, \u001b[38;5;34m8\u001b[0m, \u001b[38;5;34m8\u001b[0m, \u001b[38;5;34m128\u001b[0m)      │             \u001b[38;5;34m0\u001b[0m │\n",
       "├─────────────────────────────────┼────────────────────────┼───────────────┤\n",
       "│ conv2d_transpose_2              │ (\u001b[38;5;45mNone\u001b[0m, \u001b[38;5;34m16\u001b[0m, \u001b[38;5;34m16\u001b[0m, \u001b[38;5;34m64\u001b[0m)     │       \u001b[38;5;34m131,072\u001b[0m │\n",
       "│ (\u001b[38;5;33mConv2DTranspose\u001b[0m)               │                        │               │\n",
       "├─────────────────────────────────┼────────────────────────┼───────────────┤\n",
       "│ leaky_re_lu_3 (\u001b[38;5;33mLeakyReLU\u001b[0m)       │ (\u001b[38;5;45mNone\u001b[0m, \u001b[38;5;34m16\u001b[0m, \u001b[38;5;34m16\u001b[0m, \u001b[38;5;34m64\u001b[0m)     │             \u001b[38;5;34m0\u001b[0m │\n",
       "├─────────────────────────────────┼────────────────────────┼───────────────┤\n",
       "│ conv2d_transpose_3              │ (\u001b[38;5;45mNone\u001b[0m, \u001b[38;5;34m32\u001b[0m, \u001b[38;5;34m32\u001b[0m, \u001b[38;5;34m32\u001b[0m)     │        \u001b[38;5;34m32,768\u001b[0m │\n",
       "│ (\u001b[38;5;33mConv2DTranspose\u001b[0m)               │                        │               │\n",
       "├─────────────────────────────────┼────────────────────────┼───────────────┤\n",
       "│ leaky_re_lu_4 (\u001b[38;5;33mLeakyReLU\u001b[0m)       │ (\u001b[38;5;45mNone\u001b[0m, \u001b[38;5;34m32\u001b[0m, \u001b[38;5;34m32\u001b[0m, \u001b[38;5;34m32\u001b[0m)     │             \u001b[38;5;34m0\u001b[0m │\n",
       "├─────────────────────────────────┼────────────────────────┼───────────────┤\n",
       "│ conv2d_transpose_4              │ (\u001b[38;5;45mNone\u001b[0m, \u001b[38;5;34m64\u001b[0m, \u001b[38;5;34m64\u001b[0m, \u001b[38;5;34m3\u001b[0m)      │         \u001b[38;5;34m1,536\u001b[0m │\n",
       "│ (\u001b[38;5;33mConv2DTranspose\u001b[0m)               │                        │               │\n",
       "└─────────────────────────────────┴────────────────────────┴───────────────┘\n"
      ]
     },
     "metadata": {},
     "output_type": "display_data"
    },
    {
     "data": {
      "text/html": [
       "<pre style=\"white-space:pre;overflow-x:auto;line-height:normal;font-family:Menlo,'DejaVu Sans Mono',consolas,'Courier New',monospace\"><span style=\"font-weight: bold\"> Total params: </span><span style=\"color: #00af00; text-decoration-color: #00af00\">2,993,664</span> (11.42 MB)\n",
       "</pre>\n"
      ],
      "text/plain": [
       "\u001b[1m Total params: \u001b[0m\u001b[38;5;34m2,993,664\u001b[0m (11.42 MB)\n"
      ]
     },
     "metadata": {},
     "output_type": "display_data"
    },
    {
     "data": {
      "text/html": [
       "<pre style=\"white-space:pre;overflow-x:auto;line-height:normal;font-family:Menlo,'DejaVu Sans Mono',consolas,'Courier New',monospace\"><span style=\"font-weight: bold\"> Trainable params: </span><span style=\"color: #00af00; text-decoration-color: #00af00\">2,993,664</span> (11.42 MB)\n",
       "</pre>\n"
      ],
      "text/plain": [
       "\u001b[1m Trainable params: \u001b[0m\u001b[38;5;34m2,993,664\u001b[0m (11.42 MB)\n"
      ]
     },
     "metadata": {},
     "output_type": "display_data"
    },
    {
     "data": {
      "text/html": [
       "<pre style=\"white-space:pre;overflow-x:auto;line-height:normal;font-family:Menlo,'DejaVu Sans Mono',consolas,'Courier New',monospace\"><span style=\"font-weight: bold\"> Non-trainable params: </span><span style=\"color: #00af00; text-decoration-color: #00af00\">0</span> (0.00 B)\n",
       "</pre>\n"
      ],
      "text/plain": [
       "\u001b[1m Non-trainable params: \u001b[0m\u001b[38;5;34m0\u001b[0m (0.00 B)\n"
      ]
     },
     "metadata": {},
     "output_type": "display_data"
    }
   ],
   "source": [
    "def build_generator():\n",
    "    init = RandomNormal(stddev=0.02, seed=69)\n",
    "    model = Sequential()\n",
    "\n",
    "    model.add(Dense(2*2*512, input_dim=LATENT_FEATURES, kernel_initializer=init))\n",
    "    model.add(LeakyReLU(0.2))\n",
    "    model.add(Reshape((2,2,512)))\n",
    "\n",
    "    model.add(Conv2DTranspose(256, 4, 2,padding='same', kernel_initializer=init, use_bias=False))\n",
    "    model.add(LeakyReLU(0.2))\n",
    "\n",
    "    model.add(Conv2DTranspose(128, 4, 2,padding='same', kernel_initializer=init, use_bias=False))\n",
    "    model.add(LeakyReLU(0.2))\n",
    "\n",
    "    model.add(Conv2DTranspose(64, 4, 2,padding='same', kernel_initializer=init, use_bias=False))\n",
    "    model.add(LeakyReLU(0.2))\n",
    "\n",
    "    model.add(Conv2DTranspose(32, 4, 2,padding='same', kernel_initializer=init, use_bias=False))\n",
    "    model.add(LeakyReLU(0.2))\n",
    "\n",
    "    model.add(Conv2DTranspose(3, 4, 2,padding='same', activation='tanh', kernel_initializer=init, use_bias=False))\n",
    "\n",
    "    return model\n",
    "\n",
    "generator = build_generator()\n",
    "generator.summary()"
   ]
  },
  {
   "cell_type": "code",
   "execution_count": 15,
   "metadata": {
    "colab": {
     "base_uri": "https://localhost:8080/",
     "height": 467
    },
    "id": "apYqdZtF3FIT",
    "outputId": "53d2af07-36cb-48e5-d7b3-b53f9342fff9"
   },
   "outputs": [
    {
     "name": "stderr",
     "output_type": "stream",
     "text": [
      "2024-08-26 17:42:06.234433: I external/local_xla/xla/stream_executor/cuda/cuda_dnn.cc:531] Loaded cuDNN version 8906\n",
      "W0000 00:00:1724694126.270661     373 gpu_timer.cc:114] Skipping the delay kernel, measurement accuracy will be reduced\n",
      "W0000 00:00:1724694126.287186     373 gpu_timer.cc:114] Skipping the delay kernel, measurement accuracy will be reduced\n",
      "W0000 00:00:1724694126.287870     373 gpu_timer.cc:114] Skipping the delay kernel, measurement accuracy will be reduced\n",
      "W0000 00:00:1724694126.288254     373 gpu_timer.cc:114] Skipping the delay kernel, measurement accuracy will be reduced\n",
      "W0000 00:00:1724694126.308020     373 gpu_timer.cc:114] Skipping the delay kernel, measurement accuracy will be reduced\n",
      "W0000 00:00:1724694126.308449     373 gpu_timer.cc:114] Skipping the delay kernel, measurement accuracy will be reduced\n",
      "W0000 00:00:1724694126.308841     373 gpu_timer.cc:114] Skipping the delay kernel, measurement accuracy will be reduced\n",
      "W0000 00:00:1724694126.310229     373 gpu_timer.cc:114] Skipping the delay kernel, measurement accuracy will be reduced\n",
      "W0000 00:00:1724694126.310620     373 gpu_timer.cc:114] Skipping the delay kernel, measurement accuracy will be reduced\n",
      "W0000 00:00:1724694126.311127     373 gpu_timer.cc:114] Skipping the delay kernel, measurement accuracy will be reduced\n",
      "W0000 00:00:1724694126.311627     373 gpu_timer.cc:114] Skipping the delay kernel, measurement accuracy will be reduced\n",
      "W0000 00:00:1724694126.312028     373 gpu_timer.cc:114] Skipping the delay kernel, measurement accuracy will be reduced\n",
      "W0000 00:00:1724694126.312427     373 gpu_timer.cc:114] Skipping the delay kernel, measurement accuracy will be reduced\n",
      "W0000 00:00:1724694126.313091     373 gpu_timer.cc:114] Skipping the delay kernel, measurement accuracy will be reduced\n",
      "W0000 00:00:1724694126.313756     373 gpu_timer.cc:114] Skipping the delay kernel, measurement accuracy will be reduced\n",
      "W0000 00:00:1724694126.314426     373 gpu_timer.cc:114] Skipping the delay kernel, measurement accuracy will be reduced\n",
      "W0000 00:00:1724694126.315678     373 gpu_timer.cc:114] Skipping the delay kernel, measurement accuracy will be reduced\n",
      "W0000 00:00:1724694126.316291     373 gpu_timer.cc:114] Skipping the delay kernel, measurement accuracy will be reduced\n",
      "W0000 00:00:1724694126.317188     373 gpu_timer.cc:114] Skipping the delay kernel, measurement accuracy will be reduced\n",
      "W0000 00:00:1724694126.317731     373 gpu_timer.cc:114] Skipping the delay kernel, measurement accuracy will be reduced\n",
      "W0000 00:00:1724694126.334318     373 gpu_timer.cc:114] Skipping the delay kernel, measurement accuracy will be reduced\n",
      "W0000 00:00:1724694126.334643     373 gpu_timer.cc:114] Skipping the delay kernel, measurement accuracy will be reduced\n",
      "W0000 00:00:1724694126.334968     373 gpu_timer.cc:114] Skipping the delay kernel, measurement accuracy will be reduced\n",
      "W0000 00:00:1724694126.335289     373 gpu_timer.cc:114] Skipping the delay kernel, measurement accuracy will be reduced\n",
      "W0000 00:00:1724694126.335639     373 gpu_timer.cc:114] Skipping the delay kernel, measurement accuracy will be reduced\n",
      "W0000 00:00:1724694126.335998     373 gpu_timer.cc:114] Skipping the delay kernel, measurement accuracy will be reduced\n",
      "W0000 00:00:1724694126.336368     373 gpu_timer.cc:114] Skipping the delay kernel, measurement accuracy will be reduced\n",
      "W0000 00:00:1724694126.336756     373 gpu_timer.cc:114] Skipping the delay kernel, measurement accuracy will be reduced\n",
      "W0000 00:00:1724694126.337100     373 gpu_timer.cc:114] Skipping the delay kernel, measurement accuracy will be reduced\n",
      "W0000 00:00:1724694126.337420     373 gpu_timer.cc:114] Skipping the delay kernel, measurement accuracy will be reduced\n",
      "W0000 00:00:1724694126.337810     373 gpu_timer.cc:114] Skipping the delay kernel, measurement accuracy will be reduced\n",
      "W0000 00:00:1724694126.338170     373 gpu_timer.cc:114] Skipping the delay kernel, measurement accuracy will be reduced\n",
      "W0000 00:00:1724694126.338505     373 gpu_timer.cc:114] Skipping the delay kernel, measurement accuracy will be reduced\n",
      "W0000 00:00:1724694126.338995     373 gpu_timer.cc:114] Skipping the delay kernel, measurement accuracy will be reduced\n",
      "W0000 00:00:1724694126.339398     373 gpu_timer.cc:114] Skipping the delay kernel, measurement accuracy will be reduced\n",
      "W0000 00:00:1724694126.339883     373 gpu_timer.cc:114] Skipping the delay kernel, measurement accuracy will be reduced\n",
      "W0000 00:00:1724694126.340356     373 gpu_timer.cc:114] Skipping the delay kernel, measurement accuracy will be reduced\n",
      "W0000 00:00:1724694126.340754     373 gpu_timer.cc:114] Skipping the delay kernel, measurement accuracy will be reduced\n",
      "W0000 00:00:1724694126.341182     373 gpu_timer.cc:114] Skipping the delay kernel, measurement accuracy will be reduced\n",
      "W0000 00:00:1724694126.341632     373 gpu_timer.cc:114] Skipping the delay kernel, measurement accuracy will be reduced\n",
      "W0000 00:00:1724694126.343966     373 gpu_timer.cc:114] Skipping the delay kernel, measurement accuracy will be reduced\n",
      "W0000 00:00:1724694126.348610     373 gpu_timer.cc:114] Skipping the delay kernel, measurement accuracy will be reduced\n",
      "W0000 00:00:1724694126.354525     373 gpu_timer.cc:114] Skipping the delay kernel, measurement accuracy will be reduced\n",
      "W0000 00:00:1724694126.354845     373 gpu_timer.cc:114] Skipping the delay kernel, measurement accuracy will be reduced\n",
      "W0000 00:00:1724694126.355148     373 gpu_timer.cc:114] Skipping the delay kernel, measurement accuracy will be reduced\n",
      "W0000 00:00:1724694126.355463     373 gpu_timer.cc:114] Skipping the delay kernel, measurement accuracy will be reduced\n",
      "W0000 00:00:1724694126.355776     373 gpu_timer.cc:114] Skipping the delay kernel, measurement accuracy will be reduced\n",
      "W0000 00:00:1724694126.356092     373 gpu_timer.cc:114] Skipping the delay kernel, measurement accuracy will be reduced\n",
      "W0000 00:00:1724694126.356537     373 gpu_timer.cc:114] Skipping the delay kernel, measurement accuracy will be reduced\n",
      "W0000 00:00:1724694126.356865     373 gpu_timer.cc:114] Skipping the delay kernel, measurement accuracy will be reduced\n",
      "W0000 00:00:1724694126.357186     373 gpu_timer.cc:114] Skipping the delay kernel, measurement accuracy will be reduced\n",
      "W0000 00:00:1724694126.357539     373 gpu_timer.cc:114] Skipping the delay kernel, measurement accuracy will be reduced\n",
      "W0000 00:00:1724694126.357911     373 gpu_timer.cc:114] Skipping the delay kernel, measurement accuracy will be reduced\n",
      "W0000 00:00:1724694126.358298     373 gpu_timer.cc:114] Skipping the delay kernel, measurement accuracy will be reduced\n",
      "W0000 00:00:1724694126.358620     373 gpu_timer.cc:114] Skipping the delay kernel, measurement accuracy will be reduced\n",
      "W0000 00:00:1724694126.358999     373 gpu_timer.cc:114] Skipping the delay kernel, measurement accuracy will be reduced\n",
      "W0000 00:00:1724694126.359382     373 gpu_timer.cc:114] Skipping the delay kernel, measurement accuracy will be reduced\n",
      "W0000 00:00:1724694126.359704     373 gpu_timer.cc:114] Skipping the delay kernel, measurement accuracy will be reduced\n",
      "W0000 00:00:1724694126.360047     373 gpu_timer.cc:114] Skipping the delay kernel, measurement accuracy will be reduced\n",
      "W0000 00:00:1724694126.360391     373 gpu_timer.cc:114] Skipping the delay kernel, measurement accuracy will be reduced\n",
      "W0000 00:00:1724694126.360775     373 gpu_timer.cc:114] Skipping the delay kernel, measurement accuracy will be reduced\n",
      "W0000 00:00:1724694126.361783     373 gpu_timer.cc:114] Skipping the delay kernel, measurement accuracy will be reduced\n",
      "W0000 00:00:1724694126.365870     373 gpu_timer.cc:114] Skipping the delay kernel, measurement accuracy will be reduced\n",
      "W0000 00:00:1724694126.366180     373 gpu_timer.cc:114] Skipping the delay kernel, measurement accuracy will be reduced\n",
      "W0000 00:00:1724694126.366485     373 gpu_timer.cc:114] Skipping the delay kernel, measurement accuracy will be reduced\n",
      "W0000 00:00:1724694126.366805     373 gpu_timer.cc:114] Skipping the delay kernel, measurement accuracy will be reduced\n",
      "W0000 00:00:1724694126.367116     373 gpu_timer.cc:114] Skipping the delay kernel, measurement accuracy will be reduced\n",
      "W0000 00:00:1724694126.367449     373 gpu_timer.cc:114] Skipping the delay kernel, measurement accuracy will be reduced\n",
      "W0000 00:00:1724694126.367760     373 gpu_timer.cc:114] Skipping the delay kernel, measurement accuracy will be reduced\n",
      "W0000 00:00:1724694126.368075     373 gpu_timer.cc:114] Skipping the delay kernel, measurement accuracy will be reduced\n",
      "W0000 00:00:1724694126.368393     373 gpu_timer.cc:114] Skipping the delay kernel, measurement accuracy will be reduced\n",
      "W0000 00:00:1724694126.368712     373 gpu_timer.cc:114] Skipping the delay kernel, measurement accuracy will be reduced\n",
      "W0000 00:00:1724694126.369030     373 gpu_timer.cc:114] Skipping the delay kernel, measurement accuracy will be reduced\n",
      "W0000 00:00:1724694126.369343     373 gpu_timer.cc:114] Skipping the delay kernel, measurement accuracy will be reduced\n",
      "W0000 00:00:1724694126.369766     373 gpu_timer.cc:114] Skipping the delay kernel, measurement accuracy will be reduced\n",
      "W0000 00:00:1724694126.370093     373 gpu_timer.cc:114] Skipping the delay kernel, measurement accuracy will be reduced\n",
      "W0000 00:00:1724694126.370433     373 gpu_timer.cc:114] Skipping the delay kernel, measurement accuracy will be reduced\n",
      "W0000 00:00:1724694126.370774     373 gpu_timer.cc:114] Skipping the delay kernel, measurement accuracy will be reduced\n",
      "W0000 00:00:1724694126.371112     373 gpu_timer.cc:114] Skipping the delay kernel, measurement accuracy will be reduced\n",
      "W0000 00:00:1724694126.371430     373 gpu_timer.cc:114] Skipping the delay kernel, measurement accuracy will be reduced\n",
      "W0000 00:00:1724694126.371803     373 gpu_timer.cc:114] Skipping the delay kernel, measurement accuracy will be reduced\n",
      "W0000 00:00:1724694126.372140     373 gpu_timer.cc:114] Skipping the delay kernel, measurement accuracy will be reduced\n",
      "W0000 00:00:1724694126.372479     373 gpu_timer.cc:114] Skipping the delay kernel, measurement accuracy will be reduced\n",
      "W0000 00:00:1724694126.372817     373 gpu_timer.cc:114] Skipping the delay kernel, measurement accuracy will be reduced\n",
      "W0000 00:00:1724694126.376623     373 gpu_timer.cc:114] Skipping the delay kernel, measurement accuracy will be reduced\n",
      "W0000 00:00:1724694126.376941     373 gpu_timer.cc:114] Skipping the delay kernel, measurement accuracy will be reduced\n",
      "W0000 00:00:1724694126.377251     373 gpu_timer.cc:114] Skipping the delay kernel, measurement accuracy will be reduced\n",
      "W0000 00:00:1724694126.377641     373 gpu_timer.cc:114] Skipping the delay kernel, measurement accuracy will be reduced\n",
      "W0000 00:00:1724694126.377955     373 gpu_timer.cc:114] Skipping the delay kernel, measurement accuracy will be reduced\n",
      "W0000 00:00:1724694126.378272     373 gpu_timer.cc:114] Skipping the delay kernel, measurement accuracy will be reduced\n",
      "W0000 00:00:1724694126.378582     373 gpu_timer.cc:114] Skipping the delay kernel, measurement accuracy will be reduced\n",
      "W0000 00:00:1724694126.378892     373 gpu_timer.cc:114] Skipping the delay kernel, measurement accuracy will be reduced\n",
      "W0000 00:00:1724694126.379215     373 gpu_timer.cc:114] Skipping the delay kernel, measurement accuracy will be reduced\n",
      "W0000 00:00:1724694126.379518     373 gpu_timer.cc:114] Skipping the delay kernel, measurement accuracy will be reduced\n",
      "W0000 00:00:1724694126.379840     373 gpu_timer.cc:114] Skipping the delay kernel, measurement accuracy will be reduced\n",
      "W0000 00:00:1724694126.380168     373 gpu_timer.cc:114] Skipping the delay kernel, measurement accuracy will be reduced\n",
      "W0000 00:00:1724694126.380504     373 gpu_timer.cc:114] Skipping the delay kernel, measurement accuracy will be reduced\n",
      "W0000 00:00:1724694126.380835     373 gpu_timer.cc:114] Skipping the delay kernel, measurement accuracy will be reduced\n",
      "W0000 00:00:1724694126.381152     373 gpu_timer.cc:114] Skipping the delay kernel, measurement accuracy will be reduced\n",
      "W0000 00:00:1724694126.381478     373 gpu_timer.cc:114] Skipping the delay kernel, measurement accuracy will be reduced\n",
      "W0000 00:00:1724694126.381868     373 gpu_timer.cc:114] Skipping the delay kernel, measurement accuracy will be reduced\n",
      "W0000 00:00:1724694126.382255     373 gpu_timer.cc:114] Skipping the delay kernel, measurement accuracy will be reduced\n",
      "W0000 00:00:1724694126.382635     373 gpu_timer.cc:114] Skipping the delay kernel, measurement accuracy will be reduced\n",
      "W0000 00:00:1724694126.382989     373 gpu_timer.cc:114] Skipping the delay kernel, measurement accuracy will be reduced\n",
      "Clipping input data to the valid range for imshow with RGB data ([0..1] for floats or [0..255] for integers). Got range [-0.0032067075..0.0026814765].\n"
     ]
    },
    {
     "data": {
      "text/plain": [
       "<matplotlib.image.AxesImage at 0x7cd3d09f0a90>"
      ]
     },
     "execution_count": 15,
     "metadata": {},
     "output_type": "execute_result"
    },
    {
     "data": {
      "image/png": "[encoded data removed]",
      "text/plain": [
       "<Figure size 640x480 with 1 Axes>"
      ]
     },
     "metadata": {},
     "output_type": "display_data"
    }
   ],
   "source": [
    "img = generator(np.random.normal(size=(1, LATENT_FEATURES, 1)))\n",
    "plt.imshow(img[0])"
   ]
  },
  {
   "cell_type": "markdown",
   "metadata": {
    "id": "odjijaVObK8j"
   },
   "source": [
    "### Discriminator"
   ]
  },
  {
   "cell_type": "code",
   "execution_count": 16,
   "metadata": {
    "colab": {
     "base_uri": "https://localhost:8080/",
     "height": 871
    },
    "id": "8F-nEObe3X5j",
    "outputId": "2fb4723f-79e9-411c-816f-79b3845374ed"
   },
   "outputs": [
    {
     "name": "stderr",
     "output_type": "stream",
     "text": [
      "/usr/local/lib/python3.11/dist-packages/keras/src/layers/convolutional/base_conv.py:107: UserWarning: Do not pass an `input_shape`/`input_dim` argument to a layer. When using Sequential models, prefer using an `Input(shape)` object as the first layer in the model instead.\n",
      "  super().__init__(activity_regularizer=activity_regularizer, **kwargs)\n"
     ]
    },
    {
     "data": {
      "text/html": [
       "<pre style=\"white-space:pre;overflow-x:auto;line-height:normal;font-family:Menlo,'DejaVu Sans Mono',consolas,'Courier New',monospace\"><span style=\"font-weight: bold\">Model: \"sequential_1\"</span>\n",
       "</pre>\n"
      ],
      "text/plain": [
       "\u001b[1mModel: \"sequential_1\"\u001b[0m\n"
      ]
     },
     "metadata": {},
     "output_type": "display_data"
    },
    {
     "data": {
      "text/html": [
       "<pre style=\"white-space:pre;overflow-x:auto;line-height:normal;font-family:Menlo,'DejaVu Sans Mono',consolas,'Courier New',monospace\">┏━━━━━━━━━━━━━━━━━━━━━━━━━━━━━━━━━┳━━━━━━━━━━━━━━━━━━━━━━━━┳━━━━━━━━━━━━━━━┓\n",
       "┃<span style=\"font-weight: bold\"> Layer (type)                    </span>┃<span style=\"font-weight: bold\"> Output Shape           </span>┃<span style=\"font-weight: bold\">       Param # </span>┃\n",
       "┡━━━━━━━━━━━━━━━━━━━━━━━━━━━━━━━━━╇━━━━━━━━━━━━━━━━━━━━━━━━╇━━━━━━━━━━━━━━━┩\n",
       "│ conv2d (<span style=\"color: #0087ff; text-decoration-color: #0087ff\">Conv2D</span>)                 │ (<span style=\"color: #00d7ff; text-decoration-color: #00d7ff\">None</span>, <span style=\"color: #00af00; text-decoration-color: #00af00\">32</span>, <span style=\"color: #00af00; text-decoration-color: #00af00\">32</span>, <span style=\"color: #00af00; text-decoration-color: #00af00\">32</span>)     │         <span style=\"color: #00af00; text-decoration-color: #00af00\">1,536</span> │\n",
       "├─────────────────────────────────┼────────────────────────┼───────────────┤\n",
       "│ leaky_re_lu_5 (<span style=\"color: #0087ff; text-decoration-color: #0087ff\">LeakyReLU</span>)       │ (<span style=\"color: #00d7ff; text-decoration-color: #00d7ff\">None</span>, <span style=\"color: #00af00; text-decoration-color: #00af00\">32</span>, <span style=\"color: #00af00; text-decoration-color: #00af00\">32</span>, <span style=\"color: #00af00; text-decoration-color: #00af00\">32</span>)     │             <span style=\"color: #00af00; text-decoration-color: #00af00\">0</span> │\n",
       "├─────────────────────────────────┼────────────────────────┼───────────────┤\n",
       "│ dropout (<span style=\"color: #0087ff; text-decoration-color: #0087ff\">Dropout</span>)               │ (<span style=\"color: #00d7ff; text-decoration-color: #00d7ff\">None</span>, <span style=\"color: #00af00; text-decoration-color: #00af00\">32</span>, <span style=\"color: #00af00; text-decoration-color: #00af00\">32</span>, <span style=\"color: #00af00; text-decoration-color: #00af00\">32</span>)     │             <span style=\"color: #00af00; text-decoration-color: #00af00\">0</span> │\n",
       "├─────────────────────────────────┼────────────────────────┼───────────────┤\n",
       "│ conv2d_1 (<span style=\"color: #0087ff; text-decoration-color: #0087ff\">Conv2D</span>)               │ (<span style=\"color: #00d7ff; text-decoration-color: #00d7ff\">None</span>, <span style=\"color: #00af00; text-decoration-color: #00af00\">16</span>, <span style=\"color: #00af00; text-decoration-color: #00af00\">16</span>, <span style=\"color: #00af00; text-decoration-color: #00af00\">64</span>)     │        <span style=\"color: #00af00; text-decoration-color: #00af00\">32,768</span> │\n",
       "├─────────────────────────────────┼────────────────────────┼───────────────┤\n",
       "│ leaky_re_lu_6 (<span style=\"color: #0087ff; text-decoration-color: #0087ff\">LeakyReLU</span>)       │ (<span style=\"color: #00d7ff; text-decoration-color: #00d7ff\">None</span>, <span style=\"color: #00af00; text-decoration-color: #00af00\">16</span>, <span style=\"color: #00af00; text-decoration-color: #00af00\">16</span>, <span style=\"color: #00af00; text-decoration-color: #00af00\">64</span>)     │             <span style=\"color: #00af00; text-decoration-color: #00af00\">0</span> │\n",
       "├─────────────────────────────────┼────────────────────────┼───────────────┤\n",
       "│ dropout_1 (<span style=\"color: #0087ff; text-decoration-color: #0087ff\">Dropout</span>)             │ (<span style=\"color: #00d7ff; text-decoration-color: #00d7ff\">None</span>, <span style=\"color: #00af00; text-decoration-color: #00af00\">16</span>, <span style=\"color: #00af00; text-decoration-color: #00af00\">16</span>, <span style=\"color: #00af00; text-decoration-color: #00af00\">64</span>)     │             <span style=\"color: #00af00; text-decoration-color: #00af00\">0</span> │\n",
       "├─────────────────────────────────┼────────────────────────┼───────────────┤\n",
       "│ conv2d_2 (<span style=\"color: #0087ff; text-decoration-color: #0087ff\">Conv2D</span>)               │ (<span style=\"color: #00d7ff; text-decoration-color: #00d7ff\">None</span>, <span style=\"color: #00af00; text-decoration-color: #00af00\">8</span>, <span style=\"color: #00af00; text-decoration-color: #00af00\">8</span>, <span style=\"color: #00af00; text-decoration-color: #00af00\">128</span>)      │       <span style=\"color: #00af00; text-decoration-color: #00af00\">131,072</span> │\n",
       "├─────────────────────────────────┼────────────────────────┼───────────────┤\n",
       "│ leaky_re_lu_7 (<span style=\"color: #0087ff; text-decoration-color: #0087ff\">LeakyReLU</span>)       │ (<span style=\"color: #00d7ff; text-decoration-color: #00d7ff\">None</span>, <span style=\"color: #00af00; text-decoration-color: #00af00\">8</span>, <span style=\"color: #00af00; text-decoration-color: #00af00\">8</span>, <span style=\"color: #00af00; text-decoration-color: #00af00\">128</span>)      │             <span style=\"color: #00af00; text-decoration-color: #00af00\">0</span> │\n",
       "├─────────────────────────────────┼────────────────────────┼───────────────┤\n",
       "│ dropout_2 (<span style=\"color: #0087ff; text-decoration-color: #0087ff\">Dropout</span>)             │ (<span style=\"color: #00d7ff; text-decoration-color: #00d7ff\">None</span>, <span style=\"color: #00af00; text-decoration-color: #00af00\">8</span>, <span style=\"color: #00af00; text-decoration-color: #00af00\">8</span>, <span style=\"color: #00af00; text-decoration-color: #00af00\">128</span>)      │             <span style=\"color: #00af00; text-decoration-color: #00af00\">0</span> │\n",
       "├─────────────────────────────────┼────────────────────────┼───────────────┤\n",
       "│ conv2d_3 (<span style=\"color: #0087ff; text-decoration-color: #0087ff\">Conv2D</span>)               │ (<span style=\"color: #00d7ff; text-decoration-color: #00d7ff\">None</span>, <span style=\"color: #00af00; text-decoration-color: #00af00\">4</span>, <span style=\"color: #00af00; text-decoration-color: #00af00\">4</span>, <span style=\"color: #00af00; text-decoration-color: #00af00\">256</span>)      │       <span style=\"color: #00af00; text-decoration-color: #00af00\">524,288</span> │\n",
       "├─────────────────────────────────┼────────────────────────┼───────────────┤\n",
       "│ leaky_re_lu_8 (<span style=\"color: #0087ff; text-decoration-color: #0087ff\">LeakyReLU</span>)       │ (<span style=\"color: #00d7ff; text-decoration-color: #00d7ff\">None</span>, <span style=\"color: #00af00; text-decoration-color: #00af00\">4</span>, <span style=\"color: #00af00; text-decoration-color: #00af00\">4</span>, <span style=\"color: #00af00; text-decoration-color: #00af00\">256</span>)      │             <span style=\"color: #00af00; text-decoration-color: #00af00\">0</span> │\n",
       "├─────────────────────────────────┼────────────────────────┼───────────────┤\n",
       "│ dropout_3 (<span style=\"color: #0087ff; text-decoration-color: #0087ff\">Dropout</span>)             │ (<span style=\"color: #00d7ff; text-decoration-color: #00d7ff\">None</span>, <span style=\"color: #00af00; text-decoration-color: #00af00\">4</span>, <span style=\"color: #00af00; text-decoration-color: #00af00\">4</span>, <span style=\"color: #00af00; text-decoration-color: #00af00\">256</span>)      │             <span style=\"color: #00af00; text-decoration-color: #00af00\">0</span> │\n",
       "├─────────────────────────────────┼────────────────────────┼───────────────┤\n",
       "│ conv2d_4 (<span style=\"color: #0087ff; text-decoration-color: #0087ff\">Conv2D</span>)               │ (<span style=\"color: #00d7ff; text-decoration-color: #00d7ff\">None</span>, <span style=\"color: #00af00; text-decoration-color: #00af00\">2</span>, <span style=\"color: #00af00; text-decoration-color: #00af00\">2</span>, <span style=\"color: #00af00; text-decoration-color: #00af00\">512</span>)      │     <span style=\"color: #00af00; text-decoration-color: #00af00\">2,097,152</span> │\n",
       "├─────────────────────────────────┼────────────────────────┼───────────────┤\n",
       "│ leaky_re_lu_9 (<span style=\"color: #0087ff; text-decoration-color: #0087ff\">LeakyReLU</span>)       │ (<span style=\"color: #00d7ff; text-decoration-color: #00d7ff\">None</span>, <span style=\"color: #00af00; text-decoration-color: #00af00\">2</span>, <span style=\"color: #00af00; text-decoration-color: #00af00\">2</span>, <span style=\"color: #00af00; text-decoration-color: #00af00\">512</span>)      │             <span style=\"color: #00af00; text-decoration-color: #00af00\">0</span> │\n",
       "├─────────────────────────────────┼────────────────────────┼───────────────┤\n",
       "│ dropout_4 (<span style=\"color: #0087ff; text-decoration-color: #0087ff\">Dropout</span>)             │ (<span style=\"color: #00d7ff; text-decoration-color: #00d7ff\">None</span>, <span style=\"color: #00af00; text-decoration-color: #00af00\">2</span>, <span style=\"color: #00af00; text-decoration-color: #00af00\">2</span>, <span style=\"color: #00af00; text-decoration-color: #00af00\">512</span>)      │             <span style=\"color: #00af00; text-decoration-color: #00af00\">0</span> │\n",
       "├─────────────────────────────────┼────────────────────────┼───────────────┤\n",
       "│ conv2d_5 (<span style=\"color: #0087ff; text-decoration-color: #0087ff\">Conv2D</span>)               │ (<span style=\"color: #00d7ff; text-decoration-color: #00d7ff\">None</span>, <span style=\"color: #00af00; text-decoration-color: #00af00\">1</span>, <span style=\"color: #00af00; text-decoration-color: #00af00\">1</span>, <span style=\"color: #00af00; text-decoration-color: #00af00\">1024</span>)     │     <span style=\"color: #00af00; text-decoration-color: #00af00\">2,097,152</span> │\n",
       "├─────────────────────────────────┼────────────────────────┼───────────────┤\n",
       "│ leaky_re_lu_10 (<span style=\"color: #0087ff; text-decoration-color: #0087ff\">LeakyReLU</span>)      │ (<span style=\"color: #00d7ff; text-decoration-color: #00d7ff\">None</span>, <span style=\"color: #00af00; text-decoration-color: #00af00\">1</span>, <span style=\"color: #00af00; text-decoration-color: #00af00\">1</span>, <span style=\"color: #00af00; text-decoration-color: #00af00\">1024</span>)     │             <span style=\"color: #00af00; text-decoration-color: #00af00\">0</span> │\n",
       "├─────────────────────────────────┼────────────────────────┼───────────────┤\n",
       "│ dropout_5 (<span style=\"color: #0087ff; text-decoration-color: #0087ff\">Dropout</span>)             │ (<span style=\"color: #00d7ff; text-decoration-color: #00d7ff\">None</span>, <span style=\"color: #00af00; text-decoration-color: #00af00\">1</span>, <span style=\"color: #00af00; text-decoration-color: #00af00\">1</span>, <span style=\"color: #00af00; text-decoration-color: #00af00\">1024</span>)     │             <span style=\"color: #00af00; text-decoration-color: #00af00\">0</span> │\n",
       "├─────────────────────────────────┼────────────────────────┼───────────────┤\n",
       "│ flatten (<span style=\"color: #0087ff; text-decoration-color: #0087ff\">Flatten</span>)               │ (<span style=\"color: #00d7ff; text-decoration-color: #00d7ff\">None</span>, <span style=\"color: #00af00; text-decoration-color: #00af00\">1024</span>)           │             <span style=\"color: #00af00; text-decoration-color: #00af00\">0</span> │\n",
       "├─────────────────────────────────┼────────────────────────┼───────────────┤\n",
       "│ dense_1 (<span style=\"color: #0087ff; text-decoration-color: #0087ff\">Dense</span>)                 │ (<span style=\"color: #00d7ff; text-decoration-color: #00d7ff\">None</span>, <span style=\"color: #00af00; text-decoration-color: #00af00\">1</span>)              │         <span style=\"color: #00af00; text-decoration-color: #00af00\">1,025</span> │\n",
       "└─────────────────────────────────┴────────────────────────┴───────────────┘\n",
       "</pre>\n"
      ],
      "text/plain": [
       "┏━━━━━━━━━━━━━━━━━━━━━━━━━━━━━━━━━┳━━━━━━━━━━━━━━━━━━━━━━━━┳━━━━━━━━━━━━━━━┓\n",
       "┃\u001b[1m \u001b[0m\u001b[1mLayer (type)                   \u001b[0m\u001b[1m \u001b[0m┃\u001b[1m \u001b[0m\u001b[1mOutput Shape          \u001b[0m\u001b[1m \u001b[0m┃\u001b[1m \u001b[0m\u001b[1m      Param #\u001b[0m\u001b[1m \u001b[0m┃\n",
       "┡━━━━━━━━━━━━━━━━━━━━━━━━━━━━━━━━━╇━━━━━━━━━━━━━━━━━━━━━━━━╇━━━━━━━━━━━━━━━┩\n",
       "│ conv2d (\u001b[38;5;33mConv2D\u001b[0m)                 │ (\u001b[38;5;45mNone\u001b[0m, \u001b[38;5;34m32\u001b[0m, \u001b[38;5;34m32\u001b[0m, \u001b[38;5;34m32\u001b[0m)     │         \u001b[38;5;34m1,536\u001b[0m │\n",
       "├─────────────────────────────────┼────────────────────────┼───────────────┤\n",
       "│ leaky_re_lu_5 (\u001b[38;5;33mLeakyReLU\u001b[0m)       │ (\u001b[38;5;45mNone\u001b[0m, \u001b[38;5;34m32\u001b[0m, \u001b[38;5;34m32\u001b[0m, \u001b[38;5;34m32\u001b[0m)     │             \u001b[38;5;34m0\u001b[0m │\n",
       "├─────────────────────────────────┼────────────────────────┼───────────────┤\n",
       "│ dropout (\u001b[38;5;33mDropout\u001b[0m)               │ (\u001b[38;5;45mNone\u001b[0m, \u001b[38;5;34m32\u001b[0m, \u001b[38;5;34m32\u001b[0m, \u001b[38;5;34m32\u001b[0m)     │             \u001b[38;5;34m0\u001b[0m │\n",
       "├─────────────────────────────────┼────────────────────────┼───────────────┤\n",
       "│ conv2d_1 (\u001b[38;5;33mConv2D\u001b[0m)               │ (\u001b[38;5;45mNone\u001b[0m, \u001b[38;5;34m16\u001b[0m, \u001b[38;5;34m16\u001b[0m, \u001b[38;5;34m64\u001b[0m)     │        \u001b[38;5;34m32,768\u001b[0m │\n",
       "├─────────────────────────────────┼────────────────────────┼───────────────┤\n",
       "│ leaky_re_lu_6 (\u001b[38;5;33mLeakyReLU\u001b[0m)       │ (\u001b[38;5;45mNone\u001b[0m, \u001b[38;5;34m16\u001b[0m, \u001b[38;5;34m16\u001b[0m, \u001b[38;5;34m64\u001b[0m)     │             \u001b[38;5;34m0\u001b[0m │\n",
       "├─────────────────────────────────┼────────────────────────┼───────────────┤\n",
       "│ dropout_1 (\u001b[38;5;33mDropout\u001b[0m)             │ (\u001b[38;5;45mNone\u001b[0m, \u001b[38;5;34m16\u001b[0m, \u001b[38;5;34m16\u001b[0m, \u001b[38;5;34m64\u001b[0m)     │             \u001b[38;5;34m0\u001b[0m │\n",
       "├─────────────────────────────────┼────────────────────────┼───────────────┤\n",
       "│ conv2d_2 (\u001b[38;5;33mConv2D\u001b[0m)               │ (\u001b[38;5;45mNone\u001b[0m, \u001b[38;5;34m8\u001b[0m, \u001b[38;5;34m8\u001b[0m, \u001b[38;5;34m128\u001b[0m)      │       \u001b[38;5;34m131,072\u001b[0m │\n",
       "├─────────────────────────────────┼────────────────────────┼───────────────┤\n",
       "│ leaky_re_lu_7 (\u001b[38;5;33mLeakyReLU\u001b[0m)       │ (\u001b[38;5;45mNone\u001b[0m, \u001b[38;5;34m8\u001b[0m, \u001b[38;5;34m8\u001b[0m, \u001b[38;5;34m128\u001b[0m)      │             \u001b[38;5;34m0\u001b[0m │\n",
       "├─────────────────────────────────┼────────────────────────┼───────────────┤\n",
       "│ dropout_2 (\u001b[38;5;33mDropout\u001b[0m)             │ (\u001b[38;5;45mNone\u001b[0m, \u001b[38;5;34m8\u001b[0m, \u001b[38;5;34m8\u001b[0m, \u001b[38;5;34m128\u001b[0m)      │             \u001b[38;5;34m0\u001b[0m │\n",
       "├─────────────────────────────────┼────────────────────────┼───────────────┤\n",
       "│ conv2d_3 (\u001b[38;5;33mConv2D\u001b[0m)               │ (\u001b[38;5;45mNone\u001b[0m, \u001b[38;5;34m4\u001b[0m, \u001b[38;5;34m4\u001b[0m, \u001b[38;5;34m256\u001b[0m)      │       \u001b[38;5;34m524,288\u001b[0m │\n",
       "├─────────────────────────────────┼────────────────────────┼───────────────┤\n",
       "│ leaky_re_lu_8 (\u001b[38;5;33mLeakyReLU\u001b[0m)       │ (\u001b[38;5;45mNone\u001b[0m, \u001b[38;5;34m4\u001b[0m, \u001b[38;5;34m4\u001b[0m, \u001b[38;5;34m256\u001b[0m)      │             \u001b[38;5;34m0\u001b[0m │\n",
       "├─────────────────────────────────┼────────────────────────┼───────────────┤\n",
       "│ dropout_3 (\u001b[38;5;33mDropout\u001b[0m)             │ (\u001b[38;5;45mNone\u001b[0m, \u001b[38;5;34m4\u001b[0m, \u001b[38;5;34m4\u001b[0m, \u001b[38;5;34m256\u001b[0m)      │             \u001b[38;5;34m0\u001b[0m │\n",
       "├─────────────────────────────────┼────────────────────────┼───────────────┤\n",
       "│ conv2d_4 (\u001b[38;5;33mConv2D\u001b[0m)               │ (\u001b[38;5;45mNone\u001b[0m, \u001b[38;5;34m2\u001b[0m, \u001b[38;5;34m2\u001b[0m, \u001b[38;5;34m512\u001b[0m)      │     \u001b[38;5;34m2,097,152\u001b[0m │\n",
       "├─────────────────────────────────┼────────────────────────┼───────────────┤\n",
       "│ leaky_re_lu_9 (\u001b[38;5;33mLeakyReLU\u001b[0m)       │ (\u001b[38;5;45mNone\u001b[0m, \u001b[38;5;34m2\u001b[0m, \u001b[38;5;34m2\u001b[0m, \u001b[38;5;34m512\u001b[0m)      │             \u001b[38;5;34m0\u001b[0m │\n",
       "├─────────────────────────────────┼────────────────────────┼───────────────┤\n",
       "│ dropout_4 (\u001b[38;5;33mDropout\u001b[0m)             │ (\u001b[38;5;45mNone\u001b[0m, \u001b[38;5;34m2\u001b[0m, \u001b[38;5;34m2\u001b[0m, \u001b[38;5;34m512\u001b[0m)      │             \u001b[38;5;34m0\u001b[0m │\n",
       "├─────────────────────────────────┼────────────────────────┼───────────────┤\n",
       "│ conv2d_5 (\u001b[38;5;33mConv2D\u001b[0m)               │ (\u001b[38;5;45mNone\u001b[0m, \u001b[38;5;34m1\u001b[0m, \u001b[38;5;34m1\u001b[0m, \u001b[38;5;34m1024\u001b[0m)     │     \u001b[38;5;34m2,097,152\u001b[0m │\n",
       "├─────────────────────────────────┼────────────────────────┼───────────────┤\n",
       "│ leaky_re_lu_10 (\u001b[38;5;33mLeakyReLU\u001b[0m)      │ (\u001b[38;5;45mNone\u001b[0m, \u001b[38;5;34m1\u001b[0m, \u001b[38;5;34m1\u001b[0m, \u001b[38;5;34m1024\u001b[0m)     │             \u001b[38;5;34m0\u001b[0m │\n",
       "├─────────────────────────────────┼────────────────────────┼───────────────┤\n",
       "│ dropout_5 (\u001b[38;5;33mDropout\u001b[0m)             │ (\u001b[38;5;45mNone\u001b[0m, \u001b[38;5;34m1\u001b[0m, \u001b[38;5;34m1\u001b[0m, \u001b[38;5;34m1024\u001b[0m)     │             \u001b[38;5;34m0\u001b[0m │\n",
       "├─────────────────────────────────┼────────────────────────┼───────────────┤\n",
       "│ flatten (\u001b[38;5;33mFlatten\u001b[0m)               │ (\u001b[38;5;45mNone\u001b[0m, \u001b[38;5;34m1024\u001b[0m)           │             \u001b[38;5;34m0\u001b[0m │\n",
       "├─────────────────────────────────┼────────────────────────┼───────────────┤\n",
       "│ dense_1 (\u001b[38;5;33mDense\u001b[0m)                 │ (\u001b[38;5;45mNone\u001b[0m, \u001b[38;5;34m1\u001b[0m)              │         \u001b[38;5;34m1,025\u001b[0m │\n",
       "└─────────────────────────────────┴────────────────────────┴───────────────┘\n"
      ]
     },
     "metadata": {},
     "output_type": "display_data"
    },
    {
     "data": {
      "text/html": [
       "<pre style=\"white-space:pre;overflow-x:auto;line-height:normal;font-family:Menlo,'DejaVu Sans Mono',consolas,'Courier New',monospace\"><span style=\"font-weight: bold\"> Total params: </span><span style=\"color: #00af00; text-decoration-color: #00af00\">4,884,993</span> (18.63 MB)\n",
       "</pre>\n"
      ],
      "text/plain": [
       "\u001b[1m Total params: \u001b[0m\u001b[38;5;34m4,884,993\u001b[0m (18.63 MB)\n"
      ]
     },
     "metadata": {},
     "output_type": "display_data"
    },
    {
     "data": {
      "text/html": [
       "<pre style=\"white-space:pre;overflow-x:auto;line-height:normal;font-family:Menlo,'DejaVu Sans Mono',consolas,'Courier New',monospace\"><span style=\"font-weight: bold\"> Trainable params: </span><span style=\"color: #00af00; text-decoration-color: #00af00\">4,884,993</span> (18.63 MB)\n",
       "</pre>\n"
      ],
      "text/plain": [
       "\u001b[1m Trainable params: \u001b[0m\u001b[38;5;34m4,884,993\u001b[0m (18.63 MB)\n"
      ]
     },
     "metadata": {},
     "output_type": "display_data"
    },
    {
     "data": {
      "text/html": [
       "<pre style=\"white-space:pre;overflow-x:auto;line-height:normal;font-family:Menlo,'DejaVu Sans Mono',consolas,'Courier New',monospace\"><span style=\"font-weight: bold\"> Non-trainable params: </span><span style=\"color: #00af00; text-decoration-color: #00af00\">0</span> (0.00 B)\n",
       "</pre>\n"
      ],
      "text/plain": [
       "\u001b[1m Non-trainable params: \u001b[0m\u001b[38;5;34m0\u001b[0m (0.00 B)\n"
      ]
     },
     "metadata": {},
     "output_type": "display_data"
    }
   ],
   "source": [
    "def build_discriminator():\n",
    "    init = RandomNormal(stddev=0.02, seed=69)\n",
    "    model = Sequential()\n",
    "\n",
    "    model.add(Conv2D(32, 4, 2, padding='same',\n",
    "                     input_shape = (IMAGE_WIDTH,IMAGE_HEIGHT,3),\n",
    "                     kernel_initializer=init, use_bias=False))\n",
    "    model.add(LeakyReLU(0.2))\n",
    "    model.add(Dropout(0.25))\n",
    "\n",
    "    model.add(Conv2D(64, 4, 2, padding='same', kernel_initializer=init,\n",
    "                        use_bias=False))\n",
    "    model.add(LeakyReLU(0.2))\n",
    "    model.add(Dropout(0.25))\n",
    "\n",
    "    model.add(Conv2D(128, 4, 2, padding='same', kernel_initializer=init,\n",
    "                        use_bias=False))\n",
    "    model.add(LeakyReLU(0.2))\n",
    "    model.add(Dropout(0.25))\n",
    "\n",
    "    model.add(Conv2D(256, 4, 2, padding='same', kernel_initializer=init,\n",
    "                        use_bias=False))\n",
    "    model.add(LeakyReLU(0.2))\n",
    "    model.add(Dropout(0.25))\n",
    "\n",
    "    model.add(Conv2D(512, 4, 2, padding='same', kernel_initializer=init,\n",
    "                        use_bias=False))\n",
    "    model.add(LeakyReLU(0.2))\n",
    "    model.add(Dropout(0.25))\n",
    "\n",
    "    model.add(Conv2D(1024, 2, 1, kernel_initializer=init,\n",
    "                        use_bias=False))\n",
    "    model.add(LeakyReLU(0.2))\n",
    "    model.add(Dropout(0.25))\n",
    "\n",
    "    model.add(Flatten())\n",
    "    model.add(Dense(1, activation='sigmoid'))\n",
    "\n",
    "    return model\n",
    "\n",
    "discriminator = build_discriminator()\n",
    "discriminator.summary()"
   ]
  },
  {
   "cell_type": "code",
   "execution_count": 17,
   "metadata": {
    "colab": {
     "base_uri": "https://localhost:8080/"
    },
    "id": "5xtmXQdd3mMi",
    "outputId": "bd1eb7d9-ff48-4caa-eaa8-28d42d337064"
   },
   "outputs": [
    {
     "name": "stderr",
     "output_type": "stream",
     "text": [
      "WARNING: All log messages before absl::InitializeLog() is called are written to STDERR\n",
      "I0000 00:00:1724694127.329303     521 service.cc:146] XLA service 0x7cd23c0044a0 initialized for platform CUDA (this does not guarantee that XLA will be used). Devices:\n",
      "I0000 00:00:1724694127.329330     521 service.cc:154]   StreamExecutor device (0): NVIDIA GeForce RTX 3090, Compute Capability 8.6\n",
      "2024-08-26 17:42:07.334375: I tensorflow/compiler/mlir/tensorflow/utils/dump_mlir_util.cc:268] disabling MLIR crash reproducer, set env var `MLIR_CRASH_REPRODUCER_DIRECTORY` to enable.\n"
     ]
    },
    {
     "name": "stdout",
     "output_type": "stream",
     "text": [
      "\u001b[1m1/1\u001b[0m \u001b[32m━━━━━━━━━━━━━━━━━━━━\u001b[0m\u001b[37m\u001b[0m \u001b[1m0s\u001b[0m 326ms/step\n"
     ]
    },
    {
     "name": "stderr",
     "output_type": "stream",
     "text": [
      "I0000 00:00:1724694127.613573     521 device_compiler.h:188] Compiled cluster using XLA!  This line is logged at most once for the lifetime of the process.\n"
     ]
    },
    {
     "name": "stdout",
     "output_type": "stream",
     "text": [
      "\u001b[1m1/1\u001b[0m \u001b[32m━━━━━━━━━━━━━━━━━━━━\u001b[0m\u001b[37m\u001b[0m \u001b[1m0s\u001b[0m 419ms/step\n"
     ]
    },
    {
     "data": {
      "text/plain": [
       "array([[0.49999964],\n",
       "       [0.50000316],\n",
       "       [0.5000019 ],\n",
       "       [0.50000113]], dtype=float32)"
      ]
     },
     "execution_count": 17,
     "metadata": {},
     "output_type": "execute_result"
    }
   ],
   "source": [
    "img = generator.predict(np.random.normal(size=(4, LATENT_FEATURES, 1)))\n",
    "discriminator.predict(img)"
   ]
  },
  {
   "cell_type": "markdown",
   "metadata": {
    "id": "rXaiomkD33M1"
   },
   "source": [
    "## Training loop"
   ]
  },
  {
   "cell_type": "code",
   "execution_count": 18,
   "metadata": {
    "id": "L3WXmHfZ35Qh"
   },
   "outputs": [],
   "source": [
    "from keras.models import Model\n",
    "from keras.optimizers import Adam\n",
    "from keras.losses import BinaryCrossentropy\n",
    "from keras.utils import array_to_img\n",
    "from keras.callbacks import Callback"
   ]
  },
  {
   "cell_type": "code",
   "execution_count": 19,
   "metadata": {
    "id": "Rz5MSHRB4Ozf"
   },
   "outputs": [],
   "source": [
    "class GAN(Model):\n",
    "    def __init__(self, generator, discriminator, *args, **kwargs):\n",
    "        super().__init__(*args, **kwargs)\n",
    "        self.generator = generator\n",
    "        self.discriminator = discriminator\n",
    "\n",
    "    def compile(self, g_opt, d_opt, g_loss, d_loss, *args, **kwargs):\n",
    "        super().compile(*args, **kwargs)\n",
    "        self.g_opt = g_opt\n",
    "        self.d_opt = d_opt\n",
    "        self.g_loss = g_loss\n",
    "        self.d_loss = d_loss\n",
    "\n",
    "    def train_step(self, batch):\n",
    "        # Train the discriminator\n",
    "        batch, labels = batch\n",
    "        with tf.GradientTape() as d_tape:\n",
    "            real_images = batch\n",
    "            ypred_real = self.discriminator(real_images, training=True)\n",
    "            # y_real = tf.ones_like(ypred_real)\n",
    "            # noise_real = -0.10*tf.random.uniform(tf.shape(ypred_real))\n",
    "            # y_real += noise_real\n",
    "            real_d_loss = self.d_loss(labels, ypred_real)\n",
    "        # dgrad = d_tape.gradient(real_d_loss, self.discriminator.trainable_variables)\n",
    "        # self.d_opt.apply_gradients(zip(dgrad, self.discriminator.trainable_variables))\n",
    "\n",
    "        # with tf.GradientTape() as d_tape:\n",
    "            fake_images = self.generator(tf.random.normal((BATCH_SIZE, LATENT_FEATURES, 1)), training=False)\n",
    "            ypred_fake = self.discriminator(fake_images, training=True)\n",
    "            y_fake = tf.zeros_like(ypred_fake)\n",
    "            # noise_fake = 0.10*tf.random.uniform(tf.shape(ypred_fake))\n",
    "            # y_fake += noise_fake\n",
    "            fake_d_loss = self.d_loss(y_fake, ypred_fake)\n",
    "\n",
    "            total_d_loss = real_d_loss + fake_d_loss\n",
    "        # Apply backpropagation - nn learn\n",
    "        dgrad = d_tape.gradient(total_d_loss, self.discriminator.trainable_variables)\n",
    "        self.d_opt.apply_gradients(zip(dgrad, self.discriminator.trainable_variables))\n",
    "\n",
    "        # Train the generator\n",
    "        with tf.GradientTape() as g_tape:\n",
    "            gen_images = self.generator(tf.random.normal((BATCH_SIZE,LATENT_FEATURES,1)), training=True)\n",
    "            predicted_labels = self.discriminator(gen_images, training=False)\n",
    "            total_g_loss = self.g_loss(tf.ones_like(predicted_labels), predicted_labels)\n",
    "        # Apply backprop\n",
    "        ggrad = g_tape.gradient(total_g_loss, self.generator.trainable_variables)\n",
    "        self.g_opt.apply_gradients(zip(ggrad, self.generator.trainable_variables))\n",
    "\n",
    "        return {\"d_loss\":total_d_loss,\"d_loss_real\":real_d_loss,\"d_loss_fake\":fake_d_loss, \"g_loss\":total_g_loss}"
   ]
  },
  {
   "cell_type": "code",
   "execution_count": 20,
   "metadata": {
    "id": "88o1jvCc4GOe"
   },
   "outputs": [],
   "source": [
    "d_opt = Adam(learning_rate=0.0002,beta_1=0.5)\n",
    "g_opt = Adam(learning_rate=0.0002,beta_1=0.5)\n",
    "g_loss = BinaryCrossentropy()\n",
    "d_loss = BinaryCrossentropy()\n",
    "\n",
    "gan = GAN(generator, discriminator)\n",
    "gan.compile(g_opt, d_opt, g_loss, d_loss)"
   ]
  },
  {
   "cell_type": "code",
   "execution_count": 21,
   "metadata": {
    "id": "oZgr9jxY4X-S"
   },
   "outputs": [],
   "source": [
    "class ModelMonitor(Callback):\n",
    "    def __init__(self, latent_dim=LATENT_FEATURES):\n",
    "        self.latent_dim = latent_dim\n",
    "\n",
    "    def on_epoch_end(self, epoch, logs=None):\n",
    "        if epoch % 5 == 0:\n",
    "            random_latent_vectors = tf.random.uniform((1, self.latent_dim,1))\n",
    "            generated_images = self.model.generator(random_latent_vectors)\n",
    "            generated_images = (generated_images + 1) / 2\n",
    "            generated_images = generated_images.numpy()\n",
    "            img = array_to_img(generated_images[0])\n",
    "            os.makedirs(\"training/\", exist_ok=True)\n",
    "            img.save(f'training/{epoch}_generated_img.png')\n",
    "            generator.save(GENERATOR_PATH,include_optimizer=True)\n",
    "            discriminator.save(DISCRIMINATOR_PATH,include_optimizer=True)\n"
   ]
  },
  {
   "cell_type": "markdown",
   "metadata": {
    "id": "gY9e10pb4daj"
   },
   "source": [
    "## Training"
   ]
  },
  {
   "cell_type": "code",
   "execution_count": null,
   "metadata": {
    "colab": {
     "base_uri": "https://localhost:8080/"
    },
    "id": "zi8VqtIS4e36",
    "outputId": "4225d4b4-656f-44a9-837a-c9e8654c7b6a"
   },
   "outputs": [
    {
     "name": "stdout",
     "output_type": "stream",
     "text": [
      "Epoch 1/500\n",
      "\u001b[1m98/98\u001b[0m \u001b[32m━━━━━━━━━━━━━━━━━━━━\u001b[0m\u001b[37m\u001b[0m \u001b[1m15s\u001b[0m 77ms/step - d_loss: 1.3482 - d_loss_fake: 0.6959 - d_loss_real: 0.6522 - g_loss: 0.6977\n",
      "Epoch 2/500\n",
      "\u001b[1m98/98\u001b[0m \u001b[32m━━━━━━━━━━━━━━━━━━━━\u001b[0m\u001b[37m\u001b[0m \u001b[1m2s\u001b[0m 21ms/step - d_loss: 1.2766 - d_loss_fake: 0.6914 - d_loss_real: 0.5852 - g_loss: 0.7085\n",
      "Epoch 3/500\n",
      "\u001b[1m98/98\u001b[0m \u001b[32m━━━━━━━━━━━━━━━━━━━━\u001b[0m\u001b[37m\u001b[0m \u001b[1m2s\u001b[0m 21ms/step - d_loss: 1.2267 - d_loss_fake: 0.6812 - d_loss_real: 0.5455 - g_loss: 0.7188\n",
      "Epoch 4/500\n",
      "\u001b[1m98/98\u001b[0m \u001b[32m━━━━━━━━━━━━━━━━━━━━\u001b[0m\u001b[37m\u001b[0m \u001b[1m2s\u001b[0m 21ms/step - d_loss: 1.1914 - d_loss_fake: 0.6779 - d_loss_real: 0.5136 - g_loss: 0.7277\n",
      "Epoch 5/500\n",
      "\u001b[1m98/98\u001b[0m \u001b[32m━━━━━━━━━━━━━━━━━━━━\u001b[0m\u001b[37m\u001b[0m \u001b[1m2s\u001b[0m 21ms/step - d_loss: 1.1499 - d_loss_fake: 0.6694 - d_loss_real: 0.4805 - g_loss: 0.7393\n",
      "Epoch 6/500\n",
      "\u001b[1m98/98\u001b[0m \u001b[32m━━━━━━━━━━━━━━━━━━━━\u001b[0m\u001b[37m\u001b[0m \u001b[1m2s\u001b[0m 22ms/step - d_loss: 1.1052 - d_loss_fake: 0.6559 - d_loss_real: 0.4494 - g_loss: 0.7518\n",
      "Epoch 7/500\n",
      "\u001b[1m98/98\u001b[0m \u001b[32m━━━━━━━━━━━━━━━━━━━━\u001b[0m\u001b[37m\u001b[0m \u001b[1m2s\u001b[0m 21ms/step - d_loss: 1.0705 - d_loss_fake: 0.6485 - d_loss_real: 0.4221 - g_loss: 0.7571\n",
      "Epoch 8/500\n",
      "\u001b[1m98/98\u001b[0m \u001b[32m━━━━━━━━━━━━━━━━━━━━\u001b[0m\u001b[37m\u001b[0m \u001b[1m2s\u001b[0m 21ms/step - d_loss: 1.0302 - d_loss_fake: 0.6363 - d_loss_real: 0.3939 - g_loss: 0.7709\n",
      "Epoch 9/500\n",
      "\u001b[1m98/98\u001b[0m \u001b[32m━━━━━━━━━━━━━━━━━━━━\u001b[0m\u001b[37m\u001b[0m \u001b[1m2s\u001b[0m 21ms/step - d_loss: 1.0074 - d_loss_fake: 0.6323 - d_loss_real: 0.3751 - g_loss: 0.7800\n",
      "Epoch 10/500\n",
      "\u001b[1m98/98\u001b[0m \u001b[32m━━━━━━━━━━━━━━━━━━━━\u001b[0m\u001b[37m\u001b[0m \u001b[1m2s\u001b[0m 21ms/step - d_loss: 0.9736 - d_loss_fake: 0.6181 - d_loss_real: 0.3555 - g_loss: 0.7913\n",
      "Epoch 11/500\n",
      "\u001b[1m98/98\u001b[0m \u001b[32m━━━━━━━━━━━━━━━━━━━━\u001b[0m\u001b[37m\u001b[0m \u001b[1m2s\u001b[0m 22ms/step - d_loss: 0.9487 - d_loss_fake: 0.6114 - d_loss_real: 0.3373 - g_loss: 0.8020\n",
      "Epoch 12/500\n",
      "\u001b[1m98/98\u001b[0m \u001b[32m━━━━━━━━━━━━━━━━━━━━\u001b[0m\u001b[37m\u001b[0m \u001b[1m2s\u001b[0m 21ms/step - d_loss: 0.9457 - d_loss_fake: 0.6165 - d_loss_real: 0.3292 - g_loss: 0.8033\n",
      "Epoch 13/500\n",
      "\u001b[1m98/98\u001b[0m \u001b[32m━━━━━━━━━━━━━━━━━━━━\u001b[0m\u001b[37m\u001b[0m \u001b[1m2s\u001b[0m 21ms/step - d_loss: 0.9475 - d_loss_fake: 0.6194 - d_loss_real: 0.3280 - g_loss: 0.8273\n",
      "Epoch 14/500\n",
      "\u001b[1m98/98\u001b[0m \u001b[32m━━━━━━━━━━━━━━━━━━━━\u001b[0m\u001b[37m\u001b[0m \u001b[1m2s\u001b[0m 21ms/step - d_loss: 0.9248 - d_loss_fake: 0.6081 - d_loss_real: 0.3167 - g_loss: 0.8267\n",
      "Epoch 15/500\n",
      "\u001b[1m98/98\u001b[0m \u001b[32m━━━━━━━━━━━━━━━━━━━━\u001b[0m\u001b[37m\u001b[0m \u001b[1m2s\u001b[0m 21ms/step - d_loss: 0.9192 - d_loss_fake: 0.6056 - d_loss_real: 0.3135 - g_loss: 0.8439\n",
      "Epoch 16/500\n",
      "\u001b[1m98/98\u001b[0m \u001b[32m━━━━━━━━━━━━━━━━━━━━\u001b[0m\u001b[37m\u001b[0m \u001b[1m2s\u001b[0m 22ms/step - d_loss: 0.9066 - d_loss_fake: 0.6019 - d_loss_real: 0.3047 - g_loss: 0.8502\n",
      "Epoch 17/500\n",
      "\u001b[1m98/98\u001b[0m \u001b[32m━━━━━━━━━━━━━━━━━━━━\u001b[0m\u001b[37m\u001b[0m \u001b[1m2s\u001b[0m 21ms/step - d_loss: 0.8916 - d_loss_fake: 0.5940 - d_loss_real: 0.2977 - g_loss: 0.8640\n",
      "Epoch 18/500\n",
      "\u001b[1m98/98\u001b[0m \u001b[32m━━━━━━━━━━━━━━━━━━━━\u001b[0m\u001b[37m\u001b[0m \u001b[1m2s\u001b[0m 21ms/step - d_loss: 0.8801 - d_loss_fake: 0.5864 - d_loss_real: 0.2937 - g_loss: 0.8665\n",
      "Epoch 19/500\n",
      "\u001b[1m98/98\u001b[0m \u001b[32m━━━━━━━━━━━━━━━━━━━━\u001b[0m\u001b[37m\u001b[0m \u001b[1m2s\u001b[0m 21ms/step - d_loss: 0.8640 - d_loss_fake: 0.5791 - d_loss_real: 0.2850 - g_loss: 0.8848\n",
      "Epoch 20/500\n",
      "\u001b[1m98/98\u001b[0m \u001b[32m━━━━━━━━━━━━━━━━━━━━\u001b[0m\u001b[37m\u001b[0m \u001b[1m2s\u001b[0m 21ms/step - d_loss: 0.8468 - d_loss_fake: 0.5676 - d_loss_real: 0.2792 - g_loss: 0.8927\n",
      "Epoch 21/500\n",
      "\u001b[1m98/98\u001b[0m \u001b[32m━━━━━━━━━━━━━━━━━━━━\u001b[0m\u001b[37m\u001b[0m \u001b[1m2s\u001b[0m 22ms/step - d_loss: 0.8333 - d_loss_fake: 0.5658 - d_loss_real: 0.2676 - g_loss: 0.9061\n",
      "Epoch 22/500\n",
      "\u001b[1m98/98\u001b[0m \u001b[32m━━━━━━━━━━━━━━━━━━━━\u001b[0m\u001b[37m\u001b[0m \u001b[1m2s\u001b[0m 21ms/step - d_loss: 0.8120 - d_loss_fake: 0.5512 - d_loss_real: 0.2608 - g_loss: 0.9245\n",
      "Epoch 23/500\n",
      "\u001b[1m98/98\u001b[0m \u001b[32m━━━━━━━━━━━━━━━━━━━━\u001b[0m\u001b[37m\u001b[0m \u001b[1m2s\u001b[0m 21ms/step - d_loss: 0.7862 - d_loss_fake: 0.5338 - d_loss_real: 0.2524 - g_loss: 0.9276\n",
      "Epoch 24/500\n",
      "\u001b[1m98/98\u001b[0m \u001b[32m━━━━━━━━━━━━━━━━━━━━\u001b[0m\u001b[37m\u001b[0m \u001b[1m2s\u001b[0m 21ms/step - d_loss: 0.7725 - d_loss_fake: 0.5306 - d_loss_real: 0.2419 - g_loss: 0.9338\n",
      "Epoch 25/500\n",
      "\u001b[1m98/98\u001b[0m \u001b[32m━━━━━━━━━━━━━━━━━━━━\u001b[0m\u001b[37m\u001b[0m \u001b[1m2s\u001b[0m 21ms/step - d_loss: 0.7686 - d_loss_fake: 0.5290 - d_loss_real: 0.2396 - g_loss: 0.9524\n",
      "Epoch 26/500\n",
      "\u001b[1m98/98\u001b[0m \u001b[32m━━━━━━━━━━━━━━━━━━━━\u001b[0m\u001b[37m\u001b[0m \u001b[1m2s\u001b[0m 22ms/step - d_loss: 0.7492 - d_loss_fake: 0.5159 - d_loss_real: 0.2333 - g_loss: 0.9591\n",
      "Epoch 27/500\n",
      "\u001b[1m98/98\u001b[0m \u001b[32m━━━━━━━━━━━━━━━━━━━━\u001b[0m\u001b[37m\u001b[0m \u001b[1m2s\u001b[0m 21ms/step - d_loss: 0.7353 - d_loss_fake: 0.5122 - d_loss_real: 0.2230 - g_loss: 0.9745\n",
      "Epoch 28/500\n",
      "\u001b[1m98/98\u001b[0m \u001b[32m━━━━━━━━━━━━━━━━━━━━\u001b[0m\u001b[37m\u001b[0m \u001b[1m2s\u001b[0m 21ms/step - d_loss: 0.7205 - d_loss_fake: 0.5026 - d_loss_real: 0.2179 - g_loss: 0.9814\n",
      "Epoch 29/500\n",
      "\u001b[1m98/98\u001b[0m \u001b[32m━━━━━━━━━━━━━━━━━━━━\u001b[0m\u001b[37m\u001b[0m \u001b[1m2s\u001b[0m 21ms/step - d_loss: 0.7129 - d_loss_fake: 0.4986 - d_loss_real: 0.2143 - g_loss: 0.9998\n",
      "Epoch 30/500\n",
      "\u001b[1m98/98\u001b[0m \u001b[32m━━━━━━━━━━━━━━━━━━━━\u001b[0m\u001b[37m\u001b[0m \u001b[1m2s\u001b[0m 21ms/step - d_loss: 0.7001 - d_loss_fake: 0.4883 - d_loss_real: 0.2118 - g_loss: 1.0003\n",
      "Epoch 31/500\n",
      "\u001b[1m98/98\u001b[0m \u001b[32m━━━━━━━━━━━━━━━━━━━━\u001b[0m\u001b[37m\u001b[0m \u001b[1m2s\u001b[0m 22ms/step - d_loss: 0.6923 - d_loss_fake: 0.4891 - d_loss_real: 0.2032 - g_loss: 1.0152\n",
      "Epoch 32/500\n",
      "\u001b[1m98/98\u001b[0m \u001b[32m━━━━━━━━━━━━━━━━━━━━\u001b[0m\u001b[37m\u001b[0m \u001b[1m2s\u001b[0m 21ms/step - d_loss: 0.6703 - d_loss_fake: 0.4722 - d_loss_real: 0.1981 - g_loss: 1.0347\n",
      "Epoch 33/500\n",
      "\u001b[1m98/98\u001b[0m \u001b[32m━━━━━━━━━━━━━━━━━━━━\u001b[0m\u001b[37m\u001b[0m \u001b[1m2s\u001b[0m 21ms/step - d_loss: 0.6629 - d_loss_fake: 0.4717 - d_loss_real: 0.1912 - g_loss: 1.0319\n",
      "Epoch 34/500\n",
      "\u001b[1m98/98\u001b[0m \u001b[32m━━━━━━━━━━━━━━━━━━━━\u001b[0m\u001b[37m\u001b[0m \u001b[1m2s\u001b[0m 21ms/step - d_loss: 0.6601 - d_loss_fake: 0.4687 - d_loss_real: 0.1914 - g_loss: 1.0549\n",
      "Epoch 35/500\n",
      "\u001b[1m98/98\u001b[0m \u001b[32m━━━━━━━━━━━━━━━━━━━━\u001b[0m\u001b[37m\u001b[0m \u001b[1m2s\u001b[0m 21ms/step - d_loss: 0.6501 - d_loss_fake: 0.4619 - d_loss_real: 0.1883 - g_loss: 1.0538\n",
      "Epoch 36/500\n",
      "\u001b[1m98/98\u001b[0m \u001b[32m━━━━━━━━━━━━━━━━━━━━\u001b[0m\u001b[37m\u001b[0m \u001b[1m2s\u001b[0m 22ms/step - d_loss: 0.6446 - d_loss_fake: 0.4559 - d_loss_real: 0.1886 - g_loss: 1.0817\n",
      "Epoch 37/500\n",
      "\u001b[1m98/98\u001b[0m \u001b[32m━━━━━━━━━━━━━━━━━━━━\u001b[0m\u001b[37m\u001b[0m \u001b[1m2s\u001b[0m 21ms/step - d_loss: 0.6231 - d_loss_fake: 0.4467 - d_loss_real: 0.1764 - g_loss: 1.0810\n",
      "Epoch 38/500\n",
      "\u001b[1m98/98\u001b[0m \u001b[32m━━━━━━━━━━━━━━━━━━━━\u001b[0m\u001b[37m\u001b[0m \u001b[1m2s\u001b[0m 21ms/step - d_loss: 0.6236 - d_loss_fake: 0.4419 - d_loss_real: 0.1817 - g_loss: 1.1109\n",
      "Epoch 39/500\n",
      "\u001b[1m98/98\u001b[0m \u001b[32m━━━━━━━━━━━━━━━━━━━━\u001b[0m\u001b[37m\u001b[0m \u001b[1m2s\u001b[0m 21ms/step - d_loss: 0.6017 - d_loss_fake: 0.4346 - d_loss_real: 0.1671 - g_loss: 1.1051\n",
      "Epoch 40/500\n",
      "\u001b[1m98/98\u001b[0m \u001b[32m━━━━━━━━━━━━━━━━━━━━\u001b[0m\u001b[37m\u001b[0m \u001b[1m2s\u001b[0m 21ms/step - d_loss: 0.6077 - d_loss_fake: 0.4357 - d_loss_real: 0.1720 - g_loss: 1.1280\n",
      "Epoch 41/500\n",
      "\u001b[1m98/98\u001b[0m \u001b[32m━━━━━━━━━━━━━━━━━━━━\u001b[0m\u001b[37m\u001b[0m \u001b[1m2s\u001b[0m 22ms/step - d_loss: 0.5990 - d_loss_fake: 0.4279 - d_loss_real: 0.1711 - g_loss: 1.1297\n",
      "Epoch 42/500\n",
      "\u001b[1m98/98\u001b[0m \u001b[32m━━━━━━━━━━━━━━━━━━━━\u001b[0m\u001b[37m\u001b[0m \u001b[1m2s\u001b[0m 21ms/step - d_loss: 0.5863 - d_loss_fake: 0.4215 - d_loss_real: 0.1648 - g_loss: 1.1421\n",
      "Epoch 43/500\n",
      "\u001b[1m98/98\u001b[0m \u001b[32m━━━━━━━━━━━━━━━━━━━━\u001b[0m\u001b[37m\u001b[0m \u001b[1m2s\u001b[0m 21ms/step - d_loss: 0.5715 - d_loss_fake: 0.4142 - d_loss_real: 0.1572 - g_loss: 1.1578\n",
      "Epoch 44/500\n",
      "\u001b[1m98/98\u001b[0m \u001b[32m━━━━━━━━━━━━━━━━━━━━\u001b[0m\u001b[37m\u001b[0m \u001b[1m2s\u001b[0m 21ms/step - d_loss: 0.5643 - d_loss_fake: 0.4053 - d_loss_real: 0.1590 - g_loss: 1.1765\n",
      "Epoch 45/500\n",
      "\u001b[1m98/98\u001b[0m \u001b[32m━━━━━━━━━━━━━━━━━━━━\u001b[0m\u001b[37m\u001b[0m \u001b[1m2s\u001b[0m 21ms/step - d_loss: 0.5555 - d_loss_fake: 0.3970 - d_loss_real: 0.1585 - g_loss: 1.1732\n",
      "Epoch 46/500\n",
      "\u001b[1m98/98\u001b[0m \u001b[32m━━━━━━━━━━━━━━━━━━━━\u001b[0m\u001b[37m\u001b[0m \u001b[1m2s\u001b[0m 22ms/step - d_loss: 0.5518 - d_loss_fake: 0.3972 - d_loss_real: 0.1546 - g_loss: 1.1908\n",
      "Epoch 47/500\n",
      "\u001b[1m98/98\u001b[0m \u001b[32m━━━━━━━━━━━━━━━━━━━━\u001b[0m\u001b[37m\u001b[0m \u001b[1m2s\u001b[0m 21ms/step - d_loss: 0.5446 - d_loss_fake: 0.3931 - d_loss_real: 0.1515 - g_loss: 1.2030\n",
      "Epoch 48/500\n",
      "\u001b[1m98/98\u001b[0m \u001b[32m━━━━━━━━━━━━━━━━━━━━\u001b[0m\u001b[37m\u001b[0m \u001b[1m2s\u001b[0m 21ms/step - d_loss: 0.5310 - d_loss_fake: 0.3801 - d_loss_real: 0.1509 - g_loss: 1.2238\n",
      "Epoch 49/500\n",
      "\u001b[1m98/98\u001b[0m \u001b[32m━━━━━━━━━━━━━━━━━━━━\u001b[0m\u001b[37m\u001b[0m \u001b[1m2s\u001b[0m 21ms/step - d_loss: 0.5197 - d_loss_fake: 0.3735 - d_loss_real: 0.1462 - g_loss: 1.2247\n",
      "Epoch 50/500\n",
      "\u001b[1m98/98\u001b[0m \u001b[32m━━━━━━━━━━━━━━━━━━━━\u001b[0m\u001b[37m\u001b[0m \u001b[1m2s\u001b[0m 21ms/step - d_loss: 0.5226 - d_loss_fake: 0.3779 - d_loss_real: 0.1447 - g_loss: 1.2486\n",
      "Epoch 51/500\n",
      "\u001b[1m98/98\u001b[0m \u001b[32m━━━━━━━━━━━━━━━━━━━━\u001b[0m\u001b[37m\u001b[0m \u001b[1m2s\u001b[0m 22ms/step - d_loss: 0.5146 - d_loss_fake: 0.3714 - d_loss_real: 0.1432 - g_loss: 1.2646\n",
      "Epoch 52/500\n",
      "\u001b[1m98/98\u001b[0m \u001b[32m━━━━━━━━━━━━━━━━━━━━\u001b[0m\u001b[37m\u001b[0m \u001b[1m2s\u001b[0m 21ms/step - d_loss: 0.5096 - d_loss_fake: 0.3689 - d_loss_real: 0.1406 - g_loss: 1.2629\n",
      "Epoch 53/500\n",
      "\u001b[1m98/98\u001b[0m \u001b[32m━━━━━━━━━━━━━━━━━━━━\u001b[0m\u001b[37m\u001b[0m \u001b[1m2s\u001b[0m 21ms/step - d_loss: 0.4947 - d_loss_fake: 0.3554 - d_loss_real: 0.1393 - g_loss: 1.2878\n",
      "Epoch 54/500\n",
      "\u001b[1m98/98\u001b[0m \u001b[32m━━━━━━━━━━━━━━━━━━━━\u001b[0m\u001b[37m\u001b[0m \u001b[1m2s\u001b[0m 21ms/step - d_loss: 0.4860 - d_loss_fake: 0.3513 - d_loss_real: 0.1347 - g_loss: 1.2869\n",
      "Epoch 55/500\n",
      "\u001b[1m98/98\u001b[0m \u001b[32m━━━━━━━━━━━━━━━━━━━━\u001b[0m\u001b[37m\u001b[0m \u001b[1m2s\u001b[0m 21ms/step - d_loss: 0.4818 - d_loss_fake: 0.3474 - d_loss_real: 0.1344 - g_loss: 1.3112\n",
      "Epoch 56/500\n",
      "\u001b[1m98/98\u001b[0m \u001b[32m━━━━━━━━━━━━━━━━━━━━\u001b[0m\u001b[37m\u001b[0m \u001b[1m2s\u001b[0m 22ms/step - d_loss: 0.4715 - d_loss_fake: 0.3437 - d_loss_real: 0.1279 - g_loss: 1.3108\n",
      "Epoch 57/500\n",
      "\u001b[1m98/98\u001b[0m \u001b[32m━━━━━━━━━━━━━━━━━━━━\u001b[0m\u001b[37m\u001b[0m \u001b[1m2s\u001b[0m 21ms/step - d_loss: 0.4688 - d_loss_fake: 0.3395 - d_loss_real: 0.1293 - g_loss: 1.3267\n",
      "Epoch 58/500\n",
      "\u001b[1m98/98\u001b[0m \u001b[32m━━━━━━━━━━━━━━━━━━━━\u001b[0m\u001b[37m\u001b[0m \u001b[1m2s\u001b[0m 21ms/step - d_loss: 0.4610 - d_loss_fake: 0.3308 - d_loss_real: 0.1302 - g_loss: 1.3517\n",
      "Epoch 59/500\n",
      "\u001b[1m98/98\u001b[0m \u001b[32m━━━━━━━━━━━━━━━━━━━━\u001b[0m\u001b[37m\u001b[0m \u001b[1m2s\u001b[0m 21ms/step - d_loss: 0.4549 - d_loss_fake: 0.3294 - d_loss_real: 0.1255 - g_loss: 1.3545\n",
      "Epoch 60/500\n",
      "\u001b[1m98/98\u001b[0m \u001b[32m━━━━━━━━━━━━━━━━━━━━\u001b[0m\u001b[37m\u001b[0m \u001b[1m2s\u001b[0m 21ms/step - d_loss: 0.4538 - d_loss_fake: 0.3283 - d_loss_real: 0.1255 - g_loss: 1.3761\n",
      "Epoch 61/500\n",
      "\u001b[1m98/98\u001b[0m \u001b[32m━━━━━━━━━━━━━━━━━━━━\u001b[0m\u001b[37m\u001b[0m \u001b[1m2s\u001b[0m 22ms/step - d_loss: 0.4476 - d_loss_fake: 0.3234 - d_loss_real: 0.1242 - g_loss: 1.3738\n",
      "Epoch 62/500\n",
      "\u001b[1m98/98\u001b[0m \u001b[32m━━━━━━━━━━━━━━━━━━━━\u001b[0m\u001b[37m\u001b[0m \u001b[1m2s\u001b[0m 21ms/step - d_loss: 0.4425 - d_loss_fake: 0.3199 - d_loss_real: 0.1226 - g_loss: 1.3904\n",
      "Epoch 63/500\n",
      "\u001b[1m98/98\u001b[0m \u001b[32m━━━━━━━━━━━━━━━━━━━━\u001b[0m\u001b[37m\u001b[0m \u001b[1m2s\u001b[0m 21ms/step - d_loss: 0.4416 - d_loss_fake: 0.3131 - d_loss_real: 0.1284 - g_loss: 1.4158\n",
      "Epoch 64/500\n",
      "\u001b[1m98/98\u001b[0m \u001b[32m━━━━━━━━━━━━━━━━━━━━\u001b[0m\u001b[37m\u001b[0m \u001b[1m2s\u001b[0m 21ms/step - d_loss: 0.4384 - d_loss_fake: 0.3142 - d_loss_real: 0.1242 - g_loss: 1.4282\n",
      "Epoch 65/500\n",
      "\u001b[1m98/98\u001b[0m \u001b[32m━━━━━━━━━━━━━━━━━━━━\u001b[0m\u001b[37m\u001b[0m \u001b[1m2s\u001b[0m 21ms/step - d_loss: 0.4271 - d_loss_fake: 0.3119 - d_loss_real: 0.1152 - g_loss: 1.4220\n",
      "Epoch 66/500\n",
      "\u001b[1m98/98\u001b[0m \u001b[32m━━━━━━━━━━━━━━━━━━━━\u001b[0m\u001b[37m\u001b[0m \u001b[1m2s\u001b[0m 22ms/step - d_loss: 0.4225 - d_loss_fake: 0.3027 - d_loss_real: 0.1199 - g_loss: 1.4557\n",
      "Epoch 67/500\n",
      "\u001b[1m98/98\u001b[0m \u001b[32m━━━━━━━━━━━━━━━━━━━━\u001b[0m\u001b[37m\u001b[0m \u001b[1m2s\u001b[0m 21ms/step - d_loss: 0.4249 - d_loss_fake: 0.3029 - d_loss_real: 0.1220 - g_loss: 1.4448\n",
      "Epoch 68/500\n",
      "\u001b[1m98/98\u001b[0m \u001b[32m━━━━━━━━━━━━━━━━━━━━\u001b[0m\u001b[37m\u001b[0m \u001b[1m2s\u001b[0m 21ms/step - d_loss: 0.4121 - d_loss_fake: 0.2936 - d_loss_real: 0.1184 - g_loss: 1.4818\n",
      "Epoch 69/500\n",
      "\u001b[1m98/98\u001b[0m \u001b[32m━━━━━━━━━━━━━━━━━━━━\u001b[0m\u001b[37m\u001b[0m \u001b[1m2s\u001b[0m 21ms/step - d_loss: 0.4148 - d_loss_fake: 0.2957 - d_loss_real: 0.1192 - g_loss: 1.4857\n",
      "Epoch 70/500\n",
      "\u001b[1m98/98\u001b[0m \u001b[32m━━━━━━━━━━━━━━━━━━━━\u001b[0m\u001b[37m\u001b[0m \u001b[1m2s\u001b[0m 21ms/step - d_loss: 0.3988 - d_loss_fake: 0.2851 - d_loss_real: 0.1137 - g_loss: 1.5061\n",
      "Epoch 71/500\n",
      "\u001b[1m98/98\u001b[0m \u001b[32m━━━━━━━━━━━━━━━━━━━━\u001b[0m\u001b[37m\u001b[0m \u001b[1m2s\u001b[0m 22ms/step - d_loss: 0.3879 - d_loss_fake: 0.2780 - d_loss_real: 0.1099 - g_loss: 1.5097\n",
      "Epoch 72/500\n",
      "\u001b[1m98/98\u001b[0m \u001b[32m━━━━━━━━━━━━━━━━━━━━\u001b[0m\u001b[37m\u001b[0m \u001b[1m2s\u001b[0m 21ms/step - d_loss: 0.3810 - d_loss_fake: 0.2757 - d_loss_real: 0.1052 - g_loss: 1.5186\n",
      "Epoch 73/500\n",
      "\u001b[1m98/98\u001b[0m \u001b[32m━━━━━━━━━━━━━━━━━━━━\u001b[0m\u001b[37m\u001b[0m \u001b[1m2s\u001b[0m 21ms/step - d_loss: 0.3869 - d_loss_fake: 0.2745 - d_loss_real: 0.1125 - g_loss: 1.5437\n",
      "Epoch 74/500\n",
      "\u001b[1m98/98\u001b[0m \u001b[32m━━━━━━━━━━━━━━━━━━━━\u001b[0m\u001b[37m\u001b[0m \u001b[1m2s\u001b[0m 21ms/step - d_loss: 0.3864 - d_loss_fake: 0.2738 - d_loss_real: 0.1126 - g_loss: 1.5710\n",
      "Epoch 75/500\n",
      "\u001b[1m98/98\u001b[0m \u001b[32m━━━━━━━━━━━━━━━━━━━━\u001b[0m\u001b[37m\u001b[0m \u001b[1m2s\u001b[0m 21ms/step - d_loss: 0.3784 - d_loss_fake: 0.2698 - d_loss_real: 0.1086 - g_loss: 1.5515\n",
      "Epoch 76/500\n",
      "\u001b[1m98/98\u001b[0m \u001b[32m━━━━━━━━━━━━━━━━━━━━\u001b[0m\u001b[37m\u001b[0m \u001b[1m2s\u001b[0m 22ms/step - d_loss: 0.3795 - d_loss_fake: 0.2680 - d_loss_real: 0.1115 - g_loss: 1.5833\n",
      "Epoch 77/500\n",
      "\u001b[1m98/98\u001b[0m \u001b[32m━━━━━━━━━━━━━━━━━━━━\u001b[0m\u001b[37m\u001b[0m \u001b[1m2s\u001b[0m 21ms/step - d_loss: 0.3733 - d_loss_fake: 0.2637 - d_loss_real: 0.1096 - g_loss: 1.5888\n",
      "Epoch 78/500\n",
      "\u001b[1m98/98\u001b[0m \u001b[32m━━━━━━━━━━━━━━━━━━━━\u001b[0m\u001b[37m\u001b[0m \u001b[1m2s\u001b[0m 21ms/step - d_loss: 0.3635 - d_loss_fake: 0.2568 - d_loss_real: 0.1067 - g_loss: 1.6222\n",
      "Epoch 79/500\n",
      "\u001b[1m98/98\u001b[0m \u001b[32m━━━━━━━━━━━━━━━━━━━━\u001b[0m\u001b[37m\u001b[0m \u001b[1m2s\u001b[0m 21ms/step - d_loss: 0.3599 - d_loss_fake: 0.2522 - d_loss_real: 0.1077 - g_loss: 1.6207\n",
      "Epoch 80/500\n",
      "\u001b[1m98/98\u001b[0m \u001b[32m━━━━━━━━━━━━━━━━━━━━\u001b[0m\u001b[37m\u001b[0m \u001b[1m2s\u001b[0m 21ms/step - d_loss: 0.3620 - d_loss_fake: 0.2558 - d_loss_real: 0.1062 - g_loss: 1.6207\n",
      "Epoch 81/500\n",
      "\u001b[1m98/98\u001b[0m \u001b[32m━━━━━━━━━━━━━━━━━━━━\u001b[0m\u001b[37m\u001b[0m \u001b[1m2s\u001b[0m 22ms/step - d_loss: 0.3602 - d_loss_fake: 0.2499 - d_loss_real: 0.1103 - g_loss: 1.6501\n",
      "Epoch 82/500\n",
      "\u001b[1m98/98\u001b[0m \u001b[32m━━━━━━━━━━━━━━━━━━━━\u001b[0m\u001b[37m\u001b[0m \u001b[1m2s\u001b[0m 21ms/step - d_loss: 0.3671 - d_loss_fake: 0.2547 - d_loss_real: 0.1124 - g_loss: 1.6853\n",
      "Epoch 83/500\n",
      "\u001b[1m98/98\u001b[0m \u001b[32m━━━━━━━━━━━━━━━━━━━━\u001b[0m\u001b[37m\u001b[0m \u001b[1m2s\u001b[0m 21ms/step - d_loss: 0.3530 - d_loss_fake: 0.2393 - d_loss_real: 0.1137 - g_loss: 1.6794\n",
      "Epoch 84/500\n",
      "\u001b[1m98/98\u001b[0m \u001b[32m━━━━━━━━━━━━━━━━━━━━\u001b[0m\u001b[37m\u001b[0m \u001b[1m2s\u001b[0m 21ms/step - d_loss: 0.3493 - d_loss_fake: 0.2411 - d_loss_real: 0.1082 - g_loss: 1.6802\n",
      "Epoch 85/500\n",
      "\u001b[1m98/98\u001b[0m \u001b[32m━━━━━━━━━━━━━━━━━━━━\u001b[0m\u001b[37m\u001b[0m \u001b[1m2s\u001b[0m 21ms/step - d_loss: 0.3412 - d_loss_fake: 0.2338 - d_loss_real: 0.1074 - g_loss: 1.7149\n",
      "Epoch 86/500\n",
      "\u001b[1m98/98\u001b[0m \u001b[32m━━━━━━━━━━━━━━━━━━━━\u001b[0m\u001b[37m\u001b[0m \u001b[1m2s\u001b[0m 22ms/step - d_loss: 0.3389 - d_loss_fake: 0.2326 - d_loss_real: 0.1063 - g_loss: 1.7162\n",
      "Epoch 87/500\n",
      "\u001b[1m98/98\u001b[0m \u001b[32m━━━━━━━━━━━━━━━━━━━━\u001b[0m\u001b[37m\u001b[0m \u001b[1m2s\u001b[0m 21ms/step - d_loss: 0.3412 - d_loss_fake: 0.2342 - d_loss_real: 0.1070 - g_loss: 1.7313\n",
      "Epoch 88/500\n",
      "\u001b[1m98/98\u001b[0m \u001b[32m━━━━━━━━━━━━━━━━━━━━\u001b[0m\u001b[37m\u001b[0m \u001b[1m2s\u001b[0m 21ms/step - d_loss: 0.3292 - d_loss_fake: 0.2267 - d_loss_real: 0.1025 - g_loss: 1.7390\n",
      "Epoch 89/500\n",
      "\u001b[1m98/98\u001b[0m \u001b[32m━━━━━━━━━━━━━━━━━━━━\u001b[0m\u001b[37m\u001b[0m \u001b[1m2s\u001b[0m 21ms/step - d_loss: 0.3227 - d_loss_fake: 0.2214 - d_loss_real: 0.1014 - g_loss: 1.7628\n",
      "Epoch 90/500\n",
      "\u001b[1m98/98\u001b[0m \u001b[32m━━━━━━━━━━━━━━━━━━━━\u001b[0m\u001b[37m\u001b[0m \u001b[1m2s\u001b[0m 21ms/step - d_loss: 0.3367 - d_loss_fake: 0.2294 - d_loss_real: 0.1073 - g_loss: 1.7721\n",
      "Epoch 91/500\n",
      "\u001b[1m98/98\u001b[0m \u001b[32m━━━━━━━━━━━━━━━━━━━━\u001b[0m\u001b[37m\u001b[0m \u001b[1m2s\u001b[0m 22ms/step - d_loss: 0.3188 - d_loss_fake: 0.2196 - d_loss_real: 0.0992 - g_loss: 1.7836\n",
      "Epoch 92/500\n",
      "\u001b[1m98/98\u001b[0m \u001b[32m━━━━━━━━━━━━━━━━━━━━\u001b[0m\u001b[37m\u001b[0m \u001b[1m2s\u001b[0m 21ms/step - d_loss: 0.3174 - d_loss_fake: 0.2191 - d_loss_real: 0.0983 - g_loss: 1.8039\n",
      "Epoch 93/500\n",
      "\u001b[1m98/98\u001b[0m \u001b[32m━━━━━━━━━━━━━━━━━━━━\u001b[0m\u001b[37m\u001b[0m \u001b[1m2s\u001b[0m 21ms/step - d_loss: 0.3157 - d_loss_fake: 0.2123 - d_loss_real: 0.1033 - g_loss: 1.8351\n",
      "Epoch 94/500\n",
      "\u001b[1m98/98\u001b[0m \u001b[32m━━━━━━━━━━━━━━━━━━━━\u001b[0m\u001b[37m\u001b[0m \u001b[1m2s\u001b[0m 21ms/step - d_loss: 0.3253 - d_loss_fake: 0.2180 - d_loss_real: 0.1073 - g_loss: 1.8162\n",
      "Epoch 95/500\n",
      "\u001b[1m98/98\u001b[0m \u001b[32m━━━━━━━━━━━━━━━━━━━━\u001b[0m\u001b[37m\u001b[0m \u001b[1m2s\u001b[0m 21ms/step - d_loss: 0.3111 - d_loss_fake: 0.2084 - d_loss_real: 0.1026 - g_loss: 1.8441\n",
      "Epoch 96/500\n",
      "\u001b[1m98/98\u001b[0m \u001b[32m━━━━━━━━━━━━━━━━━━━━\u001b[0m\u001b[37m\u001b[0m \u001b[1m2s\u001b[0m 22ms/step - d_loss: 0.2972 - d_loss_fake: 0.1976 - d_loss_real: 0.0996 - g_loss: 1.8811\n",
      "Epoch 97/500\n",
      "\u001b[1m98/98\u001b[0m \u001b[32m━━━━━━━━━━━━━━━━━━━━\u001b[0m\u001b[37m\u001b[0m \u001b[1m2s\u001b[0m 21ms/step - d_loss: 0.2978 - d_loss_fake: 0.2022 - d_loss_real: 0.0955 - g_loss: 1.8583\n",
      "Epoch 98/500\n",
      "\u001b[1m98/98\u001b[0m \u001b[32m━━━━━━━━━━━━━━━━━━━━\u001b[0m\u001b[37m\u001b[0m \u001b[1m2s\u001b[0m 21ms/step - d_loss: 0.2954 - d_loss_fake: 0.1968 - d_loss_real: 0.0987 - g_loss: 1.8964\n",
      "Epoch 99/500\n",
      "\u001b[1m98/98\u001b[0m \u001b[32m━━━━━━━━━━━━━━━━━━━━\u001b[0m\u001b[37m\u001b[0m \u001b[1m2s\u001b[0m 21ms/step - d_loss: 0.2914 - d_loss_fake: 0.1945 - d_loss_real: 0.0969 - g_loss: 1.9242\n",
      "Epoch 100/500\n",
      "\u001b[1m98/98\u001b[0m \u001b[32m━━━━━━━━━━━━━━━━━━━━\u001b[0m\u001b[37m\u001b[0m \u001b[1m2s\u001b[0m 21ms/step - d_loss: 0.2902 - d_loss_fake: 0.1927 - d_loss_real: 0.0975 - g_loss: 1.9161\n",
      "Epoch 101/500\n",
      "\u001b[1m98/98\u001b[0m \u001b[32m━━━━━━━━━━━━━━━━━━━━\u001b[0m\u001b[37m\u001b[0m \u001b[1m2s\u001b[0m 22ms/step - d_loss: 0.2889 - d_loss_fake: 0.1920 - d_loss_real: 0.0969 - g_loss: 1.9196\n",
      "Epoch 102/500\n",
      "\u001b[1m98/98\u001b[0m \u001b[32m━━━━━━━━━━━━━━━━━━━━\u001b[0m\u001b[37m\u001b[0m \u001b[1m2s\u001b[0m 21ms/step - d_loss: 0.2781 - d_loss_fake: 0.1861 - d_loss_real: 0.0920 - g_loss: 1.9672\n",
      "Epoch 103/500\n",
      "\u001b[1m98/98\u001b[0m \u001b[32m━━━━━━━━━━━━━━━━━━━━\u001b[0m\u001b[37m\u001b[0m \u001b[1m2s\u001b[0m 21ms/step - d_loss: 0.2731 - d_loss_fake: 0.1857 - d_loss_real: 0.0874 - g_loss: 1.9333\n",
      "Epoch 104/500\n",
      "\u001b[1m98/98\u001b[0m \u001b[32m━━━━━━━━━━━━━━━━━━━━\u001b[0m\u001b[37m\u001b[0m \u001b[1m2s\u001b[0m 21ms/step - d_loss: 0.2881 - d_loss_fake: 0.1912 - d_loss_real: 0.0969 - g_loss: 1.9780\n",
      "Epoch 105/500\n",
      "\u001b[1m98/98\u001b[0m \u001b[32m━━━━━━━━━━━━━━━━━━━━\u001b[0m\u001b[37m\u001b[0m \u001b[1m2s\u001b[0m 21ms/step - d_loss: 0.2741 - d_loss_fake: 0.1804 - d_loss_real: 0.0937 - g_loss: 1.9995\n",
      "Epoch 106/500\n",
      "\u001b[1m98/98\u001b[0m \u001b[32m━━━━━━━━━━━━━━━━━━━━\u001b[0m\u001b[37m\u001b[0m \u001b[1m2s\u001b[0m 22ms/step - d_loss: 0.2709 - d_loss_fake: 0.1783 - d_loss_real: 0.0926 - g_loss: 2.0017\n",
      "Epoch 107/500\n",
      "\u001b[1m98/98\u001b[0m \u001b[32m━━━━━━━━━━━━━━━━━━━━\u001b[0m\u001b[37m\u001b[0m \u001b[1m2s\u001b[0m 21ms/step - d_loss: 0.2712 - d_loss_fake: 0.1739 - d_loss_real: 0.0973 - g_loss: 2.0306\n",
      "Epoch 108/500\n",
      "\u001b[1m98/98\u001b[0m \u001b[32m━━━━━━━━━━━━━━━━━━━━\u001b[0m\u001b[37m\u001b[0m \u001b[1m2s\u001b[0m 21ms/step - d_loss: 0.2698 - d_loss_fake: 0.1768 - d_loss_real: 0.0929 - g_loss: 2.0187\n",
      "Epoch 109/500\n",
      "\u001b[1m98/98\u001b[0m \u001b[32m━━━━━━━━━━━━━━━━━━━━\u001b[0m\u001b[37m\u001b[0m \u001b[1m2s\u001b[0m 21ms/step - d_loss: 0.2761 - d_loss_fake: 0.1797 - d_loss_real: 0.0964 - g_loss: 2.0288\n",
      "Epoch 110/500\n",
      "\u001b[1m98/98\u001b[0m \u001b[32m━━━━━━━━━━━━━━━━━━━━\u001b[0m\u001b[37m\u001b[0m \u001b[1m2s\u001b[0m 21ms/step - d_loss: 0.2768 - d_loss_fake: 0.1781 - d_loss_real: 0.0987 - g_loss: 2.0781\n",
      "Epoch 111/500\n",
      "\u001b[1m98/98\u001b[0m \u001b[32m━━━━━━━━━━━━━━━━━━━━\u001b[0m\u001b[37m\u001b[0m \u001b[1m2s\u001b[0m 22ms/step - d_loss: 0.2646 - d_loss_fake: 0.1701 - d_loss_real: 0.0945 - g_loss: 2.0982\n",
      "Epoch 112/500\n",
      "\u001b[1m98/98\u001b[0m \u001b[32m━━━━━━━━━━━━━━━━━━━━\u001b[0m\u001b[37m\u001b[0m \u001b[1m2s\u001b[0m 21ms/step - d_loss: 0.2578 - d_loss_fake: 0.1669 - d_loss_real: 0.0909 - g_loss: 2.0636\n",
      "Epoch 113/500\n",
      "\u001b[1m98/98\u001b[0m \u001b[32m━━━━━━━━━━━━━━━━━━━━\u001b[0m\u001b[37m\u001b[0m \u001b[1m2s\u001b[0m 21ms/step - d_loss: 0.2540 - d_loss_fake: 0.1633 - d_loss_real: 0.0907 - g_loss: 2.1367\n",
      "Epoch 114/500\n",
      "\u001b[1m98/98\u001b[0m \u001b[32m━━━━━━━━━━━━━━━━━━━━\u001b[0m\u001b[37m\u001b[0m \u001b[1m2s\u001b[0m 21ms/step - d_loss: 0.2632 - d_loss_fake: 0.1678 - d_loss_real: 0.0954 - g_loss: 2.1127\n",
      "Epoch 115/500\n",
      "\u001b[1m98/98\u001b[0m \u001b[32m━━━━━━━━━━━━━━━━━━━━\u001b[0m\u001b[37m\u001b[0m \u001b[1m2s\u001b[0m 21ms/step - d_loss: 0.2601 - d_loss_fake: 0.1667 - d_loss_real: 0.0934 - g_loss: 2.1205\n",
      "Epoch 116/500\n",
      "\u001b[1m98/98\u001b[0m \u001b[32m━━━━━━━━━━━━━━━━━━━━\u001b[0m\u001b[37m\u001b[0m \u001b[1m2s\u001b[0m 22ms/step - d_loss: 0.2618 - d_loss_fake: 0.1673 - d_loss_real: 0.0945 - g_loss: 2.1617\n",
      "Epoch 117/500\n",
      "\u001b[1m98/98\u001b[0m \u001b[32m━━━━━━━━━━━━━━━━━━━━\u001b[0m\u001b[37m\u001b[0m \u001b[1m2s\u001b[0m 21ms/step - d_loss: 0.2484 - d_loss_fake: 0.1580 - d_loss_real: 0.0904 - g_loss: 2.1806\n",
      "Epoch 118/500\n",
      "\u001b[1m98/98\u001b[0m \u001b[32m━━━━━━━━━━━━━━━━━━━━\u001b[0m\u001b[37m\u001b[0m \u001b[1m2s\u001b[0m 21ms/step - d_loss: 0.2528 - d_loss_fake: 0.1584 - d_loss_real: 0.0944 - g_loss: 2.1842\n",
      "Epoch 119/500\n",
      "\u001b[1m98/98\u001b[0m \u001b[32m━━━━━━━━━━━━━━━━━━━━\u001b[0m\u001b[37m\u001b[0m \u001b[1m2s\u001b[0m 21ms/step - d_loss: 0.2493 - d_loss_fake: 0.1540 - d_loss_real: 0.0953 - g_loss: 2.1962\n",
      "Epoch 120/500\n",
      "\u001b[1m98/98\u001b[0m \u001b[32m━━━━━━━━━━━━━━━━━━━━\u001b[0m\u001b[37m\u001b[0m \u001b[1m2s\u001b[0m 21ms/step - d_loss: 0.2507 - d_loss_fake: 0.1538 - d_loss_real: 0.0969 - g_loss: 2.1985\n",
      "Epoch 121/500\n",
      "\u001b[1m98/98\u001b[0m \u001b[32m━━━━━━━━━━━━━━━━━━━━\u001b[0m\u001b[37m\u001b[0m \u001b[1m2s\u001b[0m 22ms/step - d_loss: 0.2504 - d_loss_fake: 0.1549 - d_loss_real: 0.0955 - g_loss: 2.2247\n",
      "Epoch 122/500\n",
      "\u001b[1m98/98\u001b[0m \u001b[32m━━━━━━━━━━━━━━━━━━━━\u001b[0m\u001b[37m\u001b[0m \u001b[1m2s\u001b[0m 21ms/step - d_loss: 0.2501 - d_loss_fake: 0.1526 - d_loss_real: 0.0974 - g_loss: 2.2328\n",
      "Epoch 123/500\n",
      "\u001b[1m98/98\u001b[0m \u001b[32m━━━━━━━━━━━━━━━━━━━━\u001b[0m\u001b[37m\u001b[0m \u001b[1m2s\u001b[0m 21ms/step - d_loss: 0.2364 - d_loss_fake: 0.1458 - d_loss_real: 0.0906 - g_loss: 2.2625\n",
      "Epoch 124/500\n",
      "\u001b[1m98/98\u001b[0m \u001b[32m━━━━━━━━━━━━━━━━━━━━\u001b[0m\u001b[37m\u001b[0m \u001b[1m2s\u001b[0m 21ms/step - d_loss: 0.2295 - d_loss_fake: 0.1428 - d_loss_real: 0.0868 - g_loss: 2.2859\n",
      "Epoch 125/500\n",
      "\u001b[1m98/98\u001b[0m \u001b[32m━━━━━━━━━━━━━━━━━━━━\u001b[0m\u001b[37m\u001b[0m \u001b[1m2s\u001b[0m 21ms/step - d_loss: 0.2412 - d_loss_fake: 0.1470 - d_loss_real: 0.0942 - g_loss: 2.2933\n",
      "Epoch 126/500\n",
      "\u001b[1m98/98\u001b[0m \u001b[32m━━━━━━━━━━━━━━━━━━━━\u001b[0m\u001b[37m\u001b[0m \u001b[1m2s\u001b[0m 22ms/step - d_loss: 0.2351 - d_loss_fake: 0.1426 - d_loss_real: 0.0925 - g_loss: 2.3324\n",
      "Epoch 127/500\n",
      "\u001b[1m98/98\u001b[0m \u001b[32m━━━━━━━━━━━━━━━━━━━━\u001b[0m\u001b[37m\u001b[0m \u001b[1m2s\u001b[0m 21ms/step - d_loss: 0.2318 - d_loss_fake: 0.1400 - d_loss_real: 0.0918 - g_loss: 2.2761\n",
      "Epoch 128/500\n",
      "\u001b[1m98/98\u001b[0m \u001b[32m━━━━━━━━━━━━━━━━━━━━\u001b[0m\u001b[37m\u001b[0m \u001b[1m2s\u001b[0m 21ms/step - d_loss: 0.2399 - d_loss_fake: 0.1460 - d_loss_real: 0.0939 - g_loss: 2.3549\n",
      "Epoch 129/500\n",
      "\u001b[1m98/98\u001b[0m \u001b[32m━━━━━━━━━━━━━━━━━━━━\u001b[0m\u001b[37m\u001b[0m \u001b[1m2s\u001b[0m 21ms/step - d_loss: 0.2258 - d_loss_fake: 0.1359 - d_loss_real: 0.0899 - g_loss: 2.3360\n",
      "Epoch 130/500\n",
      "\u001b[1m98/98\u001b[0m \u001b[32m━━━━━━━━━━━━━━━━━━━━\u001b[0m\u001b[37m\u001b[0m \u001b[1m2s\u001b[0m 21ms/step - d_loss: 0.2304 - d_loss_fake: 0.1374 - d_loss_real: 0.0930 - g_loss: 2.3898\n",
      "Epoch 131/500\n",
      "\u001b[1m98/98\u001b[0m \u001b[32m━━━━━━━━━━━━━━━━━━━━\u001b[0m\u001b[37m\u001b[0m \u001b[1m2s\u001b[0m 22ms/step - d_loss: 0.2218 - d_loss_fake: 0.1293 - d_loss_real: 0.0925 - g_loss: 2.3493\n",
      "Epoch 132/500\n",
      "\u001b[1m98/98\u001b[0m \u001b[32m━━━━━━━━━━━━━━━━━━━━\u001b[0m\u001b[37m\u001b[0m \u001b[1m2s\u001b[0m 21ms/step - d_loss: 0.2178 - d_loss_fake: 0.1311 - d_loss_real: 0.0867 - g_loss: 2.3971\n",
      "Epoch 133/500\n",
      "\u001b[1m98/98\u001b[0m \u001b[32m━━━━━━━━━━━━━━━━━━━━\u001b[0m\u001b[37m\u001b[0m \u001b[1m2s\u001b[0m 21ms/step - d_loss: 0.2157 - d_loss_fake: 0.1262 - d_loss_real: 0.0895 - g_loss: 2.4454\n",
      "Epoch 134/500\n",
      "\u001b[1m98/98\u001b[0m \u001b[32m━━━━━━━━━━━━━━━━━━━━\u001b[0m\u001b[37m\u001b[0m \u001b[1m2s\u001b[0m 21ms/step - d_loss: 0.2093 - d_loss_fake: 0.1252 - d_loss_real: 0.0840 - g_loss: 2.4133\n",
      "Epoch 135/500\n",
      "\u001b[1m98/98\u001b[0m \u001b[32m━━━━━━━━━━━━━━━━━━━━\u001b[0m\u001b[37m\u001b[0m \u001b[1m2s\u001b[0m 21ms/step - d_loss: 0.2161 - d_loss_fake: 0.1302 - d_loss_real: 0.0860 - g_loss: 2.4183\n",
      "Epoch 136/500\n",
      "\u001b[1m98/98\u001b[0m \u001b[32m━━━━━━━━━━━━━━━━━━━━\u001b[0m\u001b[37m\u001b[0m \u001b[1m2s\u001b[0m 22ms/step - d_loss: 0.2274 - d_loss_fake: 0.1301 - d_loss_real: 0.0973 - g_loss: 2.4580\n",
      "Epoch 137/500\n",
      "\u001b[1m98/98\u001b[0m \u001b[32m━━━━━━━━━━━━━━━━━━━━\u001b[0m\u001b[37m\u001b[0m \u001b[1m2s\u001b[0m 21ms/step - d_loss: 0.2224 - d_loss_fake: 0.1304 - d_loss_real: 0.0920 - g_loss: 2.4911\n",
      "Epoch 138/500\n",
      "\u001b[1m98/98\u001b[0m \u001b[32m━━━━━━━━━━━━━━━━━━━━\u001b[0m\u001b[37m\u001b[0m \u001b[1m2s\u001b[0m 21ms/step - d_loss: 0.2137 - d_loss_fake: 0.1217 - d_loss_real: 0.0919 - g_loss: 2.4921\n",
      "Epoch 139/500\n",
      "\u001b[1m98/98\u001b[0m \u001b[32m━━━━━━━━━━━━━━━━━━━━\u001b[0m\u001b[37m\u001b[0m \u001b[1m2s\u001b[0m 21ms/step - d_loss: 0.2176 - d_loss_fake: 0.1238 - d_loss_real: 0.0937 - g_loss: 2.4794\n",
      "Epoch 140/500\n",
      "\u001b[1m98/98\u001b[0m \u001b[32m━━━━━━━━━━━━━━━━━━━━\u001b[0m\u001b[37m\u001b[0m \u001b[1m2s\u001b[0m 21ms/step - d_loss: 0.2099 - d_loss_fake: 0.1179 - d_loss_real: 0.0920 - g_loss: 2.5249\n",
      "Epoch 141/500\n",
      "\u001b[1m98/98\u001b[0m \u001b[32m━━━━━━━━━━━━━━━━━━━━\u001b[0m\u001b[37m\u001b[0m \u001b[1m2s\u001b[0m 22ms/step - d_loss: 0.2179 - d_loss_fake: 0.1228 - d_loss_real: 0.0950 - g_loss: 2.5583\n",
      "Epoch 142/500\n",
      "\u001b[1m98/98\u001b[0m \u001b[32m━━━━━━━━━━━━━━━━━━━━\u001b[0m\u001b[37m\u001b[0m \u001b[1m2s\u001b[0m 21ms/step - d_loss: 0.2053 - d_loss_fake: 0.1209 - d_loss_real: 0.0844 - g_loss: 2.5526\n",
      "Epoch 143/500\n",
      "\u001b[1m98/98\u001b[0m \u001b[32m━━━━━━━━━━━━━━━━━━━━\u001b[0m\u001b[37m\u001b[0m \u001b[1m2s\u001b[0m 21ms/step - d_loss: 0.2112 - d_loss_fake: 0.1235 - d_loss_real: 0.0877 - g_loss: 2.5239\n",
      "Epoch 144/500\n",
      "\u001b[1m98/98\u001b[0m \u001b[32m━━━━━━━━━━━━━━━━━━━━\u001b[0m\u001b[37m\u001b[0m \u001b[1m2s\u001b[0m 21ms/step - d_loss: 0.2100 - d_loss_fake: 0.1186 - d_loss_real: 0.0914 - g_loss: 2.6116\n",
      "Epoch 145/500\n",
      "\u001b[1m98/98\u001b[0m \u001b[32m━━━━━━━━━━━━━━━━━━━━\u001b[0m\u001b[37m\u001b[0m \u001b[1m2s\u001b[0m 21ms/step - d_loss: 0.2139 - d_loss_fake: 0.1167 - d_loss_real: 0.0972 - g_loss: 2.5999\n",
      "Epoch 146/500\n",
      "\u001b[1m98/98\u001b[0m \u001b[32m━━━━━━━━━━━━━━━━━━━━\u001b[0m\u001b[37m\u001b[0m \u001b[1m2s\u001b[0m 22ms/step - d_loss: 0.2059 - d_loss_fake: 0.1152 - d_loss_real: 0.0907 - g_loss: 2.6312\n",
      "Epoch 147/500\n",
      "\u001b[1m98/98\u001b[0m \u001b[32m━━━━━━━━━━━━━━━━━━━━\u001b[0m\u001b[37m\u001b[0m \u001b[1m2s\u001b[0m 21ms/step - d_loss: 0.1931 - d_loss_fake: 0.1084 - d_loss_real: 0.0848 - g_loss: 2.6154\n",
      "Epoch 148/500\n",
      "\u001b[1m98/98\u001b[0m \u001b[32m━━━━━━━━━━━━━━━━━━━━\u001b[0m\u001b[37m\u001b[0m \u001b[1m2s\u001b[0m 21ms/step - d_loss: 0.2027 - d_loss_fake: 0.1144 - d_loss_real: 0.0882 - g_loss: 2.6478\n",
      "Epoch 149/500\n",
      "\u001b[1m98/98\u001b[0m \u001b[32m━━━━━━━━━━━━━━━━━━━━\u001b[0m\u001b[37m\u001b[0m \u001b[1m2s\u001b[0m 21ms/step - d_loss: 0.1967 - d_loss_fake: 0.1066 - d_loss_real: 0.0901 - g_loss: 2.6846\n",
      "Epoch 150/500\n",
      "\u001b[1m98/98\u001b[0m \u001b[32m━━━━━━━━━━━━━━━━━━━━\u001b[0m\u001b[37m\u001b[0m \u001b[1m2s\u001b[0m 21ms/step - d_loss: 0.1953 - d_loss_fake: 0.1059 - d_loss_real: 0.0895 - g_loss: 2.6383\n",
      "Epoch 151/500\n",
      "\u001b[1m98/98\u001b[0m \u001b[32m━━━━━━━━━━━━━━━━━━━━\u001b[0m\u001b[37m\u001b[0m \u001b[1m2s\u001b[0m 22ms/step - d_loss: 0.2043 - d_loss_fake: 0.1134 - d_loss_real: 0.0909 - g_loss: 2.6860\n",
      "Epoch 152/500\n",
      "\u001b[1m98/98\u001b[0m \u001b[32m━━━━━━━━━━━━━━━━━━━━\u001b[0m\u001b[37m\u001b[0m \u001b[1m2s\u001b[0m 21ms/step - d_loss: 0.1994 - d_loss_fake: 0.1084 - d_loss_real: 0.0911 - g_loss: 2.7420\n",
      "Epoch 153/500\n",
      "\u001b[1m98/98\u001b[0m \u001b[32m━━━━━━━━━━━━━━━━━━━━\u001b[0m\u001b[37m\u001b[0m \u001b[1m2s\u001b[0m 21ms/step - d_loss: 0.1969 - d_loss_fake: 0.1067 - d_loss_real: 0.0902 - g_loss: 2.7095\n",
      "Epoch 154/500\n",
      "\u001b[1m98/98\u001b[0m \u001b[32m━━━━━━━━━━━━━━━━━━━━\u001b[0m\u001b[37m\u001b[0m \u001b[1m2s\u001b[0m 21ms/step - d_loss: 0.1921 - d_loss_fake: 0.1024 - d_loss_real: 0.0897 - g_loss: 2.7232\n",
      "Epoch 155/500\n",
      "\u001b[1m98/98\u001b[0m \u001b[32m━━━━━━━━━━━━━━━━━━━━\u001b[0m\u001b[37m\u001b[0m \u001b[1m2s\u001b[0m 21ms/step - d_loss: 0.2033 - d_loss_fake: 0.1107 - d_loss_real: 0.0927 - g_loss: 2.7677\n",
      "Epoch 156/500\n",
      "\u001b[1m98/98\u001b[0m \u001b[32m━━━━━━━━━━━━━━━━━━━━\u001b[0m\u001b[37m\u001b[0m \u001b[1m2s\u001b[0m 22ms/step - d_loss: 0.1897 - d_loss_fake: 0.0994 - d_loss_real: 0.0903 - g_loss: 2.7548\n",
      "Epoch 157/500\n",
      "\u001b[1m98/98\u001b[0m \u001b[32m━━━━━━━━━━━━━━━━━━━━\u001b[0m\u001b[37m\u001b[0m \u001b[1m2s\u001b[0m 21ms/step - d_loss: 0.1976 - d_loss_fake: 0.1040 - d_loss_real: 0.0937 - g_loss: 2.7837\n",
      "Epoch 158/500\n",
      "\u001b[1m98/98\u001b[0m \u001b[32m━━━━━━━━━━━━━━━━━━━━\u001b[0m\u001b[37m\u001b[0m \u001b[1m2s\u001b[0m 22ms/step - d_loss: 0.1866 - d_loss_fake: 0.0998 - d_loss_real: 0.0867 - g_loss: 2.8560\n",
      "Epoch 159/500\n",
      "\u001b[1m98/98\u001b[0m \u001b[32m━━━━━━━━━━━━━━━━━━━━\u001b[0m\u001b[37m\u001b[0m \u001b[1m2s\u001b[0m 21ms/step - d_loss: 0.1799 - d_loss_fake: 0.0946 - d_loss_real: 0.0853 - g_loss: 2.8279\n",
      "Epoch 160/500\n",
      "\u001b[1m98/98\u001b[0m \u001b[32m━━━━━━━━━━━━━━━━━━━━\u001b[0m\u001b[37m\u001b[0m \u001b[1m2s\u001b[0m 21ms/step - d_loss: 0.1823 - d_loss_fake: 0.0981 - d_loss_real: 0.0842 - g_loss: 2.7773\n",
      "Epoch 161/500\n",
      "\u001b[1m98/98\u001b[0m \u001b[32m━━━━━━━━━━━━━━━━━━━━\u001b[0m\u001b[37m\u001b[0m \u001b[1m2s\u001b[0m 22ms/step - d_loss: 0.1982 - d_loss_fake: 0.1029 - d_loss_real: 0.0953 - g_loss: 2.8115\n",
      "Epoch 162/500\n",
      "\u001b[1m98/98\u001b[0m \u001b[32m━━━━━━━━━━━━━━━━━━━━\u001b[0m\u001b[37m\u001b[0m \u001b[1m2s\u001b[0m 21ms/step - d_loss: 0.2040 - d_loss_fake: 0.1040 - d_loss_real: 0.1000 - g_loss: 2.9286\n",
      "Epoch 163/500\n",
      "\u001b[1m98/98\u001b[0m \u001b[32m━━━━━━━━━━━━━━━━━━━━\u001b[0m\u001b[37m\u001b[0m \u001b[1m2s\u001b[0m 21ms/step - d_loss: 0.1817 - d_loss_fake: 0.0934 - d_loss_real: 0.0883 - g_loss: 2.9208\n",
      "Epoch 164/500\n",
      "\u001b[1m98/98\u001b[0m \u001b[32m━━━━━━━━━━━━━━━━━━━━\u001b[0m\u001b[37m\u001b[0m \u001b[1m2s\u001b[0m 21ms/step - d_loss: 0.1917 - d_loss_fake: 0.0976 - d_loss_real: 0.0940 - g_loss: 2.8954\n",
      "Epoch 165/500\n",
      "\u001b[1m98/98\u001b[0m \u001b[32m━━━━━━━━━━━━━━━━━━━━\u001b[0m\u001b[37m\u001b[0m \u001b[1m2s\u001b[0m 21ms/step - d_loss: 0.1762 - d_loss_fake: 0.0905 - d_loss_real: 0.0856 - g_loss: 2.9770\n",
      "Epoch 166/500\n",
      "\u001b[1m98/98\u001b[0m \u001b[32m━━━━━━━━━━━━━━━━━━━━\u001b[0m\u001b[37m\u001b[0m \u001b[1m2s\u001b[0m 22ms/step - d_loss: 0.1713 - d_loss_fake: 0.0857 - d_loss_real: 0.0856 - g_loss: 2.9428\n",
      "Epoch 167/500\n",
      "\u001b[1m98/98\u001b[0m \u001b[32m━━━━━━━━━━━━━━━━━━━━\u001b[0m\u001b[37m\u001b[0m \u001b[1m2s\u001b[0m 21ms/step - d_loss: 0.1857 - d_loss_fake: 0.0994 - d_loss_real: 0.0863 - g_loss: 2.8349\n",
      "Epoch 168/500\n",
      "\u001b[1m98/98\u001b[0m \u001b[32m━━━━━━━━━━━━━━━━━━━━\u001b[0m\u001b[37m\u001b[0m \u001b[1m2s\u001b[0m 21ms/step - d_loss: 0.1751 - d_loss_fake: 0.0889 - d_loss_real: 0.0862 - g_loss: 2.9652\n",
      "Epoch 169/500\n",
      "\u001b[1m98/98\u001b[0m \u001b[32m━━━━━━━━━━━━━━━━━━━━\u001b[0m\u001b[37m\u001b[0m \u001b[1m2s\u001b[0m 21ms/step - d_loss: 0.1635 - d_loss_fake: 0.0841 - d_loss_real: 0.0795 - g_loss: 2.9587\n",
      "Epoch 170/500\n",
      "\u001b[1m98/98\u001b[0m \u001b[32m━━━━━━━━━━━━━━━━━━━━\u001b[0m\u001b[37m\u001b[0m \u001b[1m2s\u001b[0m 21ms/step - d_loss: 0.1795 - d_loss_fake: 0.0896 - d_loss_real: 0.0899 - g_loss: 2.9648\n",
      "Epoch 171/500\n",
      "\u001b[1m98/98\u001b[0m \u001b[32m━━━━━━━━━━━━━━━━━━━━\u001b[0m\u001b[37m\u001b[0m \u001b[1m2s\u001b[0m 22ms/step - d_loss: 0.1763 - d_loss_fake: 0.0909 - d_loss_real: 0.0855 - g_loss: 3.0172\n",
      "Epoch 172/500\n",
      "\u001b[1m98/98\u001b[0m \u001b[32m━━━━━━━━━━━━━━━━━━━━\u001b[0m\u001b[37m\u001b[0m \u001b[1m2s\u001b[0m 21ms/step - d_loss: 0.1887 - d_loss_fake: 0.0918 - d_loss_real: 0.0969 - g_loss: 3.0876\n",
      "Epoch 173/500\n",
      "\u001b[1m98/98\u001b[0m \u001b[32m━━━━━━━━━━━━━━━━━━━━\u001b[0m\u001b[37m\u001b[0m \u001b[1m2s\u001b[0m 21ms/step - d_loss: 0.1751 - d_loss_fake: 0.0908 - d_loss_real: 0.0843 - g_loss: 3.0107\n",
      "Epoch 174/500\n",
      "\u001b[1m98/98\u001b[0m \u001b[32m━━━━━━━━━━━━━━━━━━━━\u001b[0m\u001b[37m\u001b[0m \u001b[1m2s\u001b[0m 21ms/step - d_loss: 0.1797 - d_loss_fake: 0.0891 - d_loss_real: 0.0906 - g_loss: 3.0720\n",
      "Epoch 175/500\n",
      "\u001b[1m98/98\u001b[0m \u001b[32m━━━━━━━━━━━━━━━━━━━━\u001b[0m\u001b[37m\u001b[0m \u001b[1m2s\u001b[0m 21ms/step - d_loss: 0.1680 - d_loss_fake: 0.0860 - d_loss_real: 0.0820 - g_loss: 3.0444\n",
      "Epoch 176/500\n",
      "\u001b[1m98/98\u001b[0m \u001b[32m━━━━━━━━━━━━━━━━━━━━\u001b[0m\u001b[37m\u001b[0m \u001b[1m2s\u001b[0m 22ms/step - d_loss: 0.1752 - d_loss_fake: 0.0831 - d_loss_real: 0.0921 - g_loss: 3.1439\n",
      "Epoch 177/500\n",
      "\u001b[1m98/98\u001b[0m \u001b[32m━━━━━━━━━━━━━━━━━━━━\u001b[0m\u001b[37m\u001b[0m \u001b[1m2s\u001b[0m 21ms/step - d_loss: 0.1738 - d_loss_fake: 0.0835 - d_loss_real: 0.0903 - g_loss: 3.0802\n",
      "Epoch 178/500\n",
      "\u001b[1m98/98\u001b[0m \u001b[32m━━━━━━━━━━━━━━━━━━━━\u001b[0m\u001b[37m\u001b[0m \u001b[1m2s\u001b[0m 21ms/step - d_loss: 0.1667 - d_loss_fake: 0.0828 - d_loss_real: 0.0839 - g_loss: 3.0840\n",
      "Epoch 179/500\n",
      "\u001b[1m98/98\u001b[0m \u001b[32m━━━━━━━━━━━━━━━━━━━━\u001b[0m\u001b[37m\u001b[0m \u001b[1m2s\u001b[0m 21ms/step - d_loss: 0.1747 - d_loss_fake: 0.0823 - d_loss_real: 0.0924 - g_loss: 3.1616\n",
      "Epoch 180/500\n",
      "\u001b[1m98/98\u001b[0m \u001b[32m━━━━━━━━━━━━━━━━━━━━\u001b[0m\u001b[37m\u001b[0m \u001b[1m2s\u001b[0m 21ms/step - d_loss: 0.1624 - d_loss_fake: 0.0780 - d_loss_real: 0.0845 - g_loss: 3.1130\n",
      "Epoch 181/500\n",
      "\u001b[1m98/98\u001b[0m \u001b[32m━━━━━━━━━━━━━━━━━━━━\u001b[0m\u001b[37m\u001b[0m \u001b[1m2s\u001b[0m 22ms/step - d_loss: 0.1796 - d_loss_fake: 0.0857 - d_loss_real: 0.0938 - g_loss: 3.1759\n",
      "Epoch 182/500\n",
      "\u001b[1m98/98\u001b[0m \u001b[32m━━━━━━━━━━━━━━━━━━━━\u001b[0m\u001b[37m\u001b[0m \u001b[1m2s\u001b[0m 21ms/step - d_loss: 0.1686 - d_loss_fake: 0.0795 - d_loss_real: 0.0891 - g_loss: 3.2227\n",
      "Epoch 183/500\n",
      "\u001b[1m98/98\u001b[0m \u001b[32m━━━━━━━━━━━━━━━━━━━━\u001b[0m\u001b[37m\u001b[0m \u001b[1m2s\u001b[0m 21ms/step - d_loss: 0.1700 - d_loss_fake: 0.0786 - d_loss_real: 0.0915 - g_loss: 3.2577\n",
      "Epoch 184/500\n",
      "\u001b[1m98/98\u001b[0m \u001b[32m━━━━━━━━━━━━━━━━━━━━\u001b[0m\u001b[37m\u001b[0m \u001b[1m2s\u001b[0m 21ms/step - d_loss: 0.1630 - d_loss_fake: 0.0741 - d_loss_real: 0.0890 - g_loss: 3.1851\n",
      "Epoch 185/500\n",
      "\u001b[1m98/98\u001b[0m \u001b[32m━━━━━━━━━━━━━━━━━━━━\u001b[0m\u001b[37m\u001b[0m \u001b[1m2s\u001b[0m 21ms/step - d_loss: 0.1661 - d_loss_fake: 0.0795 - d_loss_real: 0.0866 - g_loss: 3.2207\n",
      "Epoch 186/500\n",
      "\u001b[1m98/98\u001b[0m \u001b[32m━━━━━━━━━━━━━━━━━━━━\u001b[0m\u001b[37m\u001b[0m \u001b[1m2s\u001b[0m 22ms/step - d_loss: 0.1830 - d_loss_fake: 0.0856 - d_loss_real: 0.0974 - g_loss: 3.2692\n",
      "Epoch 187/500\n",
      "\u001b[1m98/98\u001b[0m \u001b[32m━━━━━━━━━━━━━━━━━━━━\u001b[0m\u001b[37m\u001b[0m \u001b[1m2s\u001b[0m 21ms/step - d_loss: 0.1656 - d_loss_fake: 0.0768 - d_loss_real: 0.0888 - g_loss: 3.2897\n",
      "Epoch 188/500\n",
      "\u001b[1m98/98\u001b[0m \u001b[32m━━━━━━━━━━━━━━━━━━━━\u001b[0m\u001b[37m\u001b[0m \u001b[1m2s\u001b[0m 21ms/step - d_loss: 0.1599 - d_loss_fake: 0.0769 - d_loss_real: 0.0830 - g_loss: 3.2748\n",
      "Epoch 189/500\n",
      "\u001b[1m98/98\u001b[0m \u001b[32m━━━━━━━━━━━━━━━━━━━━\u001b[0m\u001b[37m\u001b[0m \u001b[1m2s\u001b[0m 21ms/step - d_loss: 0.1701 - d_loss_fake: 0.0798 - d_loss_real: 0.0903 - g_loss: 3.3212\n",
      "Epoch 190/500\n",
      "\u001b[1m98/98\u001b[0m \u001b[32m━━━━━━━━━━━━━━━━━━━━\u001b[0m\u001b[37m\u001b[0m \u001b[1m2s\u001b[0m 21ms/step - d_loss: 0.1560 - d_loss_fake: 0.0737 - d_loss_real: 0.0823 - g_loss: 3.2791\n",
      "Epoch 191/500\n",
      "\u001b[1m98/98\u001b[0m \u001b[32m━━━━━━━━━━━━━━━━━━━━\u001b[0m\u001b[37m\u001b[0m \u001b[1m2s\u001b[0m 22ms/step - d_loss: 0.1634 - d_loss_fake: 0.0710 - d_loss_real: 0.0923 - g_loss: 3.3446\n",
      "Epoch 192/500\n",
      "\u001b[1m98/98\u001b[0m \u001b[32m━━━━━━━━━━━━━━━━━━━━\u001b[0m\u001b[37m\u001b[0m \u001b[1m2s\u001b[0m 21ms/step - d_loss: 0.1790 - d_loss_fake: 0.0852 - d_loss_real: 0.0938 - g_loss: 3.3125\n",
      "Epoch 193/500\n",
      "\u001b[1m98/98\u001b[0m \u001b[32m━━━━━━━━━━━━━━━━━━━━\u001b[0m\u001b[37m\u001b[0m \u001b[1m2s\u001b[0m 21ms/step - d_loss: 0.1760 - d_loss_fake: 0.0776 - d_loss_real: 0.0983 - g_loss: 3.4091\n",
      "Epoch 194/500\n",
      "\u001b[1m98/98\u001b[0m \u001b[32m━━━━━━━━━━━━━━━━━━━━\u001b[0m\u001b[37m\u001b[0m \u001b[1m2s\u001b[0m 21ms/step - d_loss: 0.1634 - d_loss_fake: 0.0765 - d_loss_real: 0.0870 - g_loss: 3.4079\n",
      "Epoch 195/500\n",
      "\u001b[1m98/98\u001b[0m \u001b[32m━━━━━━━━━━━━━━━━━━━━\u001b[0m\u001b[37m\u001b[0m \u001b[1m2s\u001b[0m 21ms/step - d_loss: 0.1600 - d_loss_fake: 0.0722 - d_loss_real: 0.0878 - g_loss: 3.3966\n",
      "Epoch 196/500\n",
      "\u001b[1m98/98\u001b[0m \u001b[32m━━━━━━━━━━━━━━━━━━━━\u001b[0m\u001b[37m\u001b[0m \u001b[1m2s\u001b[0m 22ms/step - d_loss: 0.1686 - d_loss_fake: 0.0772 - d_loss_real: 0.0915 - g_loss: 3.3952\n",
      "Epoch 197/500\n",
      "\u001b[1m98/98\u001b[0m \u001b[32m━━━━━━━━━━━━━━━━━━━━\u001b[0m\u001b[37m\u001b[0m \u001b[1m2s\u001b[0m 21ms/step - d_loss: 0.1661 - d_loss_fake: 0.0748 - d_loss_real: 0.0913 - g_loss: 3.3874\n",
      "Epoch 198/500\n",
      "\u001b[1m98/98\u001b[0m \u001b[32m━━━━━━━━━━━━━━━━━━━━\u001b[0m\u001b[37m\u001b[0m \u001b[1m2s\u001b[0m 21ms/step - d_loss: 0.1581 - d_loss_fake: 0.0712 - d_loss_real: 0.0869 - g_loss: 3.4674\n",
      "Epoch 199/500\n",
      "\u001b[1m98/98\u001b[0m \u001b[32m━━━━━━━━━━━━━━━━━━━━\u001b[0m\u001b[37m\u001b[0m \u001b[1m2s\u001b[0m 21ms/step - d_loss: 0.1597 - d_loss_fake: 0.0700 - d_loss_real: 0.0897 - g_loss: 3.4444\n",
      "Epoch 200/500\n",
      "\u001b[1m98/98\u001b[0m \u001b[32m━━━━━━━━━━━━━━━━━━━━\u001b[0m\u001b[37m\u001b[0m \u001b[1m2s\u001b[0m 21ms/step - d_loss: 0.1630 - d_loss_fake: 0.0727 - d_loss_real: 0.0903 - g_loss: 3.4916\n",
      "Epoch 201/500\n",
      "\u001b[1m98/98\u001b[0m \u001b[32m━━━━━━━━━━━━━━━━━━━━\u001b[0m\u001b[37m\u001b[0m \u001b[1m2s\u001b[0m 22ms/step - d_loss: 0.1604 - d_loss_fake: 0.0730 - d_loss_real: 0.0873 - g_loss: 3.4281\n",
      "Epoch 202/500\n",
      "\u001b[1m98/98\u001b[0m \u001b[32m━━━━━━━━━━━━━━━━━━━━\u001b[0m\u001b[37m\u001b[0m \u001b[1m2s\u001b[0m 21ms/step - d_loss: 0.1584 - d_loss_fake: 0.0679 - d_loss_real: 0.0906 - g_loss: 3.4864\n",
      "Epoch 203/500\n",
      "\u001b[1m98/98\u001b[0m \u001b[32m━━━━━━━━━━━━━━━━━━━━\u001b[0m\u001b[37m\u001b[0m \u001b[1m2s\u001b[0m 21ms/step - d_loss: 0.1631 - d_loss_fake: 0.0724 - d_loss_real: 0.0907 - g_loss: 3.4965\n",
      "Epoch 204/500\n",
      "\u001b[1m98/98\u001b[0m \u001b[32m━━━━━━━━━━━━━━━━━━━━\u001b[0m\u001b[37m\u001b[0m \u001b[1m2s\u001b[0m 21ms/step - d_loss: 0.1604 - d_loss_fake: 0.0657 - d_loss_real: 0.0947 - g_loss: 3.5180\n",
      "Epoch 205/500\n",
      "\u001b[1m98/98\u001b[0m \u001b[32m━━━━━━━━━━━━━━━━━━━━\u001b[0m\u001b[37m\u001b[0m \u001b[1m2s\u001b[0m 21ms/step - d_loss: 0.1622 - d_loss_fake: 0.0702 - d_loss_real: 0.0921 - g_loss: 3.5703\n",
      "Epoch 206/500\n",
      "\u001b[1m98/98\u001b[0m \u001b[32m━━━━━━━━━━━━━━━━━━━━\u001b[0m\u001b[37m\u001b[0m \u001b[1m2s\u001b[0m 22ms/step - d_loss: 0.1581 - d_loss_fake: 0.0686 - d_loss_real: 0.0895 - g_loss: 3.5706\n",
      "Epoch 207/500\n",
      "\u001b[1m98/98\u001b[0m \u001b[32m━━━━━━━━━━━━━━━━━━━━\u001b[0m\u001b[37m\u001b[0m \u001b[1m2s\u001b[0m 21ms/step - d_loss: 0.1538 - d_loss_fake: 0.0653 - d_loss_real: 0.0884 - g_loss: 3.5938\n",
      "Epoch 208/500\n",
      "\u001b[1m98/98\u001b[0m \u001b[32m━━━━━━━━━━━━━━━━━━━━\u001b[0m\u001b[37m\u001b[0m \u001b[1m2s\u001b[0m 21ms/step - d_loss: 0.1517 - d_loss_fake: 0.0619 - d_loss_real: 0.0898 - g_loss: 3.5843\n",
      "Epoch 209/500\n",
      "\u001b[1m98/98\u001b[0m \u001b[32m━━━━━━━━━━━━━━━━━━━━\u001b[0m\u001b[37m\u001b[0m \u001b[1m2s\u001b[0m 21ms/step - d_loss: 0.1567 - d_loss_fake: 0.0680 - d_loss_real: 0.0887 - g_loss: 3.6698\n",
      "Epoch 210/500\n",
      "\u001b[1m98/98\u001b[0m \u001b[32m━━━━━━━━━━━━━━━━━━━━\u001b[0m\u001b[37m\u001b[0m \u001b[1m2s\u001b[0m 21ms/step - d_loss: 0.1505 - d_loss_fake: 0.0615 - d_loss_real: 0.0889 - g_loss: 3.6067\n",
      "Epoch 211/500\n",
      "\u001b[1m98/98\u001b[0m \u001b[32m━━━━━━━━━━━━━━━━━━━━\u001b[0m\u001b[37m\u001b[0m \u001b[1m2s\u001b[0m 22ms/step - d_loss: 0.1477 - d_loss_fake: 0.0637 - d_loss_real: 0.0840 - g_loss: 3.6339\n",
      "Epoch 212/500\n",
      "\u001b[1m98/98\u001b[0m \u001b[32m━━━━━━━━━━━━━━━━━━━━\u001b[0m\u001b[37m\u001b[0m \u001b[1m2s\u001b[0m 21ms/step - d_loss: 0.1539 - d_loss_fake: 0.0673 - d_loss_real: 0.0866 - g_loss: 3.6478\n",
      "Epoch 213/500\n",
      "\u001b[1m98/98\u001b[0m \u001b[32m━━━━━━━━━━━━━━━━━━━━\u001b[0m\u001b[37m\u001b[0m \u001b[1m2s\u001b[0m 21ms/step - d_loss: 0.1448 - d_loss_fake: 0.0607 - d_loss_real: 0.0841 - g_loss: 3.6103\n",
      "Epoch 214/500\n",
      "\u001b[1m98/98\u001b[0m \u001b[32m━━━━━━━━━━━━━━━━━━━━\u001b[0m\u001b[37m\u001b[0m \u001b[1m2s\u001b[0m 21ms/step - d_loss: 0.1453 - d_loss_fake: 0.0615 - d_loss_real: 0.0837 - g_loss: 3.6286\n",
      "Epoch 215/500\n",
      "\u001b[1m98/98\u001b[0m \u001b[32m━━━━━━━━━━━━━━━━━━━━\u001b[0m\u001b[37m\u001b[0m \u001b[1m2s\u001b[0m 21ms/step - d_loss: 0.1545 - d_loss_fake: 0.0652 - d_loss_real: 0.0893 - g_loss: 3.6498\n",
      "Epoch 216/500\n",
      "\u001b[1m98/98\u001b[0m \u001b[32m━━━━━━━━━━━━━━━━━━━━\u001b[0m\u001b[37m\u001b[0m \u001b[1m2s\u001b[0m 22ms/step - d_loss: 0.1432 - d_loss_fake: 0.0576 - d_loss_real: 0.0856 - g_loss: 3.7266\n",
      "Epoch 217/500\n",
      "\u001b[1m98/98\u001b[0m \u001b[32m━━━━━━━━━━━━━━━━━━━━\u001b[0m\u001b[37m\u001b[0m \u001b[1m2s\u001b[0m 21ms/step - d_loss: 0.1436 - d_loss_fake: 0.0604 - d_loss_real: 0.0832 - g_loss: 3.7482\n",
      "Epoch 218/500\n",
      "\u001b[1m98/98\u001b[0m \u001b[32m━━━━━━━━━━━━━━━━━━━━\u001b[0m\u001b[37m\u001b[0m \u001b[1m2s\u001b[0m 21ms/step - d_loss: 0.1434 - d_loss_fake: 0.0607 - d_loss_real: 0.0827 - g_loss: 3.6609\n",
      "Epoch 219/500\n",
      "\u001b[1m98/98\u001b[0m \u001b[32m━━━━━━━━━━━━━━━━━━━━\u001b[0m\u001b[37m\u001b[0m \u001b[1m2s\u001b[0m 21ms/step - d_loss: 0.1482 - d_loss_fake: 0.0613 - d_loss_real: 0.0869 - g_loss: 3.8918\n",
      "Epoch 220/500\n",
      "\u001b[1m98/98\u001b[0m \u001b[32m━━━━━━━━━━━━━━━━━━━━\u001b[0m\u001b[37m\u001b[0m \u001b[1m2s\u001b[0m 21ms/step - d_loss: 0.1426 - d_loss_fake: 0.0586 - d_loss_real: 0.0839 - g_loss: 3.7091\n",
      "Epoch 221/500\n",
      "\u001b[1m98/98\u001b[0m \u001b[32m━━━━━━━━━━━━━━━━━━━━\u001b[0m\u001b[37m\u001b[0m \u001b[1m2s\u001b[0m 22ms/step - d_loss: 0.1438 - d_loss_fake: 0.0585 - d_loss_real: 0.0853 - g_loss: 3.8012\n",
      "Epoch 222/500\n",
      "\u001b[1m98/98\u001b[0m \u001b[32m━━━━━━━━━━━━━━━━━━━━\u001b[0m\u001b[37m\u001b[0m \u001b[1m2s\u001b[0m 21ms/step - d_loss: 0.1563 - d_loss_fake: 0.0653 - d_loss_real: 0.0910 - g_loss: 3.7708\n",
      "Epoch 223/500\n",
      "\u001b[1m98/98\u001b[0m \u001b[32m━━━━━━━━━━━━━━━━━━━━\u001b[0m\u001b[37m\u001b[0m \u001b[1m2s\u001b[0m 21ms/step - d_loss: 0.1551 - d_loss_fake: 0.0573 - d_loss_real: 0.0978 - g_loss: 3.9034\n",
      "Epoch 224/500\n",
      "\u001b[1m98/98\u001b[0m \u001b[32m━━━━━━━━━━━━━━━━━━━━\u001b[0m\u001b[37m\u001b[0m \u001b[1m2s\u001b[0m 21ms/step - d_loss: 0.1447 - d_loss_fake: 0.0548 - d_loss_real: 0.0899 - g_loss: 3.8172\n",
      "Epoch 225/500\n",
      "\u001b[1m98/98\u001b[0m \u001b[32m━━━━━━━━━━━━━━━━━━━━\u001b[0m\u001b[37m\u001b[0m \u001b[1m2s\u001b[0m 21ms/step - d_loss: 0.1534 - d_loss_fake: 0.0625 - d_loss_real: 0.0908 - g_loss: 3.8957\n",
      "Epoch 226/500\n",
      "\u001b[1m98/98\u001b[0m \u001b[32m━━━━━━━━━━━━━━━━━━━━\u001b[0m\u001b[37m\u001b[0m \u001b[1m2s\u001b[0m 22ms/step - d_loss: 0.1503 - d_loss_fake: 0.0606 - d_loss_real: 0.0897 - g_loss: 3.9369\n",
      "Epoch 227/500\n",
      "\u001b[1m98/98\u001b[0m \u001b[32m━━━━━━━━━━━━━━━━━━━━\u001b[0m\u001b[37m\u001b[0m \u001b[1m2s\u001b[0m 21ms/step - d_loss: 0.1451 - d_loss_fake: 0.0566 - d_loss_real: 0.0886 - g_loss: 3.8482\n",
      "Epoch 228/500\n",
      "\u001b[1m98/98\u001b[0m \u001b[32m━━━━━━━━━━━━━━━━━━━━\u001b[0m\u001b[37m\u001b[0m \u001b[1m2s\u001b[0m 21ms/step - d_loss: 0.1534 - d_loss_fake: 0.0633 - d_loss_real: 0.0902 - g_loss: 3.8885\n",
      "Epoch 229/500\n",
      "\u001b[1m98/98\u001b[0m \u001b[32m━━━━━━━━━━━━━━━━━━━━\u001b[0m\u001b[37m\u001b[0m \u001b[1m2s\u001b[0m 21ms/step - d_loss: 0.1496 - d_loss_fake: 0.0582 - d_loss_real: 0.0914 - g_loss: 3.8484\n",
      "Epoch 230/500\n",
      "\u001b[1m98/98\u001b[0m \u001b[32m━━━━━━━━━━━━━━━━━━━━\u001b[0m\u001b[37m\u001b[0m \u001b[1m2s\u001b[0m 21ms/step - d_loss: 0.1584 - d_loss_fake: 0.0622 - d_loss_real: 0.0962 - g_loss: 4.0003\n",
      "Epoch 231/500\n",
      "\u001b[1m98/98\u001b[0m \u001b[32m━━━━━━━━━━━━━━━━━━━━\u001b[0m\u001b[37m\u001b[0m \u001b[1m2s\u001b[0m 22ms/step - d_loss: 0.1589 - d_loss_fake: 0.0619 - d_loss_real: 0.0971 - g_loss: 4.0037\n",
      "Epoch 232/500\n",
      "\u001b[1m98/98\u001b[0m \u001b[32m━━━━━━━━━━━━━━━━━━━━\u001b[0m\u001b[37m\u001b[0m \u001b[1m2s\u001b[0m 21ms/step - d_loss: 0.1478 - d_loss_fake: 0.0580 - d_loss_real: 0.0898 - g_loss: 3.9438\n",
      "Epoch 233/500\n",
      "\u001b[1m98/98\u001b[0m \u001b[32m━━━━━━━━━━━━━━━━━━━━\u001b[0m\u001b[37m\u001b[0m \u001b[1m2s\u001b[0m 21ms/step - d_loss: 0.1556 - d_loss_fake: 0.0606 - d_loss_real: 0.0950 - g_loss: 3.9681\n",
      "Epoch 234/500\n",
      "\u001b[1m98/98\u001b[0m \u001b[32m━━━━━━━━━━━━━━━━━━━━\u001b[0m\u001b[37m\u001b[0m \u001b[1m2s\u001b[0m 21ms/step - d_loss: 0.1515 - d_loss_fake: 0.0576 - d_loss_real: 0.0940 - g_loss: 4.0649\n",
      "Epoch 235/500\n",
      "\u001b[1m98/98\u001b[0m \u001b[32m━━━━━━━━━━━━━━━━━━━━\u001b[0m\u001b[37m\u001b[0m \u001b[1m2s\u001b[0m 21ms/step - d_loss: 0.1428 - d_loss_fake: 0.0562 - d_loss_real: 0.0866 - g_loss: 3.9928\n",
      "Epoch 236/500\n",
      "\u001b[1m98/98\u001b[0m \u001b[32m━━━━━━━━━━━━━━━━━━━━\u001b[0m\u001b[37m\u001b[0m \u001b[1m2s\u001b[0m 22ms/step - d_loss: 0.1427 - d_loss_fake: 0.0555 - d_loss_real: 0.0873 - g_loss: 4.0170\n",
      "Epoch 237/500\n",
      "\u001b[1m98/98\u001b[0m \u001b[32m━━━━━━━━━━━━━━━━━━━━\u001b[0m\u001b[37m\u001b[0m \u001b[1m2s\u001b[0m 21ms/step - d_loss: 0.1650 - d_loss_fake: 0.0655 - d_loss_real: 0.0995 - g_loss: 4.0766\n",
      "Epoch 238/500\n",
      "\u001b[1m98/98\u001b[0m \u001b[32m━━━━━━━━━━━━━━━━━━━━\u001b[0m\u001b[37m\u001b[0m \u001b[1m2s\u001b[0m 21ms/step - d_loss: 0.1456 - d_loss_fake: 0.0592 - d_loss_real: 0.0865 - g_loss: 3.9825\n",
      "Epoch 239/500\n",
      "\u001b[1m98/98\u001b[0m \u001b[32m━━━━━━━━━━━━━━━━━━━━\u001b[0m\u001b[37m\u001b[0m \u001b[1m2s\u001b[0m 21ms/step - d_loss: 0.1394 - d_loss_fake: 0.0561 - d_loss_real: 0.0833 - g_loss: 4.0724\n",
      "Epoch 240/500\n",
      "\u001b[1m98/98\u001b[0m \u001b[32m━━━━━━━━━━━━━━━━━━━━\u001b[0m\u001b[37m\u001b[0m \u001b[1m2s\u001b[0m 21ms/step - d_loss: 0.1501 - d_loss_fake: 0.0575 - d_loss_real: 0.0927 - g_loss: 3.9163\n",
      "Epoch 241/500\n",
      "\u001b[1m98/98\u001b[0m \u001b[32m━━━━━━━━━━━━━━━━━━━━\u001b[0m\u001b[37m\u001b[0m \u001b[1m2s\u001b[0m 22ms/step - d_loss: 0.1552 - d_loss_fake: 0.0577 - d_loss_real: 0.0975 - g_loss: 4.2134\n",
      "Epoch 242/500\n",
      "\u001b[1m98/98\u001b[0m \u001b[32m━━━━━━━━━━━━━━━━━━━━\u001b[0m\u001b[37m\u001b[0m \u001b[1m2s\u001b[0m 21ms/step - d_loss: 0.1468 - d_loss_fake: 0.0550 - d_loss_real: 0.0918 - g_loss: 4.0307\n",
      "Epoch 243/500\n",
      "\u001b[1m98/98\u001b[0m \u001b[32m━━━━━━━━━━━━━━━━━━━━\u001b[0m\u001b[37m\u001b[0m \u001b[1m2s\u001b[0m 21ms/step - d_loss: 0.1581 - d_loss_fake: 0.0611 - d_loss_real: 0.0969 - g_loss: 4.1543\n",
      "Epoch 244/500\n",
      "\u001b[1m98/98\u001b[0m \u001b[32m━━━━━━━━━━━━━━━━━━━━\u001b[0m\u001b[37m\u001b[0m \u001b[1m2s\u001b[0m 21ms/step - d_loss: 0.1481 - d_loss_fake: 0.0529 - d_loss_real: 0.0951 - g_loss: 4.2260\n",
      "Epoch 245/500\n",
      "\u001b[1m98/98\u001b[0m \u001b[32m━━━━━━━━━━━━━━━━━━━━\u001b[0m\u001b[37m\u001b[0m \u001b[1m2s\u001b[0m 21ms/step - d_loss: 0.1489 - d_loss_fake: 0.0549 - d_loss_real: 0.0941 - g_loss: 4.1234\n",
      "Epoch 246/500\n",
      "\u001b[1m98/98\u001b[0m \u001b[32m━━━━━━━━━━━━━━━━━━━━\u001b[0m\u001b[37m\u001b[0m \u001b[1m2s\u001b[0m 22ms/step - d_loss: 0.1399 - d_loss_fake: 0.0533 - d_loss_real: 0.0866 - g_loss: 4.0311\n",
      "Epoch 247/500\n",
      "\u001b[1m98/98\u001b[0m \u001b[32m━━━━━━━━━━━━━━━━━━━━\u001b[0m\u001b[37m\u001b[0m \u001b[1m2s\u001b[0m 21ms/step - d_loss: 0.1440 - d_loss_fake: 0.0509 - d_loss_real: 0.0931 - g_loss: 4.2570\n",
      "Epoch 248/500\n",
      "\u001b[1m98/98\u001b[0m \u001b[32m━━━━━━━━━━━━━━━━━━━━\u001b[0m\u001b[37m\u001b[0m \u001b[1m2s\u001b[0m 21ms/step - d_loss: 0.1293 - d_loss_fake: 0.0480 - d_loss_real: 0.0813 - g_loss: 4.0882\n",
      "Epoch 249/500\n",
      "\u001b[1m98/98\u001b[0m \u001b[32m━━━━━━━━━━━━━━━━━━━━\u001b[0m\u001b[37m\u001b[0m \u001b[1m2s\u001b[0m 21ms/step - d_loss: 0.1358 - d_loss_fake: 0.0508 - d_loss_real: 0.0850 - g_loss: 4.0762\n",
      "Epoch 250/500\n",
      "\u001b[1m98/98\u001b[0m \u001b[32m━━━━━━━━━━━━━━━━━━━━\u001b[0m\u001b[37m\u001b[0m \u001b[1m2s\u001b[0m 21ms/step - d_loss: 0.1608 - d_loss_fake: 0.0584 - d_loss_real: 0.1024 - g_loss: 4.3023\n",
      "Epoch 251/500\n",
      "\u001b[1m98/98\u001b[0m \u001b[32m━━━━━━━━━━━━━━━━━━━━\u001b[0m\u001b[37m\u001b[0m \u001b[1m2s\u001b[0m 22ms/step - d_loss: 0.1368 - d_loss_fake: 0.0493 - d_loss_real: 0.0875 - g_loss: 4.1087\n",
      "Epoch 252/500\n",
      "\u001b[1m98/98\u001b[0m \u001b[32m━━━━━━━━━━━━━━━━━━━━\u001b[0m\u001b[37m\u001b[0m \u001b[1m2s\u001b[0m 21ms/step - d_loss: 0.1356 - d_loss_fake: 0.0511 - d_loss_real: 0.0846 - g_loss: 4.2734\n",
      "Epoch 253/500\n",
      "\u001b[1m98/98\u001b[0m \u001b[32m━━━━━━━━━━━━━━━━━━━━\u001b[0m\u001b[37m\u001b[0m \u001b[1m2s\u001b[0m 21ms/step - d_loss: 0.1411 - d_loss_fake: 0.0509 - d_loss_real: 0.0902 - g_loss: 4.3308\n",
      "Epoch 254/500\n",
      "\u001b[1m98/98\u001b[0m \u001b[32m━━━━━━━━━━━━━━━━━━━━\u001b[0m\u001b[37m\u001b[0m \u001b[1m2s\u001b[0m 21ms/step - d_loss: 0.1338 - d_loss_fake: 0.0469 - d_loss_real: 0.0870 - g_loss: 4.0838\n",
      "Epoch 255/500\n",
      "\u001b[1m98/98\u001b[0m \u001b[32m━━━━━━━━━━━━━━━━━━━━\u001b[0m\u001b[37m\u001b[0m \u001b[1m2s\u001b[0m 21ms/step - d_loss: 0.1270 - d_loss_fake: 0.0478 - d_loss_real: 0.0792 - g_loss: 4.2474\n",
      "Epoch 256/500\n",
      "\u001b[1m98/98\u001b[0m \u001b[32m━━━━━━━━━━━━━━━━━━━━\u001b[0m\u001b[37m\u001b[0m \u001b[1m2s\u001b[0m 22ms/step - d_loss: 0.1293 - d_loss_fake: 0.0461 - d_loss_real: 0.0832 - g_loss: 4.2457\n",
      "Epoch 257/500\n",
      "\u001b[1m98/98\u001b[0m \u001b[32m━━━━━━━━━━━━━━━━━━━━\u001b[0m\u001b[37m\u001b[0m \u001b[1m2s\u001b[0m 21ms/step - d_loss: 0.1328 - d_loss_fake: 0.0516 - d_loss_real: 0.0812 - g_loss: 4.2602\n",
      "Epoch 258/500\n",
      "\u001b[1m98/98\u001b[0m \u001b[32m━━━━━━━━━━━━━━━━━━━━\u001b[0m\u001b[37m\u001b[0m \u001b[1m2s\u001b[0m 21ms/step - d_loss: 0.1450 - d_loss_fake: 0.0556 - d_loss_real: 0.0894 - g_loss: 4.4351\n",
      "Epoch 259/500\n",
      "\u001b[1m98/98\u001b[0m \u001b[32m━━━━━━━━━━━━━━━━━━━━\u001b[0m\u001b[37m\u001b[0m \u001b[1m2s\u001b[0m 21ms/step - d_loss: 0.1437 - d_loss_fake: 0.0512 - d_loss_real: 0.0925 - g_loss: 4.2861\n",
      "Epoch 260/500\n",
      "\u001b[1m98/98\u001b[0m \u001b[32m━━━━━━━━━━━━━━━━━━━━\u001b[0m\u001b[37m\u001b[0m \u001b[1m2s\u001b[0m 21ms/step - d_loss: 0.1503 - d_loss_fake: 0.0551 - d_loss_real: 0.0952 - g_loss: 4.4070\n",
      "Epoch 261/500\n",
      "\u001b[1m98/98\u001b[0m \u001b[32m━━━━━━━━━━━━━━━━━━━━\u001b[0m\u001b[37m\u001b[0m \u001b[1m2s\u001b[0m 22ms/step - d_loss: 0.1403 - d_loss_fake: 0.0513 - d_loss_real: 0.0890 - g_loss: 4.3147\n",
      "Epoch 262/500\n",
      "\u001b[1m98/98\u001b[0m \u001b[32m━━━━━━━━━━━━━━━━━━━━\u001b[0m\u001b[37m\u001b[0m \u001b[1m2s\u001b[0m 21ms/step - d_loss: 0.1352 - d_loss_fake: 0.0470 - d_loss_real: 0.0882 - g_loss: 4.2935\n",
      "Epoch 263/500\n",
      "\u001b[1m98/98\u001b[0m \u001b[32m━━━━━━━━━━━━━━━━━━━━\u001b[0m\u001b[37m\u001b[0m \u001b[1m2s\u001b[0m 21ms/step - d_loss: 0.1323 - d_loss_fake: 0.0508 - d_loss_real: 0.0815 - g_loss: 4.3086\n",
      "Epoch 264/500\n",
      "\u001b[1m98/98\u001b[0m \u001b[32m━━━━━━━━━━━━━━━━━━━━\u001b[0m\u001b[37m\u001b[0m \u001b[1m2s\u001b[0m 21ms/step - d_loss: 0.1444 - d_loss_fake: 0.0537 - d_loss_real: 0.0906 - g_loss: 4.4230\n",
      "Epoch 265/500\n",
      "\u001b[1m98/98\u001b[0m \u001b[32m━━━━━━━━━━━━━━━━━━━━\u001b[0m\u001b[37m\u001b[0m \u001b[1m2s\u001b[0m 21ms/step - d_loss: 0.1396 - d_loss_fake: 0.0518 - d_loss_real: 0.0878 - g_loss: 4.3720\n",
      "Epoch 266/500\n",
      "\u001b[1m98/98\u001b[0m \u001b[32m━━━━━━━━━━━━━━━━━━━━\u001b[0m\u001b[37m\u001b[0m \u001b[1m2s\u001b[0m 22ms/step - d_loss: 0.1547 - d_loss_fake: 0.0545 - d_loss_real: 0.1001 - g_loss: 4.5601\n",
      "Epoch 267/500\n",
      "\u001b[1m98/98\u001b[0m \u001b[32m━━━━━━━━━━━━━━━━━━━━\u001b[0m\u001b[37m\u001b[0m \u001b[1m2s\u001b[0m 21ms/step - d_loss: 0.1303 - d_loss_fake: 0.0464 - d_loss_real: 0.0839 - g_loss: 4.3398\n",
      "Epoch 268/500\n",
      "\u001b[1m98/98\u001b[0m \u001b[32m━━━━━━━━━━━━━━━━━━━━\u001b[0m\u001b[37m\u001b[0m \u001b[1m2s\u001b[0m 21ms/step - d_loss: 0.1252 - d_loss_fake: 0.0434 - d_loss_real: 0.0818 - g_loss: 4.2945\n",
      "Epoch 269/500\n",
      "\u001b[1m98/98\u001b[0m \u001b[32m━━━━━━━━━━━━━━━━━━━━\u001b[0m\u001b[37m\u001b[0m \u001b[1m2s\u001b[0m 21ms/step - d_loss: 0.1331 - d_loss_fake: 0.0473 - d_loss_real: 0.0858 - g_loss: 4.4202\n",
      "Epoch 270/500\n",
      "\u001b[1m98/98\u001b[0m \u001b[32m━━━━━━━━━━━━━━━━━━━━\u001b[0m\u001b[37m\u001b[0m \u001b[1m2s\u001b[0m 21ms/step - d_loss: 0.1393 - d_loss_fake: 0.0503 - d_loss_real: 0.0890 - g_loss: 4.6666\n",
      "Epoch 271/500\n",
      "\u001b[1m98/98\u001b[0m \u001b[32m━━━━━━━━━━━━━━━━━━━━\u001b[0m\u001b[37m\u001b[0m \u001b[1m2s\u001b[0m 22ms/step - d_loss: 0.1341 - d_loss_fake: 0.0475 - d_loss_real: 0.0865 - g_loss: 4.4336\n",
      "Epoch 272/500\n",
      "\u001b[1m98/98\u001b[0m \u001b[32m━━━━━━━━━━━━━━━━━━━━\u001b[0m\u001b[37m\u001b[0m \u001b[1m2s\u001b[0m 21ms/step - d_loss: 0.1369 - d_loss_fake: 0.0500 - d_loss_real: 0.0869 - g_loss: 4.3974\n",
      "Epoch 273/500\n",
      "\u001b[1m98/98\u001b[0m \u001b[32m━━━━━━━━━━━━━━━━━━━━\u001b[0m\u001b[37m\u001b[0m \u001b[1m2s\u001b[0m 21ms/step - d_loss: 0.1409 - d_loss_fake: 0.0498 - d_loss_real: 0.0911 - g_loss: 4.5033\n",
      "Epoch 274/500\n",
      "\u001b[1m98/98\u001b[0m \u001b[32m━━━━━━━━━━━━━━━━━━━━\u001b[0m\u001b[37m\u001b[0m \u001b[1m2s\u001b[0m 21ms/step - d_loss: 0.1323 - d_loss_fake: 0.0454 - d_loss_real: 0.0868 - g_loss: 4.3400\n",
      "Epoch 275/500\n",
      "\u001b[1m98/98\u001b[0m \u001b[32m━━━━━━━━━━━━━━━━━━━━\u001b[0m\u001b[37m\u001b[0m \u001b[1m2s\u001b[0m 21ms/step - d_loss: 0.1275 - d_loss_fake: 0.0454 - d_loss_real: 0.0821 - g_loss: 4.5174\n",
      "Epoch 276/500\n",
      "\u001b[1m98/98\u001b[0m \u001b[32m━━━━━━━━━━━━━━━━━━━━\u001b[0m\u001b[37m\u001b[0m \u001b[1m2s\u001b[0m 22ms/step - d_loss: 0.1294 - d_loss_fake: 0.0450 - d_loss_real: 0.0844 - g_loss: 4.5428\n",
      "Epoch 277/500\n",
      "\u001b[1m98/98\u001b[0m \u001b[32m━━━━━━━━━━━━━━━━━━━━\u001b[0m\u001b[37m\u001b[0m \u001b[1m2s\u001b[0m 21ms/step - d_loss: 0.1404 - d_loss_fake: 0.0492 - d_loss_real: 0.0912 - g_loss: 4.6916\n",
      "Epoch 278/500\n",
      "\u001b[1m98/98\u001b[0m \u001b[32m━━━━━━━━━━━━━━━━━━━━\u001b[0m\u001b[37m\u001b[0m \u001b[1m2s\u001b[0m 21ms/step - d_loss: 0.1266 - d_loss_fake: 0.0433 - d_loss_real: 0.0832 - g_loss: 4.4679\n",
      "Epoch 279/500\n",
      "\u001b[1m98/98\u001b[0m \u001b[32m━━━━━━━━━━━━━━━━━━━━\u001b[0m\u001b[37m\u001b[0m \u001b[1m2s\u001b[0m 21ms/step - d_loss: 0.1232 - d_loss_fake: 0.0398 - d_loss_real: 0.0833 - g_loss: 4.6559\n",
      "Epoch 280/500\n",
      "\u001b[1m98/98\u001b[0m \u001b[32m━━━━━━━━━━━━━━━━━━━━\u001b[0m\u001b[37m\u001b[0m \u001b[1m2s\u001b[0m 21ms/step - d_loss: 0.1437 - d_loss_fake: 0.0512 - d_loss_real: 0.0925 - g_loss: 4.3988\n",
      "Epoch 281/500\n",
      "\u001b[1m98/98\u001b[0m \u001b[32m━━━━━━━━━━━━━━━━━━━━\u001b[0m\u001b[37m\u001b[0m \u001b[1m2s\u001b[0m 22ms/step - d_loss: 0.1311 - d_loss_fake: 0.0443 - d_loss_real: 0.0868 - g_loss: 4.7140\n",
      "Epoch 282/500\n",
      "\u001b[1m98/98\u001b[0m \u001b[32m━━━━━━━━━━━━━━━━━━━━\u001b[0m\u001b[37m\u001b[0m \u001b[1m2s\u001b[0m 21ms/step - d_loss: 0.1251 - d_loss_fake: 0.0433 - d_loss_real: 0.0817 - g_loss: 4.4881\n",
      "Epoch 283/500\n",
      "\u001b[1m98/98\u001b[0m \u001b[32m━━━━━━━━━━━━━━━━━━━━\u001b[0m\u001b[37m\u001b[0m \u001b[1m2s\u001b[0m 21ms/step - d_loss: 0.1279 - d_loss_fake: 0.0458 - d_loss_real: 0.0820 - g_loss: 4.4970\n",
      "Epoch 284/500\n",
      "\u001b[1m98/98\u001b[0m \u001b[32m━━━━━━━━━━━━━━━━━━━━\u001b[0m\u001b[37m\u001b[0m \u001b[1m2s\u001b[0m 21ms/step - d_loss: 0.1334 - d_loss_fake: 0.0444 - d_loss_real: 0.0890 - g_loss: 4.5656\n",
      "Epoch 285/500\n",
      "\u001b[1m98/98\u001b[0m \u001b[32m━━━━━━━━━━━━━━━━━━━━\u001b[0m\u001b[37m\u001b[0m \u001b[1m2s\u001b[0m 21ms/step - d_loss: 0.1370 - d_loss_fake: 0.0468 - d_loss_real: 0.0902 - g_loss: 4.7189\n",
      "Epoch 286/500\n",
      "\u001b[1m98/98\u001b[0m \u001b[32m━━━━━━━━━━━━━━━━━━━━\u001b[0m\u001b[37m\u001b[0m \u001b[1m2s\u001b[0m 22ms/step - d_loss: 0.1265 - d_loss_fake: 0.0419 - d_loss_real: 0.0846 - g_loss: 4.6958\n",
      "Epoch 287/500\n",
      "\u001b[1m98/98\u001b[0m \u001b[32m━━━━━━━━━━━━━━━━━━━━\u001b[0m\u001b[37m\u001b[0m \u001b[1m2s\u001b[0m 21ms/step - d_loss: 0.1347 - d_loss_fake: 0.0431 - d_loss_real: 0.0915 - g_loss: 4.6394\n",
      "Epoch 288/500\n",
      "\u001b[1m98/98\u001b[0m \u001b[32m━━━━━━━━━━━━━━━━━━━━\u001b[0m\u001b[37m\u001b[0m \u001b[1m2s\u001b[0m 21ms/step - d_loss: 0.1187 - d_loss_fake: 0.0404 - d_loss_real: 0.0784 - g_loss: 4.6313\n",
      "Epoch 289/500\n",
      "\u001b[1m98/98\u001b[0m \u001b[32m━━━━━━━━━━━━━━━━━━━━\u001b[0m\u001b[37m\u001b[0m \u001b[1m2s\u001b[0m 21ms/step - d_loss: 0.1375 - d_loss_fake: 0.0443 - d_loss_real: 0.0932 - g_loss: 4.6539\n",
      "Epoch 290/500\n",
      "\u001b[1m98/98\u001b[0m \u001b[32m━━━━━━━━━━━━━━━━━━━━\u001b[0m\u001b[37m\u001b[0m \u001b[1m2s\u001b[0m 21ms/step - d_loss: 0.1358 - d_loss_fake: 0.0488 - d_loss_real: 0.0870 - g_loss: 4.5784\n",
      "Epoch 291/500\n",
      "\u001b[1m98/98\u001b[0m \u001b[32m━━━━━━━━━━━━━━━━━━━━\u001b[0m\u001b[37m\u001b[0m \u001b[1m2s\u001b[0m 22ms/step - d_loss: 0.1368 - d_loss_fake: 0.0483 - d_loss_real: 0.0884 - g_loss: 4.7997\n",
      "Epoch 292/500\n",
      "\u001b[1m98/98\u001b[0m \u001b[32m━━━━━━━━━━━━━━━━━━━━\u001b[0m\u001b[37m\u001b[0m \u001b[1m2s\u001b[0m 21ms/step - d_loss: 0.1445 - d_loss_fake: 0.0491 - d_loss_real: 0.0954 - g_loss: 4.6963\n",
      "Epoch 293/500\n",
      "\u001b[1m98/98\u001b[0m \u001b[32m━━━━━━━━━━━━━━━━━━━━\u001b[0m\u001b[37m\u001b[0m \u001b[1m2s\u001b[0m 21ms/step - d_loss: 0.1400 - d_loss_fake: 0.0484 - d_loss_real: 0.0916 - g_loss: 4.8563\n",
      "Epoch 294/500\n",
      "\u001b[1m98/98\u001b[0m \u001b[32m━━━━━━━━━━━━━━━━━━━━\u001b[0m\u001b[37m\u001b[0m \u001b[1m2s\u001b[0m 21ms/step - d_loss: 0.1340 - d_loss_fake: 0.0467 - d_loss_real: 0.0874 - g_loss: 4.6129\n",
      "Epoch 295/500\n",
      "\u001b[1m98/98\u001b[0m \u001b[32m━━━━━━━━━━━━━━━━━━━━\u001b[0m\u001b[37m\u001b[0m \u001b[1m2s\u001b[0m 21ms/step - d_loss: 0.1306 - d_loss_fake: 0.0449 - d_loss_real: 0.0857 - g_loss: 4.7840\n",
      "Epoch 296/500\n",
      "\u001b[1m98/98\u001b[0m \u001b[32m━━━━━━━━━━━━━━━━━━━━\u001b[0m\u001b[37m\u001b[0m \u001b[1m2s\u001b[0m 22ms/step - d_loss: 0.1331 - d_loss_fake: 0.0449 - d_loss_real: 0.0882 - g_loss: 4.6176\n",
      "Epoch 297/500\n",
      "\u001b[1m98/98\u001b[0m \u001b[32m━━━━━━━━━━━━━━━━━━━━\u001b[0m\u001b[37m\u001b[0m \u001b[1m2s\u001b[0m 21ms/step - d_loss: 0.1245 - d_loss_fake: 0.0429 - d_loss_real: 0.0816 - g_loss: 4.7774\n",
      "Epoch 298/500\n",
      "\u001b[1m98/98\u001b[0m \u001b[32m━━━━━━━━━━━━━━━━━━━━\u001b[0m\u001b[37m\u001b[0m \u001b[1m2s\u001b[0m 21ms/step - d_loss: 0.1169 - d_loss_fake: 0.0394 - d_loss_real: 0.0775 - g_loss: 4.6992\n",
      "Epoch 299/500\n",
      "\u001b[1m98/98\u001b[0m \u001b[32m━━━━━━━━━━━━━━━━━━━━\u001b[0m\u001b[37m\u001b[0m \u001b[1m2s\u001b[0m 21ms/step - d_loss: 0.1124 - d_loss_fake: 0.0364 - d_loss_real: 0.0760 - g_loss: 4.5898\n",
      "Epoch 300/500\n",
      "\u001b[1m98/98\u001b[0m \u001b[32m━━━━━━━━━━━━━━━━━━━━\u001b[0m\u001b[37m\u001b[0m \u001b[1m2s\u001b[0m 21ms/step - d_loss: 0.1264 - d_loss_fake: 0.0420 - d_loss_real: 0.0844 - g_loss: 4.6553\n",
      "Epoch 301/500\n",
      "\u001b[1m98/98\u001b[0m \u001b[32m━━━━━━━━━━━━━━━━━━━━\u001b[0m\u001b[37m\u001b[0m \u001b[1m2s\u001b[0m 22ms/step - d_loss: 0.1300 - d_loss_fake: 0.0422 - d_loss_real: 0.0878 - g_loss: 4.8318\n",
      "Epoch 302/500\n",
      "\u001b[1m98/98\u001b[0m \u001b[32m━━━━━━━━━━━━━━━━━━━━\u001b[0m\u001b[37m\u001b[0m \u001b[1m2s\u001b[0m 21ms/step - d_loss: 0.1113 - d_loss_fake: 0.0376 - d_loss_real: 0.0737 - g_loss: 4.8412\n",
      "Epoch 303/500\n",
      "\u001b[1m98/98\u001b[0m \u001b[32m━━━━━━━━━━━━━━━━━━━━\u001b[0m\u001b[37m\u001b[0m \u001b[1m2s\u001b[0m 21ms/step - d_loss: 0.1163 - d_loss_fake: 0.0372 - d_loss_real: 0.0791 - g_loss: 4.7803\n",
      "Epoch 304/500\n",
      "\u001b[1m98/98\u001b[0m \u001b[32m━━━━━━━━━━━━━━━━━━━━\u001b[0m\u001b[37m\u001b[0m \u001b[1m2s\u001b[0m 21ms/step - d_loss: 0.1194 - d_loss_fake: 0.0391 - d_loss_real: 0.0803 - g_loss: 4.8996\n",
      "Epoch 305/500\n",
      "\u001b[1m98/98\u001b[0m \u001b[32m━━━━━━━━━━━━━━━━━━━━\u001b[0m\u001b[37m\u001b[0m \u001b[1m2s\u001b[0m 21ms/step - d_loss: 0.1131 - d_loss_fake: 0.0383 - d_loss_real: 0.0748 - g_loss: 4.7721\n",
      "Epoch 306/500\n",
      "\u001b[1m98/98\u001b[0m \u001b[32m━━━━━━━━━━━━━━━━━━━━\u001b[0m\u001b[37m\u001b[0m \u001b[1m2s\u001b[0m 22ms/step - d_loss: 0.1209 - d_loss_fake: 0.0393 - d_loss_real: 0.0816 - g_loss: 4.8720\n",
      "Epoch 307/500\n",
      "\u001b[1m98/98\u001b[0m \u001b[32m━━━━━━━━━━━━━━━━━━━━\u001b[0m\u001b[37m\u001b[0m \u001b[1m2s\u001b[0m 21ms/step - d_loss: 0.1174 - d_loss_fake: 0.0399 - d_loss_real: 0.0775 - g_loss: 4.8559\n",
      "Epoch 308/500\n",
      "\u001b[1m98/98\u001b[0m \u001b[32m━━━━━━━━━━━━━━━━━━━━\u001b[0m\u001b[37m\u001b[0m \u001b[1m2s\u001b[0m 21ms/step - d_loss: 0.1154 - d_loss_fake: 0.0383 - d_loss_real: 0.0771 - g_loss: 4.7259\n",
      "Epoch 309/500\n",
      "\u001b[1m98/98\u001b[0m \u001b[32m━━━━━━━━━━━━━━━━━━━━\u001b[0m\u001b[37m\u001b[0m \u001b[1m2s\u001b[0m 21ms/step - d_loss: 0.1129 - d_loss_fake: 0.0412 - d_loss_real: 0.0716 - g_loss: 4.7447\n",
      "Epoch 310/500\n",
      "\u001b[1m98/98\u001b[0m \u001b[32m━━━━━━━━━━━━━━━━━━━━\u001b[0m\u001b[37m\u001b[0m \u001b[1m2s\u001b[0m 21ms/step - d_loss: 0.1387 - d_loss_fake: 0.0507 - d_loss_real: 0.0880 - g_loss: 4.9582\n",
      "Epoch 311/500\n",
      "\u001b[1m98/98\u001b[0m \u001b[32m━━━━━━━━━━━━━━━━━━━━\u001b[0m\u001b[37m\u001b[0m \u001b[1m2s\u001b[0m 22ms/step - d_loss: 0.1295 - d_loss_fake: 0.0408 - d_loss_real: 0.0887 - g_loss: 5.0529\n",
      "Epoch 312/500\n",
      "\u001b[1m98/98\u001b[0m \u001b[32m━━━━━━━━━━━━━━━━━━━━\u001b[0m\u001b[37m\u001b[0m \u001b[1m2s\u001b[0m 21ms/step - d_loss: 0.1213 - d_loss_fake: 0.0403 - d_loss_real: 0.0810 - g_loss: 4.9249\n",
      "Epoch 313/500\n",
      "\u001b[1m98/98\u001b[0m \u001b[32m━━━━━━━━━━━━━━━━━━━━\u001b[0m\u001b[37m\u001b[0m \u001b[1m2s\u001b[0m 21ms/step - d_loss: 0.1042 - d_loss_fake: 0.0339 - d_loss_real: 0.0703 - g_loss: 4.7452\n",
      "Epoch 314/500\n",
      "\u001b[1m98/98\u001b[0m \u001b[32m━━━━━━━━━━━━━━━━━━━━\u001b[0m\u001b[37m\u001b[0m \u001b[1m2s\u001b[0m 21ms/step - d_loss: 0.1146 - d_loss_fake: 0.0365 - d_loss_real: 0.0781 - g_loss: 4.8551\n",
      "Epoch 315/500\n",
      "\u001b[1m98/98\u001b[0m \u001b[32m━━━━━━━━━━━━━━━━━━━━\u001b[0m\u001b[37m\u001b[0m \u001b[1m2s\u001b[0m 21ms/step - d_loss: 0.1234 - d_loss_fake: 0.0429 - d_loss_real: 0.0806 - g_loss: 4.8375\n",
      "Epoch 316/500\n",
      "\u001b[1m98/98\u001b[0m \u001b[32m━━━━━━━━━━━━━━━━━━━━\u001b[0m\u001b[37m\u001b[0m \u001b[1m2s\u001b[0m 22ms/step - d_loss: 0.1371 - d_loss_fake: 0.0496 - d_loss_real: 0.0875 - g_loss: 4.8169\n",
      "Epoch 317/500\n",
      "\u001b[1m98/98\u001b[0m \u001b[32m━━━━━━━━━━━━━━━━━━━━\u001b[0m\u001b[37m\u001b[0m \u001b[1m2s\u001b[0m 21ms/step - d_loss: 0.1300 - d_loss_fake: 0.0432 - d_loss_real: 0.0867 - g_loss: 5.1890\n",
      "Epoch 318/500\n",
      "\u001b[1m98/98\u001b[0m \u001b[32m━━━━━━━━━━━━━━━━━━━━\u001b[0m\u001b[37m\u001b[0m \u001b[1m2s\u001b[0m 21ms/step - d_loss: 0.1251 - d_loss_fake: 0.0393 - d_loss_real: 0.0858 - g_loss: 4.9534\n",
      "Epoch 319/500\n",
      "\u001b[1m98/98\u001b[0m \u001b[32m━━━━━━━━━━━━━━━━━━━━\u001b[0m\u001b[37m\u001b[0m \u001b[1m2s\u001b[0m 21ms/step - d_loss: 0.1307 - d_loss_fake: 0.0432 - d_loss_real: 0.0875 - g_loss: 5.2741\n",
      "Epoch 320/500\n",
      "\u001b[1m98/98\u001b[0m \u001b[32m━━━━━━━━━━━━━━━━━━━━\u001b[0m\u001b[37m\u001b[0m \u001b[1m2s\u001b[0m 21ms/step - d_loss: 0.1301 - d_loss_fake: 0.0455 - d_loss_real: 0.0846 - g_loss: 4.9400\n",
      "Epoch 321/500\n",
      "\u001b[1m98/98\u001b[0m \u001b[32m━━━━━━━━━━━━━━━━━━━━\u001b[0m\u001b[37m\u001b[0m \u001b[1m2s\u001b[0m 22ms/step - d_loss: 0.1272 - d_loss_fake: 0.0427 - d_loss_real: 0.0845 - g_loss: 5.0475\n",
      "Epoch 322/500\n",
      "\u001b[1m98/98\u001b[0m \u001b[32m━━━━━━━━━━━━━━━━━━━━\u001b[0m\u001b[37m\u001b[0m \u001b[1m2s\u001b[0m 21ms/step - d_loss: 0.1190 - d_loss_fake: 0.0384 - d_loss_real: 0.0805 - g_loss: 5.2241\n",
      "Epoch 323/500\n",
      "\u001b[1m98/98\u001b[0m \u001b[32m━━━━━━━━━━━━━━━━━━━━\u001b[0m\u001b[37m\u001b[0m \u001b[1m2s\u001b[0m 21ms/step - d_loss: 0.1093 - d_loss_fake: 0.0352 - d_loss_real: 0.0741 - g_loss: 4.8434\n",
      "Epoch 324/500\n",
      "\u001b[1m98/98\u001b[0m \u001b[32m━━━━━━━━━━━━━━━━━━━━\u001b[0m\u001b[37m\u001b[0m \u001b[1m2s\u001b[0m 21ms/step - d_loss: 0.1169 - d_loss_fake: 0.0375 - d_loss_real: 0.0793 - g_loss: 5.0105\n",
      "Epoch 325/500\n",
      "\u001b[1m98/98\u001b[0m \u001b[32m━━━━━━━━━━━━━━━━━━━━\u001b[0m\u001b[37m\u001b[0m \u001b[1m2s\u001b[0m 21ms/step - d_loss: 0.1141 - d_loss_fake: 0.0350 - d_loss_real: 0.0791 - g_loss: 5.1443\n",
      "Epoch 326/500\n",
      "\u001b[1m98/98\u001b[0m \u001b[32m━━━━━━━━━━━━━━━━━━━━\u001b[0m\u001b[37m\u001b[0m \u001b[1m2s\u001b[0m 22ms/step - d_loss: 0.1056 - d_loss_fake: 0.0335 - d_loss_real: 0.0721 - g_loss: 5.0592\n",
      "Epoch 327/500\n",
      "\u001b[1m98/98\u001b[0m \u001b[32m━━━━━━━━━━━━━━━━━━━━\u001b[0m\u001b[37m\u001b[0m \u001b[1m2s\u001b[0m 21ms/step - d_loss: 0.1080 - d_loss_fake: 0.0335 - d_loss_real: 0.0746 - g_loss: 5.1948\n",
      "Epoch 328/500\n",
      "\u001b[1m98/98\u001b[0m \u001b[32m━━━━━━━━━━━━━━━━━━━━\u001b[0m\u001b[37m\u001b[0m \u001b[1m2s\u001b[0m 21ms/step - d_loss: 0.1033 - d_loss_fake: 0.0308 - d_loss_real: 0.0725 - g_loss: 5.3270\n",
      "Epoch 329/500\n",
      "\u001b[1m98/98\u001b[0m \u001b[32m━━━━━━━━━━━━━━━━━━━━\u001b[0m\u001b[37m\u001b[0m \u001b[1m2s\u001b[0m 21ms/step - d_loss: 0.1034 - d_loss_fake: 0.0296 - d_loss_real: 0.0738 - g_loss: 5.0445\n",
      "Epoch 330/500\n",
      "\u001b[1m98/98\u001b[0m \u001b[32m━━━━━━━━━━━━━━━━━━━━\u001b[0m\u001b[37m\u001b[0m \u001b[1m2s\u001b[0m 21ms/step - d_loss: 0.1088 - d_loss_fake: 0.0349 - d_loss_real: 0.0739 - g_loss: 5.3135\n",
      "Epoch 331/500\n",
      "\u001b[1m98/98\u001b[0m \u001b[32m━━━━━━━━━━━━━━━━━━━━\u001b[0m\u001b[37m\u001b[0m \u001b[1m2s\u001b[0m 22ms/step - d_loss: 0.0975 - d_loss_fake: 0.0314 - d_loss_real: 0.0661 - g_loss: 5.0025\n",
      "Epoch 332/500\n",
      "\u001b[1m98/98\u001b[0m \u001b[32m━━━━━━━━━━━━━━━━━━━━\u001b[0m\u001b[37m\u001b[0m \u001b[1m2s\u001b[0m 21ms/step - d_loss: 0.0943 - d_loss_fake: 0.0301 - d_loss_real: 0.0641 - g_loss: 4.9489\n",
      "Epoch 333/500\n",
      "\u001b[1m98/98\u001b[0m \u001b[32m━━━━━━━━━━━━━━━━━━━━\u001b[0m\u001b[37m\u001b[0m \u001b[1m2s\u001b[0m 21ms/step - d_loss: 0.0997 - d_loss_fake: 0.0291 - d_loss_real: 0.0706 - g_loss: 5.2894\n",
      "Epoch 334/500\n",
      "\u001b[1m98/98\u001b[0m \u001b[32m━━━━━━━━━━━━━━━━━━━━\u001b[0m\u001b[37m\u001b[0m \u001b[1m2s\u001b[0m 21ms/step - d_loss: 0.1017 - d_loss_fake: 0.0317 - d_loss_real: 0.0700 - g_loss: 5.0452\n",
      "Epoch 335/500\n",
      "\u001b[1m98/98\u001b[0m \u001b[32m━━━━━━━━━━━━━━━━━━━━\u001b[0m\u001b[37m\u001b[0m \u001b[1m2s\u001b[0m 21ms/step - d_loss: 0.1011 - d_loss_fake: 0.0311 - d_loss_real: 0.0699 - g_loss: 5.1888\n",
      "Epoch 336/500\n",
      "\u001b[1m98/98\u001b[0m \u001b[32m━━━━━━━━━━━━━━━━━━━━\u001b[0m\u001b[37m\u001b[0m \u001b[1m2s\u001b[0m 22ms/step - d_loss: 0.0945 - d_loss_fake: 0.0287 - d_loss_real: 0.0658 - g_loss: 5.2776\n",
      "Epoch 337/500\n",
      "\u001b[1m98/98\u001b[0m \u001b[32m━━━━━━━━━━━━━━━━━━━━\u001b[0m\u001b[37m\u001b[0m \u001b[1m2s\u001b[0m 21ms/step - d_loss: 0.0934 - d_loss_fake: 0.0287 - d_loss_real: 0.0647 - g_loss: 5.0392\n",
      "Epoch 338/500\n",
      "\u001b[1m98/98\u001b[0m \u001b[32m━━━━━━━━━━━━━━━━━━━━\u001b[0m\u001b[37m\u001b[0m \u001b[1m2s\u001b[0m 21ms/step - d_loss: 0.1034 - d_loss_fake: 0.0316 - d_loss_real: 0.0717 - g_loss: 5.2995\n",
      "Epoch 339/500\n",
      "\u001b[1m98/98\u001b[0m \u001b[32m━━━━━━━━━━━━━━━━━━━━\u001b[0m\u001b[37m\u001b[0m \u001b[1m2s\u001b[0m 21ms/step - d_loss: 0.0993 - d_loss_fake: 0.0303 - d_loss_real: 0.0690 - g_loss: 5.3274\n",
      "Epoch 340/500\n",
      "\u001b[1m98/98\u001b[0m \u001b[32m━━━━━━━━━━━━━━━━━━━━\u001b[0m\u001b[37m\u001b[0m \u001b[1m2s\u001b[0m 21ms/step - d_loss: 0.1131 - d_loss_fake: 0.0366 - d_loss_real: 0.0765 - g_loss: 5.1558\n",
      "Epoch 341/500\n",
      "\u001b[1m98/98\u001b[0m \u001b[32m━━━━━━━━━━━━━━━━━━━━\u001b[0m\u001b[37m\u001b[0m \u001b[1m2s\u001b[0m 22ms/step - d_loss: 0.1515 - d_loss_fake: 0.0429 - d_loss_real: 0.1086 - g_loss: 5.3083\n",
      "Epoch 342/500\n",
      "\u001b[1m98/98\u001b[0m \u001b[32m━━━━━━━━━━━━━━━━━━━━\u001b[0m\u001b[37m\u001b[0m \u001b[1m2s\u001b[0m 21ms/step - d_loss: 0.1132 - d_loss_fake: 0.0333 - d_loss_real: 0.0799 - g_loss: 5.1847\n",
      "Epoch 343/500\n",
      "\u001b[1m98/98\u001b[0m \u001b[32m━━━━━━━━━━━━━━━━━━━━\u001b[0m\u001b[37m\u001b[0m \u001b[1m2s\u001b[0m 21ms/step - d_loss: 0.0900 - d_loss_fake: 0.0259 - d_loss_real: 0.0641 - g_loss: 5.5777\n",
      "Epoch 344/500\n",
      "\u001b[1m98/98\u001b[0m \u001b[32m━━━━━━━━━━━━━━━━━━━━\u001b[0m\u001b[37m\u001b[0m \u001b[1m2s\u001b[0m 21ms/step - d_loss: 0.0985 - d_loss_fake: 0.0324 - d_loss_real: 0.0661 - g_loss: 5.4201\n",
      "Epoch 345/500\n",
      "\u001b[1m98/98\u001b[0m \u001b[32m━━━━━━━━━━━━━━━━━━━━\u001b[0m\u001b[37m\u001b[0m \u001b[1m2s\u001b[0m 21ms/step - d_loss: 0.1018 - d_loss_fake: 0.0319 - d_loss_real: 0.0700 - g_loss: 5.6651\n",
      "Epoch 346/500\n",
      "\u001b[1m98/98\u001b[0m \u001b[32m━━━━━━━━━━━━━━━━━━━━\u001b[0m\u001b[37m\u001b[0m \u001b[1m2s\u001b[0m 22ms/step - d_loss: 0.1013 - d_loss_fake: 0.0314 - d_loss_real: 0.0698 - g_loss: 5.3883\n",
      "Epoch 347/500\n",
      "\u001b[1m98/98\u001b[0m \u001b[32m━━━━━━━━━━━━━━━━━━━━\u001b[0m\u001b[37m\u001b[0m \u001b[1m2s\u001b[0m 21ms/step - d_loss: 0.1000 - d_loss_fake: 0.0313 - d_loss_real: 0.0688 - g_loss: 5.3297\n",
      "Epoch 348/500\n",
      "\u001b[1m98/98\u001b[0m \u001b[32m━━━━━━━━━━━━━━━━━━━━\u001b[0m\u001b[37m\u001b[0m \u001b[1m2s\u001b[0m 21ms/step - d_loss: 0.0964 - d_loss_fake: 0.0278 - d_loss_real: 0.0686 - g_loss: 5.1040\n",
      "Epoch 349/500\n",
      "\u001b[1m98/98\u001b[0m \u001b[32m━━━━━━━━━━━━━━━━━━━━\u001b[0m\u001b[37m\u001b[0m \u001b[1m2s\u001b[0m 21ms/step - d_loss: 0.1287 - d_loss_fake: 0.0363 - d_loss_real: 0.0924 - g_loss: 5.3679\n",
      "Epoch 350/500\n",
      "\u001b[1m98/98\u001b[0m \u001b[32m━━━━━━━━━━━━━━━━━━━━\u001b[0m\u001b[37m\u001b[0m \u001b[1m2s\u001b[0m 21ms/step - d_loss: 0.1696 - d_loss_fake: 0.0458 - d_loss_real: 0.1238 - g_loss: 5.3243\n",
      "Epoch 351/500\n",
      "\u001b[1m98/98\u001b[0m \u001b[32m━━━━━━━━━━━━━━━━━━━━\u001b[0m\u001b[37m\u001b[0m \u001b[1m2s\u001b[0m 22ms/step - d_loss: 0.0946 - d_loss_fake: 0.0288 - d_loss_real: 0.0659 - g_loss: 5.0455\n",
      "Epoch 352/500\n",
      "\u001b[1m98/98\u001b[0m \u001b[32m━━━━━━━━━━━━━━━━━━━━\u001b[0m\u001b[37m\u001b[0m \u001b[1m2s\u001b[0m 21ms/step - d_loss: 0.1104 - d_loss_fake: 0.0321 - d_loss_real: 0.0783 - g_loss: 5.6267\n",
      "Epoch 353/500\n",
      "\u001b[1m98/98\u001b[0m \u001b[32m━━━━━━━━━━━━━━━━━━━━\u001b[0m\u001b[37m\u001b[0m \u001b[1m2s\u001b[0m 21ms/step - d_loss: 0.1044 - d_loss_fake: 0.0318 - d_loss_real: 0.0727 - g_loss: 5.3843\n",
      "Epoch 354/500\n",
      "\u001b[1m98/98\u001b[0m \u001b[32m━━━━━━━━━━━━━━━━━━━━\u001b[0m\u001b[37m\u001b[0m \u001b[1m2s\u001b[0m 21ms/step - d_loss: 0.1046 - d_loss_fake: 0.0296 - d_loss_real: 0.0750 - g_loss: 5.5784\n",
      "Epoch 355/500\n",
      "\u001b[1m98/98\u001b[0m \u001b[32m━━━━━━━━━━━━━━━━━━━━\u001b[0m\u001b[37m\u001b[0m \u001b[1m2s\u001b[0m 21ms/step - d_loss: 0.1052 - d_loss_fake: 0.0320 - d_loss_real: 0.0732 - g_loss: 5.4777\n",
      "Epoch 356/500\n",
      "\u001b[1m98/98\u001b[0m \u001b[32m━━━━━━━━━━━━━━━━━━━━\u001b[0m\u001b[37m\u001b[0m \u001b[1m2s\u001b[0m 22ms/step - d_loss: 0.1081 - d_loss_fake: 0.0322 - d_loss_real: 0.0759 - g_loss: 5.1531\n",
      "Epoch 357/500\n",
      "\u001b[1m98/98\u001b[0m \u001b[32m━━━━━━━━━━━━━━━━━━━━\u001b[0m\u001b[37m\u001b[0m \u001b[1m2s\u001b[0m 21ms/step - d_loss: 0.1072 - d_loss_fake: 0.0313 - d_loss_real: 0.0759 - g_loss: 5.5199\n",
      "Epoch 358/500\n",
      "\u001b[1m98/98\u001b[0m \u001b[32m━━━━━━━━━━━━━━━━━━━━\u001b[0m\u001b[37m\u001b[0m \u001b[1m2s\u001b[0m 21ms/step - d_loss: 0.1096 - d_loss_fake: 0.0353 - d_loss_real: 0.0743 - g_loss: 5.4700\n",
      "Epoch 359/500\n",
      "\u001b[1m98/98\u001b[0m \u001b[32m━━━━━━━━━━━━━━━━━━━━\u001b[0m\u001b[37m\u001b[0m \u001b[1m2s\u001b[0m 21ms/step - d_loss: 0.0965 - d_loss_fake: 0.0258 - d_loss_real: 0.0707 - g_loss: 5.2438\n",
      "Epoch 360/500\n",
      "\u001b[1m98/98\u001b[0m \u001b[32m━━━━━━━━━━━━━━━━━━━━\u001b[0m\u001b[37m\u001b[0m \u001b[1m2s\u001b[0m 21ms/step - d_loss: 0.1116 - d_loss_fake: 0.0341 - d_loss_real: 0.0775 - g_loss: 5.4780\n",
      "Epoch 361/500\n",
      "\u001b[1m98/98\u001b[0m \u001b[32m━━━━━━━━━━━━━━━━━━━━\u001b[0m\u001b[37m\u001b[0m \u001b[1m2s\u001b[0m 22ms/step - d_loss: 0.1060 - d_loss_fake: 0.0300 - d_loss_real: 0.0760 - g_loss: 5.5393\n",
      "Epoch 362/500\n",
      "\u001b[1m98/98\u001b[0m \u001b[32m━━━━━━━━━━━━━━━━━━━━\u001b[0m\u001b[37m\u001b[0m \u001b[1m2s\u001b[0m 21ms/step - d_loss: 0.1161 - d_loss_fake: 0.0324 - d_loss_real: 0.0837 - g_loss: 5.3486\n",
      "Epoch 363/500\n",
      "\u001b[1m98/98\u001b[0m \u001b[32m━━━━━━━━━━━━━━━━━━━━\u001b[0m\u001b[37m\u001b[0m \u001b[1m2s\u001b[0m 21ms/step - d_loss: 0.1035 - d_loss_fake: 0.0295 - d_loss_real: 0.0740 - g_loss: 5.5062\n",
      "Epoch 364/500\n",
      "\u001b[1m98/98\u001b[0m \u001b[32m━━━━━━━━━━━━━━━━━━━━\u001b[0m\u001b[37m\u001b[0m \u001b[1m2s\u001b[0m 21ms/step - d_loss: 0.1014 - d_loss_fake: 0.0301 - d_loss_real: 0.0712 - g_loss: 5.4930\n",
      "Epoch 365/500\n",
      "\u001b[1m98/98\u001b[0m \u001b[32m━━━━━━━━━━━━━━━━━━━━\u001b[0m\u001b[37m\u001b[0m \u001b[1m2s\u001b[0m 21ms/step - d_loss: 0.1013 - d_loss_fake: 0.0294 - d_loss_real: 0.0720 - g_loss: 5.5078\n",
      "Epoch 366/500\n",
      "\u001b[1m98/98\u001b[0m \u001b[32m━━━━━━━━━━━━━━━━━━━━\u001b[0m\u001b[37m\u001b[0m \u001b[1m2s\u001b[0m 22ms/step - d_loss: 0.0914 - d_loss_fake: 0.0257 - d_loss_real: 0.0657 - g_loss: 5.1232\n",
      "Epoch 367/500\n",
      "\u001b[1m98/98\u001b[0m \u001b[32m━━━━━━━━━━━━━━━━━━━━\u001b[0m\u001b[37m\u001b[0m \u001b[1m2s\u001b[0m 21ms/step - d_loss: 0.1047 - d_loss_fake: 0.0319 - d_loss_real: 0.0728 - g_loss: 5.1722\n",
      "Epoch 368/500\n",
      "\u001b[1m98/98\u001b[0m \u001b[32m━━━━━━━━━━━━━━━━━━━━\u001b[0m\u001b[37m\u001b[0m \u001b[1m2s\u001b[0m 21ms/step - d_loss: 0.0924 - d_loss_fake: 0.0280 - d_loss_real: 0.0644 - g_loss: 5.4290\n",
      "Epoch 369/500\n",
      "\u001b[1m98/98\u001b[0m \u001b[32m━━━━━━━━━━━━━━━━━━━━\u001b[0m\u001b[37m\u001b[0m \u001b[1m2s\u001b[0m 21ms/step - d_loss: 0.1044 - d_loss_fake: 0.0316 - d_loss_real: 0.0728 - g_loss: 5.4836\n",
      "Epoch 370/500\n",
      "\u001b[1m98/98\u001b[0m \u001b[32m━━━━━━━━━━━━━━━━━━━━\u001b[0m\u001b[37m\u001b[0m \u001b[1m2s\u001b[0m 21ms/step - d_loss: 0.1071 - d_loss_fake: 0.0301 - d_loss_real: 0.0770 - g_loss: 5.5911\n",
      "Epoch 371/500\n",
      "\u001b[1m98/98\u001b[0m \u001b[32m━━━━━━━━━━━━━━━━━━━━\u001b[0m\u001b[37m\u001b[0m \u001b[1m2s\u001b[0m 22ms/step - d_loss: 0.1025 - d_loss_fake: 0.0283 - d_loss_real: 0.0742 - g_loss: 5.7107\n",
      "Epoch 372/500\n",
      "\u001b[1m98/98\u001b[0m \u001b[32m━━━━━━━━━━━━━━━━━━━━\u001b[0m\u001b[37m\u001b[0m \u001b[1m2s\u001b[0m 21ms/step - d_loss: 0.1030 - d_loss_fake: 0.0280 - d_loss_real: 0.0750 - g_loss: 5.2016\n",
      "Epoch 373/500\n",
      "\u001b[1m98/98\u001b[0m \u001b[32m━━━━━━━━━━━━━━━━━━━━\u001b[0m\u001b[37m\u001b[0m \u001b[1m2s\u001b[0m 21ms/step - d_loss: 0.1194 - d_loss_fake: 0.0373 - d_loss_real: 0.0820 - g_loss: 5.5099\n",
      "Epoch 374/500\n",
      "\u001b[1m98/98\u001b[0m \u001b[32m━━━━━━━━━━━━━━━━━━━━\u001b[0m\u001b[37m\u001b[0m \u001b[1m2s\u001b[0m 21ms/step - d_loss: 0.0980 - d_loss_fake: 0.0293 - d_loss_real: 0.0687 - g_loss: 5.5882\n",
      "Epoch 375/500\n",
      "\u001b[1m98/98\u001b[0m \u001b[32m━━━━━━━━━━━━━━━━━━━━\u001b[0m\u001b[37m\u001b[0m \u001b[1m2s\u001b[0m 21ms/step - d_loss: 0.1105 - d_loss_fake: 0.0334 - d_loss_real: 0.0770 - g_loss: 5.6826\n",
      "Epoch 376/500\n",
      "\u001b[1m98/98\u001b[0m \u001b[32m━━━━━━━━━━━━━━━━━━━━\u001b[0m\u001b[37m\u001b[0m \u001b[1m2s\u001b[0m 22ms/step - d_loss: 0.0954 - d_loss_fake: 0.0253 - d_loss_real: 0.0701 - g_loss: 5.5856\n",
      "Epoch 377/500\n",
      "\u001b[1m98/98\u001b[0m \u001b[32m━━━━━━━━━━━━━━━━━━━━\u001b[0m\u001b[37m\u001b[0m \u001b[1m2s\u001b[0m 21ms/step - d_loss: 0.0882 - d_loss_fake: 0.0247 - d_loss_real: 0.0635 - g_loss: 5.6629\n",
      "Epoch 378/500\n",
      "\u001b[1m98/98\u001b[0m \u001b[32m━━━━━━━━━━━━━━━━━━━━\u001b[0m\u001b[37m\u001b[0m \u001b[1m2s\u001b[0m 21ms/step - d_loss: 0.0874 - d_loss_fake: 0.0247 - d_loss_real: 0.0627 - g_loss: 5.4669\n",
      "Epoch 379/500\n",
      "\u001b[1m98/98\u001b[0m \u001b[32m━━━━━━━━━━━━━━━━━━━━\u001b[0m\u001b[37m\u001b[0m \u001b[1m2s\u001b[0m 21ms/step - d_loss: 0.0952 - d_loss_fake: 0.0273 - d_loss_real: 0.0679 - g_loss: 5.3269\n",
      "Epoch 380/500\n",
      "\u001b[1m98/98\u001b[0m \u001b[32m━━━━━━━━━━━━━━━━━━━━\u001b[0m\u001b[37m\u001b[0m \u001b[1m2s\u001b[0m 21ms/step - d_loss: 0.1028 - d_loss_fake: 0.0299 - d_loss_real: 0.0729 - g_loss: 5.6426\n",
      "Epoch 381/500\n",
      "\u001b[1m98/98\u001b[0m \u001b[32m━━━━━━━━━━━━━━━━━━━━\u001b[0m\u001b[37m\u001b[0m \u001b[1m2s\u001b[0m 22ms/step - d_loss: 0.1193 - d_loss_fake: 0.0347 - d_loss_real: 0.0846 - g_loss: 5.8248\n",
      "Epoch 382/500\n",
      "\u001b[1m98/98\u001b[0m \u001b[32m━━━━━━━━━━━━━━━━━━━━\u001b[0m\u001b[37m\u001b[0m \u001b[1m2s\u001b[0m 21ms/step - d_loss: 0.1017 - d_loss_fake: 0.0304 - d_loss_real: 0.0712 - g_loss: 5.8890\n",
      "Epoch 383/500\n",
      "\u001b[1m98/98\u001b[0m \u001b[32m━━━━━━━━━━━━━━━━━━━━\u001b[0m\u001b[37m\u001b[0m \u001b[1m2s\u001b[0m 21ms/step - d_loss: 0.1005 - d_loss_fake: 0.0304 - d_loss_real: 0.0701 - g_loss: 5.5827\n",
      "Epoch 384/500\n",
      "\u001b[1m98/98\u001b[0m \u001b[32m━━━━━━━━━━━━━━━━━━━━\u001b[0m\u001b[37m\u001b[0m \u001b[1m2s\u001b[0m 21ms/step - d_loss: 0.1020 - d_loss_fake: 0.0302 - d_loss_real: 0.0718 - g_loss: 5.3712\n",
      "Epoch 385/500\n",
      "\u001b[1m98/98\u001b[0m \u001b[32m━━━━━━━━━━━━━━━━━━━━\u001b[0m\u001b[37m\u001b[0m \u001b[1m2s\u001b[0m 21ms/step - d_loss: 0.0998 - d_loss_fake: 0.0290 - d_loss_real: 0.0708 - g_loss: 5.5309\n",
      "Epoch 386/500\n",
      "\u001b[1m98/98\u001b[0m \u001b[32m━━━━━━━━━━━━━━━━━━━━\u001b[0m\u001b[37m\u001b[0m \u001b[1m2s\u001b[0m 22ms/step - d_loss: 0.1159 - d_loss_fake: 0.0387 - d_loss_real: 0.0772 - g_loss: 5.3351\n",
      "Epoch 387/500\n",
      "\u001b[1m98/98\u001b[0m \u001b[32m━━━━━━━━━━━━━━━━━━━━\u001b[0m\u001b[37m\u001b[0m \u001b[1m2s\u001b[0m 21ms/step - d_loss: 0.1045 - d_loss_fake: 0.0314 - d_loss_real: 0.0730 - g_loss: 5.7508\n",
      "Epoch 388/500\n",
      "\u001b[1m98/98\u001b[0m \u001b[32m━━━━━━━━━━━━━━━━━━━━\u001b[0m\u001b[37m\u001b[0m \u001b[1m2s\u001b[0m 21ms/step - d_loss: 0.0996 - d_loss_fake: 0.0287 - d_loss_real: 0.0710 - g_loss: 5.6103\n",
      "Epoch 389/500\n",
      "\u001b[1m98/98\u001b[0m \u001b[32m━━━━━━━━━━━━━━━━━━━━\u001b[0m\u001b[37m\u001b[0m \u001b[1m2s\u001b[0m 21ms/step - d_loss: 0.0976 - d_loss_fake: 0.0292 - d_loss_real: 0.0684 - g_loss: 5.4674\n",
      "Epoch 390/500\n",
      "\u001b[1m98/98\u001b[0m \u001b[32m━━━━━━━━━━━━━━━━━━━━\u001b[0m\u001b[37m\u001b[0m \u001b[1m2s\u001b[0m 21ms/step - d_loss: 0.1052 - d_loss_fake: 0.0316 - d_loss_real: 0.0736 - g_loss: 5.7846\n",
      "Epoch 391/500\n",
      "\u001b[1m98/98\u001b[0m \u001b[32m━━━━━━━━━━━━━━━━━━━━\u001b[0m\u001b[37m\u001b[0m \u001b[1m2s\u001b[0m 22ms/step - d_loss: 0.1041 - d_loss_fake: 0.0306 - d_loss_real: 0.0735 - g_loss: 5.4765\n",
      "Epoch 392/500\n",
      "\u001b[1m98/98\u001b[0m \u001b[32m━━━━━━━━━━━━━━━━━━━━\u001b[0m\u001b[37m\u001b[0m \u001b[1m2s\u001b[0m 21ms/step - d_loss: 0.1023 - d_loss_fake: 0.0290 - d_loss_real: 0.0733 - g_loss: 5.5490\n",
      "Epoch 393/500\n",
      "\u001b[1m98/98\u001b[0m \u001b[32m━━━━━━━━━━━━━━━━━━━━\u001b[0m\u001b[37m\u001b[0m \u001b[1m2s\u001b[0m 21ms/step - d_loss: 0.1218 - d_loss_fake: 0.0369 - d_loss_real: 0.0850 - g_loss: 5.6173\n",
      "Epoch 394/500\n",
      "\u001b[1m98/98\u001b[0m \u001b[32m━━━━━━━━━━━━━━━━━━━━\u001b[0m\u001b[37m\u001b[0m \u001b[1m2s\u001b[0m 21ms/step - d_loss: 0.1102 - d_loss_fake: 0.0320 - d_loss_real: 0.0782 - g_loss: 5.6054\n",
      "Epoch 395/500\n",
      "\u001b[1m98/98\u001b[0m \u001b[32m━━━━━━━━━━━━━━━━━━━━\u001b[0m\u001b[37m\u001b[0m \u001b[1m2s\u001b[0m 21ms/step - d_loss: 0.0973 - d_loss_fake: 0.0279 - d_loss_real: 0.0695 - g_loss: 5.5305\n",
      "Epoch 396/500\n",
      "\u001b[1m98/98\u001b[0m \u001b[32m━━━━━━━━━━━━━━━━━━━━\u001b[0m\u001b[37m\u001b[0m \u001b[1m2s\u001b[0m 22ms/step - d_loss: 0.1014 - d_loss_fake: 0.0313 - d_loss_real: 0.0701 - g_loss: 5.6012\n",
      "Epoch 397/500\n",
      "\u001b[1m98/98\u001b[0m \u001b[32m━━━━━━━━━━━━━━━━━━━━\u001b[0m\u001b[37m\u001b[0m \u001b[1m2s\u001b[0m 21ms/step - d_loss: 0.0975 - d_loss_fake: 0.0305 - d_loss_real: 0.0669 - g_loss: 5.7146\n",
      "Epoch 398/500\n",
      "\u001b[1m98/98\u001b[0m \u001b[32m━━━━━━━━━━━━━━━━━━━━\u001b[0m\u001b[37m\u001b[0m \u001b[1m2s\u001b[0m 21ms/step - d_loss: 0.1036 - d_loss_fake: 0.0305 - d_loss_real: 0.0731 - g_loss: 5.6598\n",
      "Epoch 399/500\n",
      "\u001b[1m98/98\u001b[0m \u001b[32m━━━━━━━━━━━━━━━━━━━━\u001b[0m\u001b[37m\u001b[0m \u001b[1m2s\u001b[0m 21ms/step - d_loss: 0.1000 - d_loss_fake: 0.0285 - d_loss_real: 0.0716 - g_loss: 5.5593\n",
      "Epoch 400/500\n",
      "\u001b[1m98/98\u001b[0m \u001b[32m━━━━━━━━━━━━━━━━━━━━\u001b[0m\u001b[37m\u001b[0m \u001b[1m2s\u001b[0m 21ms/step - d_loss: 0.1102 - d_loss_fake: 0.0323 - d_loss_real: 0.0779 - g_loss: 5.7396\n",
      "Epoch 401/500\n",
      "\u001b[1m98/98\u001b[0m \u001b[32m━━━━━━━━━━━━━━━━━━━━\u001b[0m\u001b[37m\u001b[0m \u001b[1m2s\u001b[0m 22ms/step - d_loss: 0.1109 - d_loss_fake: 0.0338 - d_loss_real: 0.0771 - g_loss: 5.6399\n",
      "Epoch 402/500\n",
      "\u001b[1m98/98\u001b[0m \u001b[32m━━━━━━━━━━━━━━━━━━━━\u001b[0m\u001b[37m\u001b[0m \u001b[1m2s\u001b[0m 21ms/step - d_loss: 0.1278 - d_loss_fake: 0.0385 - d_loss_real: 0.0893 - g_loss: 5.5342\n",
      "Epoch 403/500\n",
      "\u001b[1m98/98\u001b[0m \u001b[32m━━━━━━━━━━━━━━━━━━━━\u001b[0m\u001b[37m\u001b[0m \u001b[1m2s\u001b[0m 21ms/step - d_loss: 0.0932 - d_loss_fake: 0.0234 - d_loss_real: 0.0698 - g_loss: 5.6207\n",
      "Epoch 404/500\n",
      "\u001b[1m98/98\u001b[0m \u001b[32m━━━━━━━━━━━━━━━━━━━━\u001b[0m\u001b[37m\u001b[0m \u001b[1m2s\u001b[0m 21ms/step - d_loss: 0.0966 - d_loss_fake: 0.0262 - d_loss_real: 0.0704 - g_loss: 5.5080\n",
      "Epoch 405/500\n",
      "\u001b[1m98/98\u001b[0m \u001b[32m━━━━━━━━━━━━━━━━━━━━\u001b[0m\u001b[37m\u001b[0m \u001b[1m2s\u001b[0m 21ms/step - d_loss: 0.1145 - d_loss_fake: 0.0338 - d_loss_real: 0.0807 - g_loss: 5.7490\n",
      "Epoch 406/500\n",
      "\u001b[1m98/98\u001b[0m \u001b[32m━━━━━━━━━━━━━━━━━━━━\u001b[0m\u001b[37m\u001b[0m \u001b[1m2s\u001b[0m 22ms/step - d_loss: 0.1012 - d_loss_fake: 0.0297 - d_loss_real: 0.0715 - g_loss: 5.6987\n",
      "Epoch 407/500\n",
      "\u001b[1m98/98\u001b[0m \u001b[32m━━━━━━━━━━━━━━━━━━━━\u001b[0m\u001b[37m\u001b[0m \u001b[1m2s\u001b[0m 21ms/step - d_loss: 0.1248 - d_loss_fake: 0.0355 - d_loss_real: 0.0892 - g_loss: 5.7151\n",
      "Epoch 408/500\n",
      "\u001b[1m98/98\u001b[0m \u001b[32m━━━━━━━━━━━━━━━━━━━━\u001b[0m\u001b[37m\u001b[0m \u001b[1m2s\u001b[0m 21ms/step - d_loss: 0.1073 - d_loss_fake: 0.0311 - d_loss_real: 0.0762 - g_loss: 5.9414\n",
      "Epoch 409/500\n",
      "\u001b[1m98/98\u001b[0m \u001b[32m━━━━━━━━━━━━━━━━━━━━\u001b[0m\u001b[37m\u001b[0m \u001b[1m2s\u001b[0m 21ms/step - d_loss: 0.0998 - d_loss_fake: 0.0271 - d_loss_real: 0.0727 - g_loss: 5.4839\n",
      "Epoch 410/500\n",
      "\u001b[1m98/98\u001b[0m \u001b[32m━━━━━━━━━━━━━━━━━━━━\u001b[0m\u001b[37m\u001b[0m \u001b[1m2s\u001b[0m 21ms/step - d_loss: 0.1024 - d_loss_fake: 0.0289 - d_loss_real: 0.0735 - g_loss: 5.8914\n",
      "Epoch 411/500\n",
      "\u001b[1m98/98\u001b[0m \u001b[32m━━━━━━━━━━━━━━━━━━━━\u001b[0m\u001b[37m\u001b[0m \u001b[1m2s\u001b[0m 22ms/step - d_loss: 0.1062 - d_loss_fake: 0.0308 - d_loss_real: 0.0754 - g_loss: 5.8012\n",
      "Epoch 412/500\n",
      "\u001b[1m98/98\u001b[0m \u001b[32m━━━━━━━━━━━━━━━━━━━━\u001b[0m\u001b[37m\u001b[0m \u001b[1m2s\u001b[0m 21ms/step - d_loss: 0.1111 - d_loss_fake: 0.0329 - d_loss_real: 0.0783 - g_loss: 5.6796\n",
      "Epoch 413/500\n",
      "\u001b[1m98/98\u001b[0m \u001b[32m━━━━━━━━━━━━━━━━━━━━\u001b[0m\u001b[37m\u001b[0m \u001b[1m2s\u001b[0m 21ms/step - d_loss: 0.1121 - d_loss_fake: 0.0344 - d_loss_real: 0.0777 - g_loss: 5.7540\n",
      "Epoch 414/500\n",
      "\u001b[1m98/98\u001b[0m \u001b[32m━━━━━━━━━━━━━━━━━━━━\u001b[0m\u001b[37m\u001b[0m \u001b[1m2s\u001b[0m 21ms/step - d_loss: 0.0984 - d_loss_fake: 0.0259 - d_loss_real: 0.0725 - g_loss: 5.7914\n",
      "Epoch 415/500\n",
      "\u001b[1m98/98\u001b[0m \u001b[32m━━━━━━━━━━━━━━━━━━━━\u001b[0m\u001b[37m\u001b[0m \u001b[1m2s\u001b[0m 21ms/step - d_loss: 0.0950 - d_loss_fake: 0.0287 - d_loss_real: 0.0663 - g_loss: 5.4975\n",
      "Epoch 416/500\n",
      "\u001b[1m98/98\u001b[0m \u001b[32m━━━━━━━━━━━━━━━━━━━━\u001b[0m\u001b[37m\u001b[0m \u001b[1m2s\u001b[0m 22ms/step - d_loss: 0.0972 - d_loss_fake: 0.0284 - d_loss_real: 0.0687 - g_loss: 5.7976\n",
      "Epoch 417/500\n",
      "\u001b[1m98/98\u001b[0m \u001b[32m━━━━━━━━━━━━━━━━━━━━\u001b[0m\u001b[37m\u001b[0m \u001b[1m2s\u001b[0m 21ms/step - d_loss: 0.1028 - d_loss_fake: 0.0318 - d_loss_real: 0.0709 - g_loss: 5.7203\n",
      "Epoch 418/500\n",
      "\u001b[1m98/98\u001b[0m \u001b[32m━━━━━━━━━━━━━━━━━━━━\u001b[0m\u001b[37m\u001b[0m \u001b[1m2s\u001b[0m 21ms/step - d_loss: 0.0957 - d_loss_fake: 0.0265 - d_loss_real: 0.0692 - g_loss: 5.7831\n",
      "Epoch 419/500\n",
      "\u001b[1m98/98\u001b[0m \u001b[32m━━━━━━━━━━━━━━━━━━━━\u001b[0m\u001b[37m\u001b[0m \u001b[1m2s\u001b[0m 21ms/step - d_loss: 0.1043 - d_loss_fake: 0.0279 - d_loss_real: 0.0764 - g_loss: 5.6051\n",
      "Epoch 420/500\n",
      "\u001b[1m98/98\u001b[0m \u001b[32m━━━━━━━━━━━━━━━━━━━━\u001b[0m\u001b[37m\u001b[0m \u001b[1m2s\u001b[0m 21ms/step - d_loss: 0.0995 - d_loss_fake: 0.0311 - d_loss_real: 0.0683 - g_loss: 5.7162\n",
      "Epoch 421/500\n",
      "\u001b[1m98/98\u001b[0m \u001b[32m━━━━━━━━━━━━━━━━━━━━\u001b[0m\u001b[37m\u001b[0m \u001b[1m2s\u001b[0m 22ms/step - d_loss: 0.1055 - d_loss_fake: 0.0304 - d_loss_real: 0.0751 - g_loss: 5.9586\n",
      "Epoch 422/500\n",
      "\u001b[1m98/98\u001b[0m \u001b[32m━━━━━━━━━━━━━━━━━━━━\u001b[0m\u001b[37m\u001b[0m \u001b[1m2s\u001b[0m 21ms/step - d_loss: 0.0959 - d_loss_fake: 0.0284 - d_loss_real: 0.0675 - g_loss: 5.4611\n",
      "Epoch 423/500\n",
      "\u001b[1m98/98\u001b[0m \u001b[32m━━━━━━━━━━━━━━━━━━━━\u001b[0m\u001b[37m\u001b[0m \u001b[1m2s\u001b[0m 21ms/step - d_loss: 0.1019 - d_loss_fake: 0.0294 - d_loss_real: 0.0726 - g_loss: 5.5961\n",
      "Epoch 424/500\n",
      "\u001b[1m98/98\u001b[0m \u001b[32m━━━━━━━━━━━━━━━━━━━━\u001b[0m\u001b[37m\u001b[0m \u001b[1m2s\u001b[0m 21ms/step - d_loss: 0.1045 - d_loss_fake: 0.0274 - d_loss_real: 0.0772 - g_loss: 5.9064\n",
      "Epoch 425/500\n",
      "\u001b[1m98/98\u001b[0m \u001b[32m━━━━━━━━━━━━━━━━━━━━\u001b[0m\u001b[37m\u001b[0m \u001b[1m2s\u001b[0m 21ms/step - d_loss: 0.0984 - d_loss_fake: 0.0257 - d_loss_real: 0.0727 - g_loss: 5.8548\n",
      "Epoch 426/500\n",
      "\u001b[1m98/98\u001b[0m \u001b[32m━━━━━━━━━━━━━━━━━━━━\u001b[0m\u001b[37m\u001b[0m \u001b[1m2s\u001b[0m 22ms/step - d_loss: 0.1013 - d_loss_fake: 0.0304 - d_loss_real: 0.0710 - g_loss: 5.9603\n",
      "Epoch 427/500\n",
      "\u001b[1m98/98\u001b[0m \u001b[32m━━━━━━━━━━━━━━━━━━━━\u001b[0m\u001b[37m\u001b[0m \u001b[1m2s\u001b[0m 21ms/step - d_loss: 0.1069 - d_loss_fake: 0.0310 - d_loss_real: 0.0759 - g_loss: 6.0266\n",
      "Epoch 428/500\n",
      "\u001b[1m98/98\u001b[0m \u001b[32m━━━━━━━━━━━━━━━━━━━━\u001b[0m\u001b[37m\u001b[0m \u001b[1m2s\u001b[0m 21ms/step - d_loss: 0.0938 - d_loss_fake: 0.0264 - d_loss_real: 0.0674 - g_loss: 5.6306\n",
      "Epoch 429/500\n",
      "\u001b[1m98/98\u001b[0m \u001b[32m━━━━━━━━━━━━━━━━━━━━\u001b[0m\u001b[37m\u001b[0m \u001b[1m2s\u001b[0m 21ms/step - d_loss: 0.1020 - d_loss_fake: 0.0278 - d_loss_real: 0.0741 - g_loss: 5.7158\n",
      "Epoch 430/500\n",
      "\u001b[1m98/98\u001b[0m \u001b[32m━━━━━━━━━━━━━━━━━━━━\u001b[0m\u001b[37m\u001b[0m \u001b[1m2s\u001b[0m 21ms/step - d_loss: 0.0884 - d_loss_fake: 0.0247 - d_loss_real: 0.0637 - g_loss: 5.8038\n",
      "Epoch 431/500\n",
      "\u001b[1m98/98\u001b[0m \u001b[32m━━━━━━━━━━━━━━━━━━━━\u001b[0m\u001b[37m\u001b[0m \u001b[1m2s\u001b[0m 22ms/step - d_loss: 0.0952 - d_loss_fake: 0.0265 - d_loss_real: 0.0688 - g_loss: 5.9635\n",
      "Epoch 432/500\n",
      "\u001b[1m98/98\u001b[0m \u001b[32m━━━━━━━━━━━━━━━━━━━━\u001b[0m\u001b[37m\u001b[0m \u001b[1m2s\u001b[0m 21ms/step - d_loss: 0.1028 - d_loss_fake: 0.0318 - d_loss_real: 0.0710 - g_loss: 5.7650\n",
      "Epoch 433/500\n",
      "\u001b[1m98/98\u001b[0m \u001b[32m━━━━━━━━━━━━━━━━━━━━\u001b[0m\u001b[37m\u001b[0m \u001b[1m2s\u001b[0m 21ms/step - d_loss: 0.0903 - d_loss_fake: 0.0253 - d_loss_real: 0.0650 - g_loss: 5.6634\n",
      "Epoch 434/500\n",
      "\u001b[1m98/98\u001b[0m \u001b[32m━━━━━━━━━━━━━━━━━━━━\u001b[0m\u001b[37m\u001b[0m \u001b[1m2s\u001b[0m 21ms/step - d_loss: 0.1215 - d_loss_fake: 0.0374 - d_loss_real: 0.0840 - g_loss: 5.9236\n",
      "Epoch 435/500\n",
      "\u001b[1m98/98\u001b[0m \u001b[32m━━━━━━━━━━━━━━━━━━━━\u001b[0m\u001b[37m\u001b[0m \u001b[1m2s\u001b[0m 21ms/step - d_loss: 0.1012 - d_loss_fake: 0.0284 - d_loss_real: 0.0728 - g_loss: 5.5770\n",
      "Epoch 436/500\n",
      "\u001b[1m98/98\u001b[0m \u001b[32m━━━━━━━━━━━━━━━━━━━━\u001b[0m\u001b[37m\u001b[0m \u001b[1m2s\u001b[0m 22ms/step - d_loss: 0.0964 - d_loss_fake: 0.0289 - d_loss_real: 0.0675 - g_loss: 6.0287\n",
      "Epoch 437/500\n",
      "\u001b[1m98/98\u001b[0m \u001b[32m━━━━━━━━━━━━━━━━━━━━\u001b[0m\u001b[37m\u001b[0m \u001b[1m2s\u001b[0m 21ms/step - d_loss: 0.1048 - d_loss_fake: 0.0289 - d_loss_real: 0.0759 - g_loss: 5.8188\n",
      "Epoch 438/500\n",
      "\u001b[1m98/98\u001b[0m \u001b[32m━━━━━━━━━━━━━━━━━━━━\u001b[0m\u001b[37m\u001b[0m \u001b[1m2s\u001b[0m 21ms/step - d_loss: 0.0914 - d_loss_fake: 0.0254 - d_loss_real: 0.0660 - g_loss: 5.7163\n",
      "Epoch 439/500\n",
      "\u001b[1m98/98\u001b[0m \u001b[32m━━━━━━━━━━━━━━━━━━━━\u001b[0m\u001b[37m\u001b[0m \u001b[1m2s\u001b[0m 21ms/step - d_loss: 0.0993 - d_loss_fake: 0.0272 - d_loss_real: 0.0721 - g_loss: 5.7404\n",
      "Epoch 440/500\n",
      "\u001b[1m98/98\u001b[0m \u001b[32m━━━━━━━━━━━━━━━━━━━━\u001b[0m\u001b[37m\u001b[0m \u001b[1m2s\u001b[0m 21ms/step - d_loss: 0.0955 - d_loss_fake: 0.0267 - d_loss_real: 0.0687 - g_loss: 5.9726\n",
      "Epoch 441/500\n",
      "\u001b[1m98/98\u001b[0m \u001b[32m━━━━━━━━━━━━━━━━━━━━\u001b[0m\u001b[37m\u001b[0m \u001b[1m2s\u001b[0m 22ms/step - d_loss: 0.0902 - d_loss_fake: 0.0244 - d_loss_real: 0.0658 - g_loss: 5.7565\n",
      "Epoch 442/500\n",
      "\u001b[1m98/98\u001b[0m \u001b[32m━━━━━━━━━━━━━━━━━━━━\u001b[0m\u001b[37m\u001b[0m \u001b[1m2s\u001b[0m 21ms/step - d_loss: 0.0967 - d_loss_fake: 0.0296 - d_loss_real: 0.0671 - g_loss: 5.9020\n",
      "Epoch 443/500\n",
      "\u001b[1m98/98\u001b[0m \u001b[32m━━━━━━━━━━━━━━━━━━━━\u001b[0m\u001b[37m\u001b[0m \u001b[1m2s\u001b[0m 21ms/step - d_loss: 0.0934 - d_loss_fake: 0.0268 - d_loss_real: 0.0666 - g_loss: 6.0726\n",
      "Epoch 444/500\n",
      "\u001b[1m98/98\u001b[0m \u001b[32m━━━━━━━━━━━━━━━━━━━━\u001b[0m\u001b[37m\u001b[0m \u001b[1m2s\u001b[0m 21ms/step - d_loss: 0.0925 - d_loss_fake: 0.0272 - d_loss_real: 0.0653 - g_loss: 5.9541\n",
      "Epoch 445/500\n",
      "\u001b[1m98/98\u001b[0m \u001b[32m━━━━━━━━━━━━━━━━━━━━\u001b[0m\u001b[37m\u001b[0m \u001b[1m2s\u001b[0m 21ms/step - d_loss: 0.0941 - d_loss_fake: 0.0269 - d_loss_real: 0.0671 - g_loss: 5.8853\n",
      "Epoch 446/500\n",
      "\u001b[1m98/98\u001b[0m \u001b[32m━━━━━━━━━━━━━━━━━━━━\u001b[0m\u001b[37m\u001b[0m \u001b[1m2s\u001b[0m 22ms/step - d_loss: 0.0970 - d_loss_fake: 0.0275 - d_loss_real: 0.0695 - g_loss: 5.8224\n",
      "Epoch 447/500\n",
      "\u001b[1m98/98\u001b[0m \u001b[32m━━━━━━━━━━━━━━━━━━━━\u001b[0m\u001b[37m\u001b[0m \u001b[1m2s\u001b[0m 21ms/step - d_loss: 0.1122 - d_loss_fake: 0.0320 - d_loss_real: 0.0802 - g_loss: 5.9146\n",
      "Epoch 448/500\n",
      "\u001b[1m98/98\u001b[0m \u001b[32m━━━━━━━━━━━━━━━━━━━━\u001b[0m\u001b[37m\u001b[0m \u001b[1m2s\u001b[0m 21ms/step - d_loss: 0.0936 - d_loss_fake: 0.0264 - d_loss_real: 0.0671 - g_loss: 5.9462\n",
      "Epoch 449/500\n",
      "\u001b[1m34/98\u001b[0m \u001b[32m━━━━━━\u001b[0m\u001b[37m━━━━━━━━━━━━━━\u001b[0m \u001b[1m1s\u001b[0m 21ms/step - d_loss: 0.0962 - d_loss_fake: 0.0289 - d_loss_real: 0.0672 - g_loss: 5.8980"
     ]
    }
   ],
   "source": [
    "hist = gan.fit(dataset, epochs=500, callbacks=[ModelMonitor()])\n",
    "\n",
    "plt.suptitle('Loss')\n",
    "plt.plot(hist.history['d_loss'], label='d_loss')\n",
    "plt.plot(hist.history['d_loss_real'], label='d_loss_real')\n",
    "plt.plot(hist.history['d_loss_fake'], label='d_loss_fake')\n",
    "plt.plot(hist.history['g_loss'], label='g_loss')\n",
    "plt.legend()\n",
    "plt.show()"
   ]
  },
  {
   "cell_type": "code",
   "execution_count": null,
   "metadata": {
    "id": "1mwfdp7TZnxV"
   },
   "outputs": [],
   "source": [
    "# Function to convert images to GIF\n",
    "def convert_images_to_gif(input_folder, output_gif_path):\n",
    "    images = []\n",
    "    for filename in sorted(os.listdir(input_folder)):\n",
    "        if filename.endswith(('.png', '.jpg', '.jpeg')):\n",
    "            img_path = os.path.join(input_folder, filename)\n",
    "            img = Image.open(img_path)\n",
    "            images.append(img)\n",
    "\n",
    "    # Save images as GIF\n",
    "    images[0].save(output_gif_path, save_all=True, append_images=images[1:], duration=200, loop=1)\n",
    "\n",
    "# Example usage\n",
    "input_folder = \"training/\"\n",
    "output_gif_path = \"training.gif\"\n",
    "\n",
    "convert_images_to_gif(input_folder, output_gif_path)"
   ]
  },
  {
   "cell_type": "code",
   "execution_count": null,
   "metadata": {
    "id": "bOLRltYdPl8D"
   },
   "outputs": [],
   "source": [
    "img = generator.predict(tf.random.normal((1, LATENT_FEATURES, 1)))\n",
    "img = (img + 1) / 2\n",
    "plt.imshow(img[0])"
   ]
  },
  {
   "cell_type": "code",
   "execution_count": null,
   "metadata": {
    "id": "fAAFueBgPl8E"
   },
   "outputs": [],
   "source": [
    "with open(\"GAN_history\", 'wb') as file_pi:\n",
    "    pickle.dump(hist.history, file_pi)"
   ]
  },
  {
   "cell_type": "markdown",
   "metadata": {
    "id": "_Fm3Ww6JbK8k",
    "jp-MarkdownHeadingCollapsed": true
   },
   "source": [
    "## Discriminator testing"
   ]
  },
  {
   "cell_type": "code",
   "execution_count": null,
   "metadata": {
    "id": "XJU4Zjd6bK8k"
   },
   "outputs": [],
   "source": [
    "from keras.models import load_model\n",
    "from keras.optimizers import Adam\n",
    "from keras.losses import BinaryCrossentropy\n",
    "discriminator = load_model(DISCRIMINATOR_PATH)\n",
    "discriminator.compile(optimizer=Adam(learning_rate=0.0002,beta_1=0.5),\n",
    "                      loss=BinaryCrossentropy(), metrics=['accuracy'])"
   ]
  },
  {
   "cell_type": "markdown",
   "metadata": {
    "id": "qHLZ3Uur4lDl"
   },
   "source": [
    "### (real + styleGAN) images"
   ]
  },
  {
   "cell_type": "code",
   "execution_count": null,
   "metadata": {
    "id": "b3tomVdubK8k"
   },
   "outputs": [],
   "source": [
    "def sample_each_label(df,no_imgs=25000,shuffle=False):\n",
    "    each_label_images = int(no_imgs / 2)\n",
    "    subset_label_0 = df[df['label'] == 0].sample(n=each_label_images, random_state=69)\n",
    "    subset_label_1 = df[df['label'] == 1].sample(n=each_label_images, random_state=69)\n",
    "    final_subset = pd.concat([subset_label_0, subset_label_1])\n",
    "    if shuffle == True:\n",
    "        final_subset = final_subset.sample(frac=1, random_state=69).reset_index(drop=True)\n",
    "    return final_subset\n",
    "\n",
    "def read_image(image_file, label):\n",
    "    image = tf.io.read_file(\"real_vs_fake/real-vs-fake/\" + image_file)\n",
    "    image = tf.image.decode_jpeg(image, channels=3)\n",
    "    return image, label\n",
    "\n",
    "def augument(image, label):\n",
    "    image = tf.image.resize(image, [IMAGE_HEIGHT, IMAGE_WIDTH], method=tf.image.ResizeMethod.GAUSSIAN)\n",
    "    image = tf.cast(image, tf.float32)\n",
    "    image = (image - 127.5) / 127.5 # Adjusting pixel range between -1 and 1\n",
    "    return image, label"
   ]
  },
  {
   "cell_type": "code",
   "execution_count": null,
   "metadata": {
    "id": "92m4Rh5DbK8k"
   },
   "outputs": [],
   "source": [
    "test  = pd.read_csv(\"real_vs_fake/test.csv\")\n",
    "test = sample_each_label(test,no_imgs=10000,shuffle=False)\n",
    "test_dataset = tf.data.Dataset.from_tensor_slices((test['path'].values,test['label'].values))\n",
    "test_dataset = test_dataset.map(read_image).map(augument).batch(1)"
   ]
  },
  {
   "cell_type": "code",
   "execution_count": null,
   "metadata": {
    "colab": {
     "base_uri": "https://localhost:8080/"
    },
    "id": "tlWBOs35Pl8E",
    "outputId": "11c3581f-f2b2-4a6e-d62c-51726bf35425"
   },
   "outputs": [
    {
     "data": {
      "text/plain": [
       "{'accuracy': 0.490200012922287, 'loss': 7.719520092010498}"
      ]
     },
     "execution_count": 9,
     "metadata": {},
     "output_type": "execute_result"
    }
   ],
   "source": [
    "discriminator.evaluate(test_dataset, verbose=0, return_dict=True)\n",
    "# for batch in test_dataset.take(1):\n",
    "#     print(discriminator.predict(batch, verbose=0))"
   ]
  },
  {
   "cell_type": "markdown",
   "metadata": {
    "id": "Gi94SREdPl8E"
   },
   "source": [
    "### (real + generator) images"
   ]
  },
  {
   "cell_type": "code",
   "execution_count": null,
   "metadata": {
    "id": "YMU0Afb_bK8l"
   },
   "outputs": [],
   "source": [
    "def save_fake(output_dir,num_images=1000, verbose=False):\n",
    "    generator = tf.keras.models.load_model(GENERATOR_PATH)\n",
    "    generator.compile(optimizer=tf.keras.optimizers.Adam(learning_rate=0.0002,beta_1=0.5),\n",
    "                        loss=tf.keras.losses.BinaryCrossentropy(), metrics=['accuracy'])\n",
    "\n",
    "    os.makedirs(output_dir, exist_ok=True)\n",
    "\n",
    "    generated_images = generator.predict(tf.random.normal((num_images, LATENT_FEATURES, 1)),verbose=0)\n",
    "\n",
    "    for i in range(num_images):\n",
    "        image = generated_images[i]\n",
    "        image = (image + 1) / 2\n",
    "        image_path = os.path.join(output_dir, f\"{i}.jpg\")\n",
    "        tf.keras.preprocessing.image.save_img(image_path, image)\n",
    "    if verbose:\n",
    "        print(f\"{i + 1} images generated and saved to {output_dir}.\")\n",
    "\n",
    "def save_real(df, destination_dir, num_images=1000):\n",
    "    subset_label_1 = df[df['label'] == 1].sample(n=num_images, random_state=69)\n",
    "    os.makedirs(destination_dir, exist_ok=True)\n",
    "    for i, file_path in enumerate(subset_label_1['path'].tolist()):\n",
    "        with Image.open(file_path) as img:\n",
    "            output_path = os.path.join(destination_dir, f\"{i}.jpg\")\n",
    "            img.save(output_path)\n",
    "    print(f\"{num_images} images saved to {destination_dir}.\")\n",
    "\n",
    "def augument(x, y):\n",
    "    img = tf.cast(x, tf.float32)\n",
    "    img = (img - 127.5) / 127.5\n",
    "    return img, y"
   ]
  },
  {
   "cell_type": "code",
   "execution_count": null,
   "metadata": {
    "id": "osRRljoTbK8n"
   },
   "outputs": [],
   "source": [
    "save_fake(\"resnet_data/test/0\",num_images=5000)\n",
    "test  = pd.read_csv(\"real_vs_fake/test.csv\")\n",
    "save_real(test, \"resnet_data/test/1\", num_images=5000)"
   ]
  },
  {
   "cell_type": "code",
   "execution_count": null,
   "metadata": {
    "id": "roqqWOBmbK8n"
   },
   "outputs": [],
   "source": [
    "test_dataset_generator = tf.keras.preprocessing.image_dataset_from_directory(\n",
    "    \"resnet_data/test\",\n",
    "    labels=\"inferred\",\n",
    "    label_mode=\"binary\",\n",
    "    batch_size=BATCH_SIZE,\n",
    "    image_size=(IMAGE_HEIGHT, IMAGE_WIDTH),\n",
    "    interpolation='gaussian',\n",
    "    shuffle=True,\n",
    "    seed=69,\n",
    ")\n",
    "test_dataset_generator = test_dataset_generator.map(augument)"
   ]
  },
  {
   "cell_type": "code",
   "execution_count": null,
   "metadata": {
    "id": "egReReeBbK8n"
   },
   "outputs": [],
   "source": [
    "for batch, labels in test_dataset_generator.take(1):\n",
    "    batch = (batch + 1) / 2\n",
    "    num_images = 3\n",
    "    for i in range(num_images):\n",
    "        plt.subplot(1,num_images,i+1)\n",
    "        plt.imshow(batch[i])\n",
    "        plt.title(f\"Label:{labels[i]}\")\n",
    "        plt.axis(\"off\")\n",
    "    plt.show()"
   ]
  },
  {
   "cell_type": "code",
   "execution_count": null,
   "metadata": {
    "id": "IULI4WXtPl8L",
    "outputId": "2ceb2a86-b3c5-4335-c75c-b60917192c80"
   },
   "outputs": [
    {
     "data": {
      "text/plain": [
       "{'loss': 0.23886162042617798, 'accuracy': 0.9139500260353088}"
      ]
     },
     "execution_count": 25,
     "metadata": {},
     "output_type": "execute_result"
    }
   ],
   "source": [
    "discriminator.evaluate(test_dataset_generator, verbose=0,return_dict=True)"
   ]
  },
  {
   "cell_type": "markdown",
   "metadata": {
    "id": "CoFwbeZFPl8L",
    "jp-MarkdownHeadingCollapsed": true
   },
   "source": [
    "## Further training with styleGAN images + real images"
   ]
  },
  {
   "cell_type": "code",
   "execution_count": null,
   "metadata": {
    "colab": {
     "base_uri": "https://localhost:8080/"
    },
    "id": "TUbXgI6QRevy",
    "outputId": "e9b1eb85-0940-45da-e69f-0b716538cb9f"
   },
   "outputs": [
    {
     "name": "stdout",
     "output_type": "stream",
     "text": [
      "WARNING:tensorflow:No training configuration found in the save file, so the model was *not* compiled. Compile it manually.\n"
     ]
    }
   ],
   "source": [
    "from keras.models import load_model\n",
    "os.makedirs(\"models/\", exist_ok=True)\n",
    "discriminator = load_model(\"models/discriminator.keras\")\n",
    "discriminator.compile(optimizer=Adam(learning_rate=0.002,beta_1=0.5),\n",
    "                      loss=BinaryCrossentropy(), metrics=['accuracy'])"
   ]
  },
  {
   "cell_type": "code",
   "execution_count": null,
   "metadata": {
    "id": "SgeXgSPuMjcK"
   },
   "outputs": [],
   "source": [
    "# SWITCH THIS WITH IMAGEDATAGENERATOR\n",
    "train = pd.read_csv(\"real_vs_fake/train.csv\")\n",
    "valid = pd.read_csv(\"real_vs_fake/valid.csv\")\n",
    "test  = pd.read_csv(\"real_vs_fake/test.csv\")\n",
    "\n",
    "def random_n_images(df,no_imgs=25000,shuffle=False):\n",
    "    each_label_images = int(no_imgs / 2)\n",
    "    subset_label_0 = df[df['label'] == 0].sample(n=each_label_images, random_state=69)\n",
    "    subset_label_1 = df[df['label'] == 1].sample(n=each_label_images, random_state=69)\n",
    "    final_subset = pd.concat([subset_label_0, subset_label_1])\n",
    "    if shuffle == True:\n",
    "        final_subset = final_subset.sample(frac=1, random_state=69).reset_index(drop=True)\n",
    "    return final_subset\n",
    "\n",
    "def read_image(image_file, label):\n",
    "    image = tf.io.read_file(\"real_vs_fake/real-vs-fake/\" + image_file)\n",
    "    image = tf.image.decode_jpeg(image, channels=3)\n",
    "    return image, label\n",
    "\n",
    "def augument(image, label):\n",
    "    image = tf.image.resize(image, [image_height, image_width], method=tf.image.ResizeMethod.GAUSSIAN)\n",
    "    image = tf.image.rot90(image, tf.random.uniform(shape=[], minval=0, maxval=4, dtype=tf.int32))\n",
    "    image = tf.cast(image, tf.float32)\n",
    "    image = (image - 127.5) / 127.5\n",
    "    return image, label\n",
    "\n",
    "def create_data(csv_path, no_imgs=25000, shuffle=False):\n",
    "    df = pd.read_csv(csv_path)\n",
    "    df_subset = random_n_images(df,no_imgs=no_imgs,shuffle=shuffle)\n",
    "    data = tf.data.Dataset.from_tensor_slices((df_subset['path'].values,df_subset['label'].values))\n",
    "    return\n",
    "\n",
    "train_data = create_data(\"real_vs_fake/train.csv\", no_imgs=50000, shuffle=True)\n",
    "valid_data = create_data(\"real_vs_fake/valid.csv\", no_imgs=10000, shuffle=False)\n",
    "test_data = create_data(\"real_vs_fake/test.csv\", no_imgs=20000, shuffle=False)\n",
    "\n",
    "\n",
    "train_data = train_data.map(read_image).map(augument).batch(BATCH_SIZE).prefetch(1)\n",
    "validation_data = validation_data.map(read_image).map(augument).batch(BATCH_SIZE).prefetch(1)\n",
    "test_data = test_data.map(read_image).map(augument).batch(1)"
   ]
  },
  {
   "cell_type": "code",
   "execution_count": null,
   "metadata": {
    "id": "225JU2i2Pl8L"
   },
   "outputs": [],
   "source": [
    "train_generator = tf.keras.preprocessing.image.ImageDataGenerator(\n",
    "    rotation_range=45,\n",
    "    brightness_range=(0.5, 1.5),\n",
    "    shear_range=.5,\n",
    "    fill_mode=\"nearest\",\n",
    "    horizontal_flip=.5,\n",
    "    preprocessing_function=lambda x: (x - 127.5) / 127.5,\n",
    "    dtype=np.float32,\n",
    "    validation_split=.5\n",
    ")\n",
    "\n",
    "validation_generator = tf.keras.preprocessing.image.ImageDataGenerator(\n",
    "    preprocessing_function=lambda x: (x - 127.5) / 127.5,\n",
    "    dtype=np.float32,\n",
    "    validation_split=.5\n",
    ")\n",
    "\n",
    "test_generator = tf.keras.preprocessing.image.ImageDataGenerator(\n",
    "    preprocessing_function=lambda x: (x - 127.5) / 127.5,\n",
    "    dtype=np.float32,\n",
    ")"
   ]
  },
  {
   "cell_type": "code",
   "execution_count": null,
   "metadata": {
    "colab": {
     "base_uri": "https://localhost:8080/"
    },
    "id": "LF2JTTsIPl8L",
    "outputId": "11ab4ab8-9ab8-43d7-e127-2ffcaec0cc10"
   },
   "outputs": [
    {
     "name": "stdout",
     "output_type": "stream",
     "text": [
      "Found 50000 images belonging to 2 classes.\n",
      "Found 10000 images belonging to 2 classes.\n",
      "Found 20000 images belonging to 2 classes.\n"
     ]
    }
   ],
   "source": [
    "train_data = train_generator.flow_from_directory(\n",
    "    \"real_vs_fake/real-vs-fake/train\",\n",
    "    target_size=(image_height, image_width),\n",
    "    class_mode=\"binary\",\n",
    "    batch_size=BATCH_SIZE,\n",
    "    shuffle=True,\n",
    "    seed=69,\n",
    "    interpolation=\"nearest\",\n",
    "    # keep_aspect_ratio=False,\n",
    "    subset=\"training\"\n",
    ")\n",
    "\n",
    "validation_data = train_generator.flow_from_directory(\n",
    "    \"real_vs_fake/real-vs-fake/valid\",\n",
    "    target_size=(image_height, image_width),\n",
    "    class_mode=\"binary\",\n",
    "    batch_size=BATCH_SIZE,\n",
    "    shuffle=True,\n",
    "    seed=69,\n",
    "    interpolation=\"nearest\",\n",
    "    # keep_aspect_ratio=False,\n",
    "    subset=\"validation\"\n",
    ")\n",
    "\n",
    "test_data = train_generator.flow_from_directory(\n",
    "    \"real_vs_fake/real-vs-fake/test\",\n",
    "    target_size=(image_height, image_width),\n",
    "    class_mode=\"binary\",\n",
    "    batch_size=BATCH_SIZE,\n",
    "    shuffle=True,\n",
    "    seed=69,\n",
    "    interpolation=\"nearest\",\n",
    "    # keep_aspect_ratio=False,\n",
    ")"
   ]
  },
  {
   "cell_type": "code",
   "execution_count": null,
   "metadata": {
    "colab": {
     "base_uri": "https://localhost:8080/",
     "height": 205
    },
    "id": "OC8OsJ3KPl8L",
    "outputId": "a7f350a0-0e09-4d83-c307-2429cac21847"
   },
   "outputs": [
    {
     "data": {
      "image/png": "[encoded data removed]",
      "text/plain": [
       "<Figure size 640x480 with 3 Axes>"
      ]
     },
     "metadata": {},
     "output_type": "display_data"
    }
   ],
   "source": [
    "images, labels = train_data.next()\n",
    "for i in range(3):\n",
    "    plt.subplot(1,3,i+1)\n",
    "    image = images[i]\n",
    "    image = (image + 1) / 2\n",
    "    plt.imshow(image)\n",
    "    plt.title(f\"Label:{labels[i]}\")\n",
    "    plt.axis(\"off\")\n",
    "plt.show()"
   ]
  },
  {
   "cell_type": "code",
   "execution_count": null,
   "metadata": {
    "id": "uEEUT_hIPl8L"
   },
   "outputs": [],
   "source": [
    "cp_callback = tf.keras.callbacks.ModelCheckpoint(\"models/discriminator_separate_trained.keras\",monitor=\"val_loss\")"
   ]
  },
  {
   "cell_type": "code",
   "execution_count": null,
   "metadata": {
    "colab": {
     "base_uri": "https://localhost:8080/"
    },
    "id": "t0H3rWExPl8M",
    "outputId": "9e1e1af1-eae8-4c64-aa67-21842020c67d"
   },
   "outputs": [
    {
     "name": "stdout",
     "output_type": "stream",
     "text": [
      "Epoch 1/10\n",
      "196/196 [==============================] - 174s 839ms/step - loss: 0.8065 - accuracy: 0.5703 - val_loss: 0.7289 - val_accuracy: 0.5545\n",
      "Epoch 2/10\n",
      "196/196 [==============================] - 147s 752ms/step - loss: 0.6741 - accuracy: 0.6181 - val_loss: 0.6835 - val_accuracy: 0.5965\n",
      "Epoch 3/10\n",
      "196/196 [==============================] - 144s 735ms/step - loss: 0.6459 - accuracy: 0.6410 - val_loss: 0.6249 - val_accuracy: 0.6443\n",
      "Epoch 4/10\n",
      "196/196 [==============================] - 161s 825ms/step - loss: 0.6276 - accuracy: 0.6606 - val_loss: 0.6089 - val_accuracy: 0.6573\n",
      "Epoch 5/10\n",
      "196/196 [==============================] - 142s 727ms/step - loss: 0.6115 - accuracy: 0.6735 - val_loss: 0.7736 - val_accuracy: 0.5711\n",
      "Epoch 6/10\n",
      "196/196 [==============================] - 144s 734ms/step - loss: 0.5992 - accuracy: 0.6829 - val_loss: 0.6345 - val_accuracy: 0.6408\n",
      "Epoch 7/10\n",
      "196/196 [==============================] - 155s 790ms/step - loss: 0.5890 - accuracy: 0.6895 - val_loss: 0.5935 - val_accuracy: 0.6739\n",
      "Epoch 8/10\n",
      "196/196 [==============================] - 146s 746ms/step - loss: 0.5826 - accuracy: 0.6977 - val_loss: 0.5578 - val_accuracy: 0.7029\n",
      "Epoch 9/10\n",
      "196/196 [==============================] - 144s 736ms/step - loss: 0.5755 - accuracy: 0.7032 - val_loss: 0.6285 - val_accuracy: 0.6548\n",
      "Epoch 10/10\n",
      "196/196 [==============================] - 147s 751ms/step - loss: 0.5610 - accuracy: 0.7121 - val_loss: 0.5830 - val_accuracy: 0.6827\n"
     ]
    }
   ],
   "source": [
    "discriminator_history = discriminator.fit(train_data,validation_data=validation_data,callbacks=[cp_callback], epochs=10)"
   ]
  },
  {
   "cell_type": "code",
   "execution_count": null,
   "metadata": {
    "colab": {
     "base_uri": "https://localhost:8080/"
    },
    "id": "Z8NYjwY9Pl8M",
    "outputId": "415cb75d-0c4e-458f-ff6f-dcc62a4a9bd7"
   },
   "outputs": [
    {
     "data": {
      "text/plain": [
       "{'loss': 0.5756312608718872, 'accuracy': 0.6858999729156494}"
      ]
     },
     "execution_count": 16,
     "metadata": {},
     "output_type": "execute_result"
    }
   ],
   "source": [
    "discriminator.evaluate(test_data, verbose=0,return_dict=True)"
   ]
  },
  {
   "cell_type": "code",
   "execution_count": null,
   "metadata": {
    "id": "oucAjp_4dOFR"
   },
   "outputs": [],
   "source": []
  }
 ],
 "metadata": {
  "accelerator": "GPU",
  "colab": {
   "gpuType": "T4",
   "provenance": []
  },
  "kernelspec": {
   "display_name": "Python 3",
   "language": "python",
   "name": "python3"
  },
  "language_info": {
   "codemirror_mode": {
    "name": "ipython",
    "version": 3
   },
   "file_extension": ".py",
   "mimetype": "text/x-python",
   "name": "python",
   "nbconvert_exporter": "python",
   "pygments_lexer": "ipython3",
   "version": "3.13.2"
  }
 },
 "nbformat": 4,
 "nbformat_minor": 4
}
